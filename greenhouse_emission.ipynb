{
 "cells": [
  {
   "cell_type": "markdown",
   "metadata": {},
   "source": [
    "In this project, we will create tables and charts to analyze greenhouse gas emission data in Brazil. Concluding this course, we will be able to select, filter and group data."
   ]
  },
  {
   "cell_type": "markdown",
   "metadata": {},
   "source": [
    "#### Palette colors"
   ]
  },
  {
   "cell_type": "code",
   "execution_count": 1,
   "metadata": {},
   "outputs": [],
   "source": [
    "# color to be used in charts\n",
    "AZUL1, AZUL2, AZUL3, AZUL4, AZUL5 = '#03045e', '#0077b6', \"#00b4d8\",'#90e0ef', '#CDDBF3'\n",
    "CINZA1, CINZA2, CINZA3, CINZA4, CINZA5 = '#212529', '#495057','#adb5bd', '#dee2e6', '#f8f9fa'\n",
    "VERMELHO1, LARANJA1, AMARELO1, VERDE1, VERDE2 = '#e76f51', '#f4a261','#e9c46a', '#4c956c', '#2a9d8f'"
   ]
  },
  {
   "cell_type": "markdown",
   "metadata": {},
   "source": [
    "# Importing database"
   ]
  },
  {
   "cell_type": "code",
   "execution_count": 2,
   "metadata": {},
   "outputs": [],
   "source": [
    "import pandas as pd"
   ]
  },
  {
   "cell_type": "code",
   "execution_count": 3,
   "metadata": {},
   "outputs": [],
   "source": [
    "file = '1-SEEG10_GERAL-BR_UF_2022.10.27-FINAL-SITE.xlsx'"
   ]
  },
  {
   "cell_type": "code",
   "execution_count": 88,
   "metadata": {},
   "outputs": [],
   "source": [
    "dados = pd.read_csv('gas_emissions.csv', dtype='str')\n",
    "colunas = list(dados.iloc[:,11:].columns)\n",
    "dados[colunas] = dados[colunas].astype(float)"
   ]
  },
  {
   "cell_type": "code",
   "execution_count": 92,
   "metadata": {},
   "outputs": [],
   "source": [
    "colunas = list(dados.iloc[:,11:].columns)\n",
    "dados[colunas] = dados[colunas].astype(float)"
   ]
  },
  {
   "cell_type": "code",
   "execution_count": 93,
   "metadata": {},
   "outputs": [
    {
     "name": "stdout",
     "output_type": "stream",
     "text": [
      "<class 'pandas.core.frame.DataFrame'>\n",
      "RangeIndex: 103312 entries, 0 to 103311\n",
      "Data columns (total 63 columns):\n",
      " #   Column                      Non-Null Count   Dtype  \n",
      "---  ------                      --------------   -----  \n",
      " 0   Nível 1 - Setor             103312 non-null  object \n",
      " 1   Nível 2                     103312 non-null  object \n",
      " 2   Nível 3                     103253 non-null  object \n",
      " 3   Nível 4                     90920 non-null   object \n",
      " 4   Nível 5                     100788 non-null  object \n",
      " 5   Nível 6                     97691 non-null   object \n",
      " 6   Emissão / Remoção / Bunker  103312 non-null  object \n",
      " 7   Gás                         103312 non-null  object \n",
      " 8   Estado                      97374 non-null   object \n",
      " 9   Atividade Econômica         102076 non-null  object \n",
      " 10  Produto                     37413 non-null   object \n",
      " 11  1970                        103312 non-null  float64\n",
      " 12  1971                        103312 non-null  float64\n",
      " 13  1972                        103312 non-null  float64\n",
      " 14  1973                        103312 non-null  float64\n",
      " 15  1974                        103312 non-null  float64\n",
      " 16  1975                        103312 non-null  float64\n",
      " 17  1976                        103312 non-null  float64\n",
      " 18  1977                        103312 non-null  float64\n",
      " 19  1978                        103312 non-null  float64\n",
      " 20  1979                        103312 non-null  float64\n",
      " 21  1980                        103312 non-null  float64\n",
      " 22  1981                        103312 non-null  float64\n",
      " 23  1982                        103312 non-null  float64\n",
      " 24  1983                        103312 non-null  float64\n",
      " 25  1984                        103312 non-null  float64\n",
      " 26  1985                        103312 non-null  float64\n",
      " 27  1986                        103312 non-null  float64\n",
      " 28  1987                        103312 non-null  float64\n",
      " 29  1988                        103312 non-null  float64\n",
      " 30  1989                        103312 non-null  float64\n",
      " 31  1990                        103312 non-null  float64\n",
      " 32  1991                        103312 non-null  float64\n",
      " 33  1992                        103312 non-null  float64\n",
      " 34  1993                        103312 non-null  float64\n",
      " 35  1994                        103312 non-null  float64\n",
      " 36  1995                        103312 non-null  float64\n",
      " 37  1996                        103312 non-null  float64\n",
      " 38  1997                        103312 non-null  float64\n",
      " 39  1998                        103312 non-null  float64\n",
      " 40  1999                        103312 non-null  float64\n",
      " 41  2000                        103312 non-null  float64\n",
      " 42  2001                        103312 non-null  float64\n",
      " 43  2002                        103312 non-null  float64\n",
      " 44  2003                        103312 non-null  float64\n",
      " 45  2004                        103312 non-null  float64\n",
      " 46  2005                        103312 non-null  float64\n",
      " 47  2006                        103312 non-null  float64\n",
      " 48  2007                        103312 non-null  float64\n",
      " 49  2008                        103312 non-null  float64\n",
      " 50  2009                        103312 non-null  float64\n",
      " 51  2010                        103312 non-null  float64\n",
      " 52  2011                        103312 non-null  float64\n",
      " 53  2012                        103312 non-null  float64\n",
      " 54  2013                        103312 non-null  float64\n",
      " 55  2014                        103312 non-null  float64\n",
      " 56  2015                        103312 non-null  float64\n",
      " 57  2016                        103312 non-null  float64\n",
      " 58  2017                        103312 non-null  float64\n",
      " 59  2018                        103312 non-null  float64\n",
      " 60  2019                        103312 non-null  float64\n",
      " 61  2020                        103312 non-null  float64\n",
      " 62  2021                        103312 non-null  float64\n",
      "dtypes: float64(52), object(11)\n",
      "memory usage: 49.7+ MB\n"
     ]
    }
   ],
   "source": [
    "dados.info()"
   ]
  },
  {
   "cell_type": "code",
   "execution_count": 4,
   "metadata": {},
   "outputs": [
    {
     "name": "stderr",
     "output_type": "stream",
     "text": [
      "c:\\Users\\63\\AppData\\Local\\Programs\\Python\\Python311\\Lib\\site-packages\\openpyxl\\worksheet\\_reader.py:329: UserWarning: Unknown extension is not supported and will be removed\n",
      "  warn(msg)\n"
     ]
    }
   ],
   "source": [
    "gas_emission = pd.read_excel(file, sheet_name= 'GEE Estados')\n"
   ]
  },
  {
   "cell_type": "code",
   "execution_count": 79,
   "metadata": {},
   "outputs": [],
   "source": [
    "gas_emission.to_csv('gas_emissions.csv', index = False)"
   ]
  },
  {
   "cell_type": "code",
   "execution_count": 5,
   "metadata": {},
   "outputs": [
    {
     "data": {
      "text/html": [
       "<div>\n",
       "<style scoped>\n",
       "    .dataframe tbody tr th:only-of-type {\n",
       "        vertical-align: middle;\n",
       "    }\n",
       "\n",
       "    .dataframe tbody tr th {\n",
       "        vertical-align: top;\n",
       "    }\n",
       "\n",
       "    .dataframe thead th {\n",
       "        text-align: right;\n",
       "    }\n",
       "</style>\n",
       "<table border=\"1\" class=\"dataframe\">\n",
       "  <thead>\n",
       "    <tr style=\"text-align: right;\">\n",
       "      <th></th>\n",
       "      <th>Nível 1 - Setor</th>\n",
       "      <th>Nível 2</th>\n",
       "      <th>Nível 3</th>\n",
       "      <th>Nível 4</th>\n",
       "      <th>Nível 5</th>\n",
       "      <th>Nível 6</th>\n",
       "      <th>Emissão / Remoção / Bunker</th>\n",
       "      <th>Gás</th>\n",
       "      <th>Estado</th>\n",
       "      <th>Atividade Econômica</th>\n",
       "      <th>...</th>\n",
       "      <th>2012</th>\n",
       "      <th>2013</th>\n",
       "      <th>2014</th>\n",
       "      <th>2015</th>\n",
       "      <th>2016</th>\n",
       "      <th>2017</th>\n",
       "      <th>2018</th>\n",
       "      <th>2019</th>\n",
       "      <th>2020</th>\n",
       "      <th>2021</th>\n",
       "    </tr>\n",
       "  </thead>\n",
       "  <tbody>\n",
       "    <tr>\n",
       "      <th>0</th>\n",
       "      <td>Processos Industriais</td>\n",
       "      <td>Indústria Química</td>\n",
       "      <td>Produção de ABS</td>\n",
       "      <td>NaN</td>\n",
       "      <td>NaN</td>\n",
       "      <td>NaN</td>\n",
       "      <td>Emissão</td>\n",
       "      <td>COVNM (t)</td>\n",
       "      <td>SP</td>\n",
       "      <td>OUTRA_IND</td>\n",
       "      <td>...</td>\n",
       "      <td>897.600</td>\n",
       "      <td>897.600</td>\n",
       "      <td>897.600</td>\n",
       "      <td>897.600</td>\n",
       "      <td>897.600</td>\n",
       "      <td>897.600</td>\n",
       "      <td>897.600</td>\n",
       "      <td>897.600</td>\n",
       "      <td>897.600</td>\n",
       "      <td>897.600</td>\n",
       "    </tr>\n",
       "    <tr>\n",
       "      <th>1</th>\n",
       "      <td>Processos Industriais</td>\n",
       "      <td>Indústria Química</td>\n",
       "      <td>Produção de Ácido Adípico</td>\n",
       "      <td>NaN</td>\n",
       "      <td>NaN</td>\n",
       "      <td>NaN</td>\n",
       "      <td>Emissão</td>\n",
       "      <td>N2O (t)</td>\n",
       "      <td>SP</td>\n",
       "      <td>OUTRA_IND</td>\n",
       "      <td>...</td>\n",
       "      <td>130.000</td>\n",
       "      <td>130.000</td>\n",
       "      <td>130.000</td>\n",
       "      <td>130.000</td>\n",
       "      <td>130.000</td>\n",
       "      <td>130.000</td>\n",
       "      <td>130.000</td>\n",
       "      <td>130.000</td>\n",
       "      <td>130.000</td>\n",
       "      <td>130.000</td>\n",
       "    </tr>\n",
       "    <tr>\n",
       "      <th>2</th>\n",
       "      <td>Processos Industriais</td>\n",
       "      <td>Indústria Química</td>\n",
       "      <td>Produção de Ácido Adípico</td>\n",
       "      <td>NaN</td>\n",
       "      <td>NaN</td>\n",
       "      <td>NaN</td>\n",
       "      <td>Emissão</td>\n",
       "      <td>CO (t)</td>\n",
       "      <td>SP</td>\n",
       "      <td>OUTRA_IND</td>\n",
       "      <td>...</td>\n",
       "      <td>1380.576</td>\n",
       "      <td>1380.576</td>\n",
       "      <td>1380.576</td>\n",
       "      <td>1380.576</td>\n",
       "      <td>1380.576</td>\n",
       "      <td>1380.576</td>\n",
       "      <td>1380.576</td>\n",
       "      <td>1380.576</td>\n",
       "      <td>1380.576</td>\n",
       "      <td>1380.576</td>\n",
       "    </tr>\n",
       "  </tbody>\n",
       "</table>\n",
       "<p>3 rows × 63 columns</p>\n",
       "</div>"
      ],
      "text/plain": [
       "         Nível 1 - Setor            Nível 2                    Nível 3  \\\n",
       "0  Processos Industriais  Indústria Química            Produção de ABS   \n",
       "1  Processos Industriais  Indústria Química  Produção de Ácido Adípico   \n",
       "2  Processos Industriais  Indústria Química  Produção de Ácido Adípico   \n",
       "\n",
       "  Nível 4 Nível 5 Nível 6 Emissão / Remoção / Bunker        Gás Estado  \\\n",
       "0     NaN     NaN     NaN                    Emissão  COVNM (t)     SP   \n",
       "1     NaN     NaN     NaN                    Emissão    N2O (t)     SP   \n",
       "2     NaN     NaN     NaN                    Emissão     CO (t)     SP   \n",
       "\n",
       "  Atividade Econômica  ...      2012      2013      2014      2015      2016  \\\n",
       "0           OUTRA_IND  ...   897.600   897.600   897.600   897.600   897.600   \n",
       "1           OUTRA_IND  ...   130.000   130.000   130.000   130.000   130.000   \n",
       "2           OUTRA_IND  ...  1380.576  1380.576  1380.576  1380.576  1380.576   \n",
       "\n",
       "       2017      2018      2019      2020      2021  \n",
       "0   897.600   897.600   897.600   897.600   897.600  \n",
       "1   130.000   130.000   130.000   130.000   130.000  \n",
       "2  1380.576  1380.576  1380.576  1380.576  1380.576  \n",
       "\n",
       "[3 rows x 63 columns]"
      ]
     },
     "execution_count": 5,
     "metadata": {},
     "output_type": "execute_result"
    }
   ],
   "source": [
    "gas_emission.head(3)"
   ]
  },
  {
   "cell_type": "markdown",
   "metadata": {},
   "source": [
    "## Data informations"
   ]
  },
  {
   "cell_type": "code",
   "execution_count": 6,
   "metadata": {},
   "outputs": [
    {
     "data": {
      "text/plain": [
       "(103312, 63)"
      ]
     },
     "execution_count": 6,
     "metadata": {},
     "output_type": "execute_result"
    }
   ],
   "source": [
    "gas_emission.shape"
   ]
  },
  {
   "cell_type": "code",
   "execution_count": 7,
   "metadata": {},
   "outputs": [
    {
     "data": {
      "text/plain": [
       "Index([           'Nível 1 - Setor',                    'Nível 2',\n",
       "                          'Nível 3',                    'Nível 4',\n",
       "                          'Nível 5',                    'Nível 6',\n",
       "       'Emissão / Remoção / Bunker',                        'Gás',\n",
       "                           'Estado',        'Atividade Econômica',\n",
       "                          'Produto',                         1970,\n",
       "                               1971,                         1972,\n",
       "                               1973,                         1974,\n",
       "                               1975,                         1976,\n",
       "                               1977,                         1978,\n",
       "                               1979,                         1980,\n",
       "                               1981,                         1982,\n",
       "                               1983,                         1984,\n",
       "                               1985,                         1986,\n",
       "                               1987,                         1988,\n",
       "                               1989,                         1990,\n",
       "                               1991,                         1992,\n",
       "                               1993,                         1994,\n",
       "                               1995,                         1996,\n",
       "                               1997,                         1998,\n",
       "                               1999,                         2000,\n",
       "                               2001,                         2002,\n",
       "                               2003,                         2004,\n",
       "                               2005,                         2006,\n",
       "                               2007,                         2008,\n",
       "                               2009,                         2010,\n",
       "                               2011,                         2012,\n",
       "                               2013,                         2014,\n",
       "                               2015,                         2016,\n",
       "                               2017,                         2018,\n",
       "                               2019,                         2020,\n",
       "                               2021],\n",
       "      dtype='object')"
      ]
     },
     "execution_count": 7,
     "metadata": {},
     "output_type": "execute_result"
    }
   ],
   "source": [
    "gas_emission.columns"
   ]
  },
  {
   "cell_type": "code",
   "execution_count": 8,
   "metadata": {},
   "outputs": [
    {
     "name": "stdout",
     "output_type": "stream",
     "text": [
      "<class 'pandas.core.frame.DataFrame'>\n",
      "RangeIndex: 103312 entries, 0 to 103311\n",
      "Data columns (total 63 columns):\n",
      " #   Column                      Non-Null Count   Dtype  \n",
      "---  ------                      --------------   -----  \n",
      " 0   Nível 1 - Setor             103312 non-null  object \n",
      " 1   Nível 2                     103312 non-null  object \n",
      " 2   Nível 3                     103253 non-null  object \n",
      " 3   Nível 4                     90920 non-null   object \n",
      " 4   Nível 5                     100788 non-null  object \n",
      " 5   Nível 6                     97691 non-null   object \n",
      " 6   Emissão / Remoção / Bunker  103312 non-null  object \n",
      " 7   Gás                         103312 non-null  object \n",
      " 8   Estado                      97374 non-null   object \n",
      " 9   Atividade Econômica         102076 non-null  object \n",
      " 10  Produto                     37413 non-null   object \n",
      " 11  1970                        103312 non-null  float64\n",
      " 12  1971                        103312 non-null  float64\n",
      " 13  1972                        103312 non-null  float64\n",
      " 14  1973                        103312 non-null  float64\n",
      " 15  1974                        103312 non-null  float64\n",
      " 16  1975                        103312 non-null  float64\n",
      " 17  1976                        103312 non-null  float64\n",
      " 18  1977                        103312 non-null  float64\n",
      " 19  1978                        103312 non-null  float64\n",
      " 20  1979                        103312 non-null  float64\n",
      " 21  1980                        103312 non-null  float64\n",
      " 22  1981                        103312 non-null  float64\n",
      " 23  1982                        103312 non-null  float64\n",
      " 24  1983                        103312 non-null  float64\n",
      " 25  1984                        103312 non-null  float64\n",
      " 26  1985                        103312 non-null  float64\n",
      " 27  1986                        103312 non-null  float64\n",
      " 28  1987                        103312 non-null  float64\n",
      " 29  1988                        103312 non-null  float64\n",
      " 30  1989                        103312 non-null  float64\n",
      " 31  1990                        103312 non-null  float64\n",
      " 32  1991                        103312 non-null  float64\n",
      " 33  1992                        103312 non-null  float64\n",
      " 34  1993                        103312 non-null  float64\n",
      " 35  1994                        103312 non-null  float64\n",
      " 36  1995                        103312 non-null  float64\n",
      " 37  1996                        103312 non-null  float64\n",
      " 38  1997                        103312 non-null  float64\n",
      " 39  1998                        103312 non-null  float64\n",
      " 40  1999                        103312 non-null  float64\n",
      " 41  2000                        103312 non-null  float64\n",
      " 42  2001                        103312 non-null  float64\n",
      " 43  2002                        103312 non-null  float64\n",
      " 44  2003                        103312 non-null  float64\n",
      " 45  2004                        103312 non-null  float64\n",
      " 46  2005                        103312 non-null  float64\n",
      " 47  2006                        103312 non-null  float64\n",
      " 48  2007                        103312 non-null  float64\n",
      " 49  2008                        103312 non-null  float64\n",
      " 50  2009                        103312 non-null  float64\n",
      " 51  2010                        103312 non-null  float64\n",
      " 52  2011                        103312 non-null  float64\n",
      " 53  2012                        103312 non-null  float64\n",
      " 54  2013                        103312 non-null  float64\n",
      " 55  2014                        103312 non-null  float64\n",
      " 56  2015                        103312 non-null  float64\n",
      " 57  2016                        103312 non-null  float64\n",
      " 58  2017                        103312 non-null  float64\n",
      " 59  2018                        103312 non-null  float64\n",
      " 60  2019                        103312 non-null  float64\n",
      " 61  2020                        103312 non-null  float64\n",
      " 62  2021                        103312 non-null  float64\n",
      "dtypes: float64(52), object(11)\n",
      "memory usage: 49.7+ MB\n"
     ]
    }
   ],
   "source": [
    "gas_emission.info()"
   ]
  },
  {
   "cell_type": "markdown",
   "metadata": {},
   "source": [
    "# Exploration"
   ]
  },
  {
   "cell_type": "markdown",
   "metadata": {},
   "source": [
    "## Data exploration"
   ]
  },
  {
   "cell_type": "markdown",
   "metadata": {},
   "source": [
    "How the team wants to know data about gas emissions registered in Brazilian national inventary, we will remove every information that won't be useful for us. So, we will remove data from  Emissão / Remoção / Bunker which isn't Emissão."
   ]
  },
  {
   "cell_type": "markdown",
   "metadata": {},
   "source": [
    "Besides this, we gonna see if every data in Remoção is negative."
   ]
  },
  {
   "cell_type": "code",
   "execution_count": 9,
   "metadata": {},
   "outputs": [
    {
     "data": {
      "text/plain": [
       "array(['Emissão', 'Emissão NCI', 'Remoção NCI', 'Bunker', 'Remoção'],\n",
       "      dtype=object)"
      ]
     },
     "execution_count": 9,
     "metadata": {},
     "output_type": "execute_result"
    }
   ],
   "source": [
    "gas_emission['Emissão / Remoção / Bunker'].unique()"
   ]
  },
  {
   "cell_type": "code",
   "execution_count": 10,
   "metadata": {},
   "outputs": [
    {
     "data": {
      "text/html": [
       "<div>\n",
       "<style scoped>\n",
       "    .dataframe tbody tr th:only-of-type {\n",
       "        vertical-align: middle;\n",
       "    }\n",
       "\n",
       "    .dataframe tbody tr th {\n",
       "        vertical-align: top;\n",
       "    }\n",
       "\n",
       "    .dataframe thead th {\n",
       "        text-align: right;\n",
       "    }\n",
       "</style>\n",
       "<table border=\"1\" class=\"dataframe\">\n",
       "  <thead>\n",
       "    <tr style=\"text-align: right;\">\n",
       "      <th></th>\n",
       "      <th>Nível 1 - Setor</th>\n",
       "      <th>Nível 2</th>\n",
       "      <th>Nível 3</th>\n",
       "      <th>Nível 4</th>\n",
       "      <th>Nível 5</th>\n",
       "      <th>Nível 6</th>\n",
       "      <th>Emissão / Remoção / Bunker</th>\n",
       "      <th>Gás</th>\n",
       "      <th>Estado</th>\n",
       "      <th>Atividade Econômica</th>\n",
       "      <th>...</th>\n",
       "      <th>2012</th>\n",
       "      <th>2013</th>\n",
       "      <th>2014</th>\n",
       "      <th>2015</th>\n",
       "      <th>2016</th>\n",
       "      <th>2017</th>\n",
       "      <th>2018</th>\n",
       "      <th>2019</th>\n",
       "      <th>2020</th>\n",
       "      <th>2021</th>\n",
       "    </tr>\n",
       "  </thead>\n",
       "  <tbody>\n",
       "    <tr>\n",
       "      <th>23520</th>\n",
       "      <td>Agropecuária</td>\n",
       "      <td>Solos Manejados</td>\n",
       "      <td>Diretas</td>\n",
       "      <td>Variação dos Estoques de Carbono no Solo</td>\n",
       "      <td>Vegetal</td>\n",
       "      <td>Pastagem Bem Manejada</td>\n",
       "      <td>Remoção NCI</td>\n",
       "      <td>CO2 (t)</td>\n",
       "      <td>RO</td>\n",
       "      <td>PEC</td>\n",
       "      <td>...</td>\n",
       "      <td>-1.434540e+07</td>\n",
       "      <td>-1.499358e+07</td>\n",
       "      <td>-1.543196e+07</td>\n",
       "      <td>-1.567070e+07</td>\n",
       "      <td>-1.630063e+07</td>\n",
       "      <td>-1.702215e+07</td>\n",
       "      <td>-1.740074e+07</td>\n",
       "      <td>-1.771914e+07</td>\n",
       "      <td>-1.767632e+07</td>\n",
       "      <td>-1.838895e+07</td>\n",
       "    </tr>\n",
       "    <tr>\n",
       "      <th>23521</th>\n",
       "      <td>Agropecuária</td>\n",
       "      <td>Solos Manejados</td>\n",
       "      <td>Diretas</td>\n",
       "      <td>Variação dos Estoques de Carbono no Solo</td>\n",
       "      <td>Vegetal</td>\n",
       "      <td>Pastagem Bem Manejada</td>\n",
       "      <td>Remoção NCI</td>\n",
       "      <td>CO2 (t)</td>\n",
       "      <td>AC</td>\n",
       "      <td>PEC</td>\n",
       "      <td>...</td>\n",
       "      <td>-5.382949e+06</td>\n",
       "      <td>-5.524659e+06</td>\n",
       "      <td>-5.632429e+06</td>\n",
       "      <td>-5.765030e+06</td>\n",
       "      <td>-5.867354e+06</td>\n",
       "      <td>-5.942076e+06</td>\n",
       "      <td>-6.022000e+06</td>\n",
       "      <td>-6.002147e+06</td>\n",
       "      <td>-6.035591e+06</td>\n",
       "      <td>-6.459079e+06</td>\n",
       "    </tr>\n",
       "    <tr>\n",
       "      <th>23522</th>\n",
       "      <td>Agropecuária</td>\n",
       "      <td>Solos Manejados</td>\n",
       "      <td>Diretas</td>\n",
       "      <td>Variação dos Estoques de Carbono no Solo</td>\n",
       "      <td>Vegetal</td>\n",
       "      <td>Pastagem Bem Manejada</td>\n",
       "      <td>Remoção NCI</td>\n",
       "      <td>CO2 (t)</td>\n",
       "      <td>AM</td>\n",
       "      <td>PEC</td>\n",
       "      <td>...</td>\n",
       "      <td>-3.450455e+06</td>\n",
       "      <td>-3.540294e+06</td>\n",
       "      <td>-3.545724e+06</td>\n",
       "      <td>-3.924546e+06</td>\n",
       "      <td>-4.626541e+06</td>\n",
       "      <td>-4.874199e+06</td>\n",
       "      <td>-4.849173e+06</td>\n",
       "      <td>-4.959540e+06</td>\n",
       "      <td>-5.106806e+06</td>\n",
       "      <td>-5.809814e+06</td>\n",
       "    </tr>\n",
       "    <tr>\n",
       "      <th>23523</th>\n",
       "      <td>Agropecuária</td>\n",
       "      <td>Solos Manejados</td>\n",
       "      <td>Diretas</td>\n",
       "      <td>Variação dos Estoques de Carbono no Solo</td>\n",
       "      <td>Vegetal</td>\n",
       "      <td>Pastagem Bem Manejada</td>\n",
       "      <td>Remoção NCI</td>\n",
       "      <td>CO2 (t)</td>\n",
       "      <td>RR</td>\n",
       "      <td>PEC</td>\n",
       "      <td>...</td>\n",
       "      <td>-1.260166e+06</td>\n",
       "      <td>-1.261895e+06</td>\n",
       "      <td>-1.371664e+06</td>\n",
       "      <td>-1.501452e+06</td>\n",
       "      <td>-1.507705e+06</td>\n",
       "      <td>-1.509919e+06</td>\n",
       "      <td>-1.609826e+06</td>\n",
       "      <td>-1.616980e+06</td>\n",
       "      <td>-1.518397e+06</td>\n",
       "      <td>-1.926000e+06</td>\n",
       "    </tr>\n",
       "    <tr>\n",
       "      <th>23524</th>\n",
       "      <td>Agropecuária</td>\n",
       "      <td>Solos Manejados</td>\n",
       "      <td>Diretas</td>\n",
       "      <td>Variação dos Estoques de Carbono no Solo</td>\n",
       "      <td>Vegetal</td>\n",
       "      <td>Pastagem Bem Manejada</td>\n",
       "      <td>Remoção NCI</td>\n",
       "      <td>CO2 (t)</td>\n",
       "      <td>PA</td>\n",
       "      <td>PEC</td>\n",
       "      <td>...</td>\n",
       "      <td>-3.429279e+07</td>\n",
       "      <td>-3.317185e+07</td>\n",
       "      <td>-3.281628e+07</td>\n",
       "      <td>-3.350720e+07</td>\n",
       "      <td>-3.557183e+07</td>\n",
       "      <td>-3.755308e+07</td>\n",
       "      <td>-4.134614e+07</td>\n",
       "      <td>-4.229403e+07</td>\n",
       "      <td>-4.275448e+07</td>\n",
       "      <td>-4.443440e+07</td>\n",
       "    </tr>\n",
       "    <tr>\n",
       "      <th>...</th>\n",
       "      <td>...</td>\n",
       "      <td>...</td>\n",
       "      <td>...</td>\n",
       "      <td>...</td>\n",
       "      <td>...</td>\n",
       "      <td>...</td>\n",
       "      <td>...</td>\n",
       "      <td>...</td>\n",
       "      <td>...</td>\n",
       "      <td>...</td>\n",
       "      <td>...</td>\n",
       "      <td>...</td>\n",
       "      <td>...</td>\n",
       "      <td>...</td>\n",
       "      <td>...</td>\n",
       "      <td>...</td>\n",
       "      <td>...</td>\n",
       "      <td>...</td>\n",
       "      <td>...</td>\n",
       "      <td>...</td>\n",
       "      <td>...</td>\n",
       "    </tr>\n",
       "    <tr>\n",
       "      <th>102751</th>\n",
       "      <td>Mudança de Uso da Terra e Floresta</td>\n",
       "      <td>Remoção por Vegetação Secundária</td>\n",
       "      <td>Pantanal</td>\n",
       "      <td>em Área Protegida</td>\n",
       "      <td>Vegetação nativa estável</td>\n",
       "      <td>Vegetação não florestal secundária -- Vegetaçã...</td>\n",
       "      <td>Remoção</td>\n",
       "      <td>CO2e (t) GWP-AR4</td>\n",
       "      <td>MS</td>\n",
       "      <td>AGROPEC</td>\n",
       "      <td>...</td>\n",
       "      <td>-7.513000e+04</td>\n",
       "      <td>-7.911900e+04</td>\n",
       "      <td>-8.695900e+04</td>\n",
       "      <td>-9.201400e+04</td>\n",
       "      <td>-9.149400e+04</td>\n",
       "      <td>-9.630200e+04</td>\n",
       "      <td>-9.202000e+04</td>\n",
       "      <td>-9.762300e+04</td>\n",
       "      <td>-1.015020e+05</td>\n",
       "      <td>-1.008910e+05</td>\n",
       "    </tr>\n",
       "    <tr>\n",
       "      <th>102752</th>\n",
       "      <td>Mudança de Uso da Terra e Floresta</td>\n",
       "      <td>Remoção por Vegetação Secundária</td>\n",
       "      <td>Pantanal</td>\n",
       "      <td>em Área Protegida</td>\n",
       "      <td>Vegetação nativa estável</td>\n",
       "      <td>Vegetação não florestal secundária -- Vegetaçã...</td>\n",
       "      <td>Remoção</td>\n",
       "      <td>CO2e (t) GWP-AR5</td>\n",
       "      <td>MT</td>\n",
       "      <td>AGROPEC</td>\n",
       "      <td>...</td>\n",
       "      <td>-9.523000e+03</td>\n",
       "      <td>-9.667000e+03</td>\n",
       "      <td>-1.000300e+04</td>\n",
       "      <td>-1.024200e+04</td>\n",
       "      <td>-1.027200e+04</td>\n",
       "      <td>-1.019100e+04</td>\n",
       "      <td>-1.046900e+04</td>\n",
       "      <td>-1.090400e+04</td>\n",
       "      <td>-1.104100e+04</td>\n",
       "      <td>-1.109500e+04</td>\n",
       "    </tr>\n",
       "    <tr>\n",
       "      <th>102753</th>\n",
       "      <td>Mudança de Uso da Terra e Floresta</td>\n",
       "      <td>Remoção por Vegetação Secundária</td>\n",
       "      <td>Pantanal</td>\n",
       "      <td>em Área Protegida</td>\n",
       "      <td>Vegetação nativa estável</td>\n",
       "      <td>Vegetação não florestal secundária -- Vegetaçã...</td>\n",
       "      <td>Remoção</td>\n",
       "      <td>CO2e (t) GWP-AR5</td>\n",
       "      <td>MS</td>\n",
       "      <td>AGROPEC</td>\n",
       "      <td>...</td>\n",
       "      <td>-7.513000e+04</td>\n",
       "      <td>-7.911900e+04</td>\n",
       "      <td>-8.695900e+04</td>\n",
       "      <td>-9.201400e+04</td>\n",
       "      <td>-9.149400e+04</td>\n",
       "      <td>-9.630200e+04</td>\n",
       "      <td>-9.202000e+04</td>\n",
       "      <td>-9.762300e+04</td>\n",
       "      <td>-1.015020e+05</td>\n",
       "      <td>-1.008910e+05</td>\n",
       "    </tr>\n",
       "    <tr>\n",
       "      <th>102754</th>\n",
       "      <td>Mudança de Uso da Terra e Floresta</td>\n",
       "      <td>Remoção por Vegetação Secundária</td>\n",
       "      <td>Pantanal</td>\n",
       "      <td>em Área Protegida</td>\n",
       "      <td>Vegetação nativa estável</td>\n",
       "      <td>Vegetação não florestal secundária -- Vegetaçã...</td>\n",
       "      <td>Remoção</td>\n",
       "      <td>CO2e (t) GWP-AR6</td>\n",
       "      <td>MT</td>\n",
       "      <td>AGROPEC</td>\n",
       "      <td>...</td>\n",
       "      <td>-9.523000e+03</td>\n",
       "      <td>-9.667000e+03</td>\n",
       "      <td>-1.000300e+04</td>\n",
       "      <td>-1.024200e+04</td>\n",
       "      <td>-1.027200e+04</td>\n",
       "      <td>-1.019100e+04</td>\n",
       "      <td>-1.046900e+04</td>\n",
       "      <td>-1.090400e+04</td>\n",
       "      <td>-1.104100e+04</td>\n",
       "      <td>-1.109500e+04</td>\n",
       "    </tr>\n",
       "    <tr>\n",
       "      <th>102755</th>\n",
       "      <td>Mudança de Uso da Terra e Floresta</td>\n",
       "      <td>Remoção por Vegetação Secundária</td>\n",
       "      <td>Pantanal</td>\n",
       "      <td>em Área Protegida</td>\n",
       "      <td>Vegetação nativa estável</td>\n",
       "      <td>Vegetação não florestal secundária -- Vegetaçã...</td>\n",
       "      <td>Remoção</td>\n",
       "      <td>CO2e (t) GWP-AR6</td>\n",
       "      <td>MS</td>\n",
       "      <td>AGROPEC</td>\n",
       "      <td>...</td>\n",
       "      <td>-7.513000e+04</td>\n",
       "      <td>-7.911900e+04</td>\n",
       "      <td>-8.695900e+04</td>\n",
       "      <td>-9.201400e+04</td>\n",
       "      <td>-9.149400e+04</td>\n",
       "      <td>-9.630200e+04</td>\n",
       "      <td>-9.202000e+04</td>\n",
       "      <td>-9.762300e+04</td>\n",
       "      <td>-1.015020e+05</td>\n",
       "      <td>-1.008910e+05</td>\n",
       "    </tr>\n",
       "  </tbody>\n",
       "</table>\n",
       "<p>7970 rows × 63 columns</p>\n",
       "</div>"
      ],
      "text/plain": [
       "                           Nível 1 - Setor                           Nível 2  \\\n",
       "23520                         Agropecuária                   Solos Manejados   \n",
       "23521                         Agropecuária                   Solos Manejados   \n",
       "23522                         Agropecuária                   Solos Manejados   \n",
       "23523                         Agropecuária                   Solos Manejados   \n",
       "23524                         Agropecuária                   Solos Manejados   \n",
       "...                                    ...                               ...   \n",
       "102751  Mudança de Uso da Terra e Floresta  Remoção por Vegetação Secundária   \n",
       "102752  Mudança de Uso da Terra e Floresta  Remoção por Vegetação Secundária   \n",
       "102753  Mudança de Uso da Terra e Floresta  Remoção por Vegetação Secundária   \n",
       "102754  Mudança de Uso da Terra e Floresta  Remoção por Vegetação Secundária   \n",
       "102755  Mudança de Uso da Terra e Floresta  Remoção por Vegetação Secundária   \n",
       "\n",
       "         Nível 3                                   Nível 4  \\\n",
       "23520    Diretas  Variação dos Estoques de Carbono no Solo   \n",
       "23521    Diretas  Variação dos Estoques de Carbono no Solo   \n",
       "23522    Diretas  Variação dos Estoques de Carbono no Solo   \n",
       "23523    Diretas  Variação dos Estoques de Carbono no Solo   \n",
       "23524    Diretas  Variação dos Estoques de Carbono no Solo   \n",
       "...          ...                                       ...   \n",
       "102751  Pantanal                         em Área Protegida   \n",
       "102752  Pantanal                         em Área Protegida   \n",
       "102753  Pantanal                         em Área Protegida   \n",
       "102754  Pantanal                         em Área Protegida   \n",
       "102755  Pantanal                         em Área Protegida   \n",
       "\n",
       "                         Nível 5  \\\n",
       "23520                    Vegetal   \n",
       "23521                    Vegetal   \n",
       "23522                    Vegetal   \n",
       "23523                    Vegetal   \n",
       "23524                    Vegetal   \n",
       "...                          ...   \n",
       "102751  Vegetação nativa estável   \n",
       "102752  Vegetação nativa estável   \n",
       "102753  Vegetação nativa estável   \n",
       "102754  Vegetação nativa estável   \n",
       "102755  Vegetação nativa estável   \n",
       "\n",
       "                                                  Nível 6  \\\n",
       "23520                               Pastagem Bem Manejada   \n",
       "23521                               Pastagem Bem Manejada   \n",
       "23522                               Pastagem Bem Manejada   \n",
       "23523                               Pastagem Bem Manejada   \n",
       "23524                               Pastagem Bem Manejada   \n",
       "...                                                   ...   \n",
       "102751  Vegetação não florestal secundária -- Vegetaçã...   \n",
       "102752  Vegetação não florestal secundária -- Vegetaçã...   \n",
       "102753  Vegetação não florestal secundária -- Vegetaçã...   \n",
       "102754  Vegetação não florestal secundária -- Vegetaçã...   \n",
       "102755  Vegetação não florestal secundária -- Vegetaçã...   \n",
       "\n",
       "       Emissão / Remoção / Bunker               Gás Estado  \\\n",
       "23520                 Remoção NCI           CO2 (t)     RO   \n",
       "23521                 Remoção NCI           CO2 (t)     AC   \n",
       "23522                 Remoção NCI           CO2 (t)     AM   \n",
       "23523                 Remoção NCI           CO2 (t)     RR   \n",
       "23524                 Remoção NCI           CO2 (t)     PA   \n",
       "...                           ...               ...    ...   \n",
       "102751                    Remoção  CO2e (t) GWP-AR4     MS   \n",
       "102752                    Remoção  CO2e (t) GWP-AR5     MT   \n",
       "102753                    Remoção  CO2e (t) GWP-AR5     MS   \n",
       "102754                    Remoção  CO2e (t) GWP-AR6     MT   \n",
       "102755                    Remoção  CO2e (t) GWP-AR6     MS   \n",
       "\n",
       "       Atividade Econômica  ...          2012          2013          2014  \\\n",
       "23520                  PEC  ... -1.434540e+07 -1.499358e+07 -1.543196e+07   \n",
       "23521                  PEC  ... -5.382949e+06 -5.524659e+06 -5.632429e+06   \n",
       "23522                  PEC  ... -3.450455e+06 -3.540294e+06 -3.545724e+06   \n",
       "23523                  PEC  ... -1.260166e+06 -1.261895e+06 -1.371664e+06   \n",
       "23524                  PEC  ... -3.429279e+07 -3.317185e+07 -3.281628e+07   \n",
       "...                    ...  ...           ...           ...           ...   \n",
       "102751             AGROPEC  ... -7.513000e+04 -7.911900e+04 -8.695900e+04   \n",
       "102752             AGROPEC  ... -9.523000e+03 -9.667000e+03 -1.000300e+04   \n",
       "102753             AGROPEC  ... -7.513000e+04 -7.911900e+04 -8.695900e+04   \n",
       "102754             AGROPEC  ... -9.523000e+03 -9.667000e+03 -1.000300e+04   \n",
       "102755             AGROPEC  ... -7.513000e+04 -7.911900e+04 -8.695900e+04   \n",
       "\n",
       "                2015          2016          2017          2018          2019  \\\n",
       "23520  -1.567070e+07 -1.630063e+07 -1.702215e+07 -1.740074e+07 -1.771914e+07   \n",
       "23521  -5.765030e+06 -5.867354e+06 -5.942076e+06 -6.022000e+06 -6.002147e+06   \n",
       "23522  -3.924546e+06 -4.626541e+06 -4.874199e+06 -4.849173e+06 -4.959540e+06   \n",
       "23523  -1.501452e+06 -1.507705e+06 -1.509919e+06 -1.609826e+06 -1.616980e+06   \n",
       "23524  -3.350720e+07 -3.557183e+07 -3.755308e+07 -4.134614e+07 -4.229403e+07   \n",
       "...              ...           ...           ...           ...           ...   \n",
       "102751 -9.201400e+04 -9.149400e+04 -9.630200e+04 -9.202000e+04 -9.762300e+04   \n",
       "102752 -1.024200e+04 -1.027200e+04 -1.019100e+04 -1.046900e+04 -1.090400e+04   \n",
       "102753 -9.201400e+04 -9.149400e+04 -9.630200e+04 -9.202000e+04 -9.762300e+04   \n",
       "102754 -1.024200e+04 -1.027200e+04 -1.019100e+04 -1.046900e+04 -1.090400e+04   \n",
       "102755 -9.201400e+04 -9.149400e+04 -9.630200e+04 -9.202000e+04 -9.762300e+04   \n",
       "\n",
       "                2020          2021  \n",
       "23520  -1.767632e+07 -1.838895e+07  \n",
       "23521  -6.035591e+06 -6.459079e+06  \n",
       "23522  -5.106806e+06 -5.809814e+06  \n",
       "23523  -1.518397e+06 -1.926000e+06  \n",
       "23524  -4.275448e+07 -4.443440e+07  \n",
       "...              ...           ...  \n",
       "102751 -1.015020e+05 -1.008910e+05  \n",
       "102752 -1.104100e+04 -1.109500e+04  \n",
       "102753 -1.015020e+05 -1.008910e+05  \n",
       "102754 -1.104100e+04 -1.109500e+04  \n",
       "102755 -1.015020e+05 -1.008910e+05  \n",
       "\n",
       "[7970 rows x 63 columns]"
      ]
     },
     "execution_count": 10,
     "metadata": {},
     "output_type": "execute_result"
    }
   ],
   "source": [
    "gas_emission.loc[gas_emission['Emissão / Remoção / Bunker'].isin(['Remoção NCI', 'Remoção'])]"
   ]
  },
  {
   "cell_type": "code",
   "execution_count": 11,
   "metadata": {},
   "outputs": [
    {
     "data": {
      "text/plain": [
       "1973    0.0\n",
       "1974    0.0\n",
       "1975    0.0\n",
       "1976    0.0\n",
       "1977    0.0\n",
       "1978    0.0\n",
       "1979    0.0\n",
       "1980    0.0\n",
       "1981    0.0\n",
       "1982    0.0\n",
       "1983    0.0\n",
       "1984    0.0\n",
       "1985    0.0\n",
       "1986    0.0\n",
       "1987    0.0\n",
       "1988    0.0\n",
       "1989    0.0\n",
       "1990    0.0\n",
       "1991    0.0\n",
       "1992    0.0\n",
       "1993    0.0\n",
       "1994    0.0\n",
       "1995    0.0\n",
       "1996    0.0\n",
       "1997    0.0\n",
       "1998    0.0\n",
       "1999    0.0\n",
       "2000    0.0\n",
       "2001    0.0\n",
       "2002    0.0\n",
       "2003    0.0\n",
       "2004    0.0\n",
       "2005    0.0\n",
       "2006    0.0\n",
       "2007    0.0\n",
       "2008    0.0\n",
       "2009    0.0\n",
       "2010    0.0\n",
       "2011    0.0\n",
       "2012    0.0\n",
       "2013    0.0\n",
       "2014    0.0\n",
       "2015    0.0\n",
       "2016    0.0\n",
       "2017    0.0\n",
       "2018    0.0\n",
       "2019    0.0\n",
       "2020    0.0\n",
       "2021    0.0\n",
       "dtype: float64"
      ]
     },
     "execution_count": 11,
     "metadata": {},
     "output_type": "execute_result"
    }
   ],
   "source": [
    "gas_emission.loc[gas_emission['Emissão / Remoção / Bunker'].isin(['Remoção']), 1973:].max()"
   ]
  },
  {
   "cell_type": "code",
   "execution_count": 12,
   "metadata": {},
   "outputs": [
    {
     "data": {
      "text/plain": [
       "67365    NaN\n",
       "67366    NaN\n",
       "67367    NaN\n",
       "67368    NaN\n",
       "67369    NaN\n",
       "67370    NaN\n",
       "67371    NaN\n",
       "67372    NaN\n",
       "67373    NaN\n",
       "67374    NaN\n",
       "67375    NaN\n",
       "67376    NaN\n",
       "67377    NaN\n",
       "67378    NaN\n",
       "68503    NaN\n",
       "68504    NaN\n",
       "68505    NaN\n",
       "68506    NaN\n",
       "68507    NaN\n",
       "68508    NaN\n",
       "68509    NaN\n",
       "68510    NaN\n",
       "68511    NaN\n",
       "68512    NaN\n",
       "68513    NaN\n",
       "68514    NaN\n",
       "68515    NaN\n",
       "68516    NaN\n",
       "68909    NaN\n",
       "68910    NaN\n",
       "68911    NaN\n",
       "68912    NaN\n",
       "68913    NaN\n",
       "68914    NaN\n",
       "68915    NaN\n",
       "68916    NaN\n",
       "68917    NaN\n",
       "68918    NaN\n",
       "68919    NaN\n",
       "68920    NaN\n",
       "68921    NaN\n",
       "68922    NaN\n",
       "Name: Estado, dtype: object"
      ]
     },
     "execution_count": 12,
     "metadata": {},
     "output_type": "execute_result"
    }
   ],
   "source": [
    "gas_emission.loc[gas_emission['Emissão / Remoção / Bunker'] == 'Bunker', 'Estado']"
   ]
  },
  {
   "cell_type": "markdown",
   "metadata": {},
   "source": [
    "Observing these informations, we can remove the lines different from Emissão."
   ]
  },
  {
   "cell_type": "markdown",
   "metadata": {},
   "source": [
    "## Removing data"
   ]
  },
  {
   "cell_type": "code",
   "execution_count": 13,
   "metadata": {},
   "outputs": [],
   "source": [
    "df_emission = gas_emission[gas_emission['Emissão / Remoção / Bunker'] == 'Emissão'].copy()\n",
    "df_emission.drop('Emissão / Remoção / Bunker', axis = 1, inplace = True)"
   ]
  },
  {
   "cell_type": "code",
   "execution_count": 14,
   "metadata": {},
   "outputs": [],
   "source": [
    "df_emission.reset_index(drop = True, inplace = True)"
   ]
  },
  {
   "cell_type": "code",
   "execution_count": 15,
   "metadata": {},
   "outputs": [
    {
     "data": {
      "text/html": [
       "<div>\n",
       "<style scoped>\n",
       "    .dataframe tbody tr th:only-of-type {\n",
       "        vertical-align: middle;\n",
       "    }\n",
       "\n",
       "    .dataframe tbody tr th {\n",
       "        vertical-align: top;\n",
       "    }\n",
       "\n",
       "    .dataframe thead th {\n",
       "        text-align: right;\n",
       "    }\n",
       "</style>\n",
       "<table border=\"1\" class=\"dataframe\">\n",
       "  <thead>\n",
       "    <tr style=\"text-align: right;\">\n",
       "      <th></th>\n",
       "      <th>Nível 1 - Setor</th>\n",
       "      <th>Nível 2</th>\n",
       "      <th>Nível 3</th>\n",
       "      <th>Nível 4</th>\n",
       "      <th>Nível 5</th>\n",
       "      <th>Nível 6</th>\n",
       "      <th>Gás</th>\n",
       "      <th>Estado</th>\n",
       "      <th>Atividade Econômica</th>\n",
       "      <th>Produto</th>\n",
       "      <th>...</th>\n",
       "      <th>2012</th>\n",
       "      <th>2013</th>\n",
       "      <th>2014</th>\n",
       "      <th>2015</th>\n",
       "      <th>2016</th>\n",
       "      <th>2017</th>\n",
       "      <th>2018</th>\n",
       "      <th>2019</th>\n",
       "      <th>2020</th>\n",
       "      <th>2021</th>\n",
       "    </tr>\n",
       "  </thead>\n",
       "  <tbody>\n",
       "    <tr>\n",
       "      <th>0</th>\n",
       "      <td>Processos Industriais</td>\n",
       "      <td>Indústria Química</td>\n",
       "      <td>Produção de ABS</td>\n",
       "      <td>NaN</td>\n",
       "      <td>NaN</td>\n",
       "      <td>NaN</td>\n",
       "      <td>COVNM (t)</td>\n",
       "      <td>SP</td>\n",
       "      <td>OUTRA_IND</td>\n",
       "      <td>NaN</td>\n",
       "      <td>...</td>\n",
       "      <td>897.600</td>\n",
       "      <td>897.600</td>\n",
       "      <td>897.600</td>\n",
       "      <td>897.600</td>\n",
       "      <td>897.600</td>\n",
       "      <td>897.600</td>\n",
       "      <td>897.600</td>\n",
       "      <td>897.600</td>\n",
       "      <td>897.600</td>\n",
       "      <td>897.600</td>\n",
       "    </tr>\n",
       "    <tr>\n",
       "      <th>1</th>\n",
       "      <td>Processos Industriais</td>\n",
       "      <td>Indústria Química</td>\n",
       "      <td>Produção de Ácido Adípico</td>\n",
       "      <td>NaN</td>\n",
       "      <td>NaN</td>\n",
       "      <td>NaN</td>\n",
       "      <td>N2O (t)</td>\n",
       "      <td>SP</td>\n",
       "      <td>OUTRA_IND</td>\n",
       "      <td>NaN</td>\n",
       "      <td>...</td>\n",
       "      <td>130.000</td>\n",
       "      <td>130.000</td>\n",
       "      <td>130.000</td>\n",
       "      <td>130.000</td>\n",
       "      <td>130.000</td>\n",
       "      <td>130.000</td>\n",
       "      <td>130.000</td>\n",
       "      <td>130.000</td>\n",
       "      <td>130.000</td>\n",
       "      <td>130.000</td>\n",
       "    </tr>\n",
       "    <tr>\n",
       "      <th>2</th>\n",
       "      <td>Processos Industriais</td>\n",
       "      <td>Indústria Química</td>\n",
       "      <td>Produção de Ácido Adípico</td>\n",
       "      <td>NaN</td>\n",
       "      <td>NaN</td>\n",
       "      <td>NaN</td>\n",
       "      <td>CO (t)</td>\n",
       "      <td>SP</td>\n",
       "      <td>OUTRA_IND</td>\n",
       "      <td>NaN</td>\n",
       "      <td>...</td>\n",
       "      <td>1380.576</td>\n",
       "      <td>1380.576</td>\n",
       "      <td>1380.576</td>\n",
       "      <td>1380.576</td>\n",
       "      <td>1380.576</td>\n",
       "      <td>1380.576</td>\n",
       "      <td>1380.576</td>\n",
       "      <td>1380.576</td>\n",
       "      <td>1380.576</td>\n",
       "      <td>1380.576</td>\n",
       "    </tr>\n",
       "    <tr>\n",
       "      <th>3</th>\n",
       "      <td>Processos Industriais</td>\n",
       "      <td>Indústria Química</td>\n",
       "      <td>Produção de Ácido Adípico</td>\n",
       "      <td>NaN</td>\n",
       "      <td>NaN</td>\n",
       "      <td>NaN</td>\n",
       "      <td>NOx (t)</td>\n",
       "      <td>SP</td>\n",
       "      <td>OUTRA_IND</td>\n",
       "      <td>NaN</td>\n",
       "      <td>...</td>\n",
       "      <td>431.430</td>\n",
       "      <td>431.430</td>\n",
       "      <td>431.430</td>\n",
       "      <td>431.430</td>\n",
       "      <td>431.430</td>\n",
       "      <td>431.430</td>\n",
       "      <td>431.430</td>\n",
       "      <td>431.430</td>\n",
       "      <td>431.430</td>\n",
       "      <td>431.430</td>\n",
       "    </tr>\n",
       "    <tr>\n",
       "      <th>4</th>\n",
       "      <td>Processos Industriais</td>\n",
       "      <td>Indústria Química</td>\n",
       "      <td>Produção de Ácido Adípico</td>\n",
       "      <td>NaN</td>\n",
       "      <td>NaN</td>\n",
       "      <td>NaN</td>\n",
       "      <td>CO2e (t) GWP-AR2</td>\n",
       "      <td>SP</td>\n",
       "      <td>OUTRA_IND</td>\n",
       "      <td>NaN</td>\n",
       "      <td>...</td>\n",
       "      <td>40300.000</td>\n",
       "      <td>40300.000</td>\n",
       "      <td>40300.000</td>\n",
       "      <td>40300.000</td>\n",
       "      <td>40300.000</td>\n",
       "      <td>40300.000</td>\n",
       "      <td>40300.000</td>\n",
       "      <td>40300.000</td>\n",
       "      <td>40300.000</td>\n",
       "      <td>40300.000</td>\n",
       "    </tr>\n",
       "  </tbody>\n",
       "</table>\n",
       "<p>5 rows × 62 columns</p>\n",
       "</div>"
      ],
      "text/plain": [
       "         Nível 1 - Setor            Nível 2                    Nível 3  \\\n",
       "0  Processos Industriais  Indústria Química            Produção de ABS   \n",
       "1  Processos Industriais  Indústria Química  Produção de Ácido Adípico   \n",
       "2  Processos Industriais  Indústria Química  Produção de Ácido Adípico   \n",
       "3  Processos Industriais  Indústria Química  Produção de Ácido Adípico   \n",
       "4  Processos Industriais  Indústria Química  Produção de Ácido Adípico   \n",
       "\n",
       "  Nível 4 Nível 5 Nível 6               Gás Estado Atividade Econômica  \\\n",
       "0     NaN     NaN     NaN         COVNM (t)     SP           OUTRA_IND   \n",
       "1     NaN     NaN     NaN           N2O (t)     SP           OUTRA_IND   \n",
       "2     NaN     NaN     NaN            CO (t)     SP           OUTRA_IND   \n",
       "3     NaN     NaN     NaN           NOx (t)     SP           OUTRA_IND   \n",
       "4     NaN     NaN     NaN  CO2e (t) GWP-AR2     SP           OUTRA_IND   \n",
       "\n",
       "  Produto  ...       2012       2013       2014       2015       2016  \\\n",
       "0     NaN  ...    897.600    897.600    897.600    897.600    897.600   \n",
       "1     NaN  ...    130.000    130.000    130.000    130.000    130.000   \n",
       "2     NaN  ...   1380.576   1380.576   1380.576   1380.576   1380.576   \n",
       "3     NaN  ...    431.430    431.430    431.430    431.430    431.430   \n",
       "4     NaN  ...  40300.000  40300.000  40300.000  40300.000  40300.000   \n",
       "\n",
       "        2017       2018       2019       2020       2021  \n",
       "0    897.600    897.600    897.600    897.600    897.600  \n",
       "1    130.000    130.000    130.000    130.000    130.000  \n",
       "2   1380.576   1380.576   1380.576   1380.576   1380.576  \n",
       "3    431.430    431.430    431.430    431.430    431.430  \n",
       "4  40300.000  40300.000  40300.000  40300.000  40300.000  \n",
       "\n",
       "[5 rows x 62 columns]"
      ]
     },
     "execution_count": 15,
     "metadata": {},
     "output_type": "execute_result"
    }
   ],
   "source": [
    "df_emission.head()"
   ]
  },
  {
   "cell_type": "markdown",
   "metadata": {},
   "source": [
    "## Challenges 01 "
   ]
  },
  {
   "cell_type": "markdown",
   "metadata": {},
   "source": [
    "### 01. Find unique values to columns \"Nível 1 - Setor\" e \"Estado\" to identify economic activity and if every Brazilian State are in dataframe."
   ]
  },
  {
   "cell_type": "code",
   "execution_count": 16,
   "metadata": {},
   "outputs": [
    {
     "data": {
      "text/plain": [
       "array(['Processos Industriais', 'Agropecuária', 'Energia', 'Resíduos ',\n",
       "       'Mudança de Uso da Terra e Floresta'], dtype=object)"
      ]
     },
     "execution_count": 16,
     "metadata": {},
     "output_type": "execute_result"
    }
   ],
   "source": [
    "df_emission['Nível 1 - Setor'].unique()"
   ]
  },
  {
   "cell_type": "code",
   "execution_count": 17,
   "metadata": {},
   "outputs": [
    {
     "data": {
      "text/plain": [
       "28"
      ]
     },
     "execution_count": 17,
     "metadata": {},
     "output_type": "execute_result"
    }
   ],
   "source": [
    "len(df_emission['Estado'].unique())"
   ]
  },
  {
   "cell_type": "markdown",
   "metadata": {},
   "source": [
    "### 02. Get a dataframe from Brazil south region."
   ]
  },
  {
   "cell_type": "code",
   "execution_count": 18,
   "metadata": {},
   "outputs": [
    {
     "data": {
      "text/html": [
       "<div>\n",
       "<style scoped>\n",
       "    .dataframe tbody tr th:only-of-type {\n",
       "        vertical-align: middle;\n",
       "    }\n",
       "\n",
       "    .dataframe tbody tr th {\n",
       "        vertical-align: top;\n",
       "    }\n",
       "\n",
       "    .dataframe thead th {\n",
       "        text-align: right;\n",
       "    }\n",
       "</style>\n",
       "<table border=\"1\" class=\"dataframe\">\n",
       "  <thead>\n",
       "    <tr style=\"text-align: right;\">\n",
       "      <th></th>\n",
       "      <th>Nível 1 - Setor</th>\n",
       "      <th>Nível 2</th>\n",
       "      <th>Nível 3</th>\n",
       "      <th>Nível 4</th>\n",
       "      <th>Nível 5</th>\n",
       "      <th>Nível 6</th>\n",
       "      <th>Gás</th>\n",
       "      <th>Estado</th>\n",
       "      <th>Atividade Econômica</th>\n",
       "      <th>Produto</th>\n",
       "      <th>...</th>\n",
       "      <th>2012</th>\n",
       "      <th>2013</th>\n",
       "      <th>2014</th>\n",
       "      <th>2015</th>\n",
       "      <th>2016</th>\n",
       "      <th>2017</th>\n",
       "      <th>2018</th>\n",
       "      <th>2019</th>\n",
       "      <th>2020</th>\n",
       "      <th>2021</th>\n",
       "    </tr>\n",
       "  </thead>\n",
       "  <tbody>\n",
       "    <tr>\n",
       "      <th>35</th>\n",
       "      <td>Processos Industriais</td>\n",
       "      <td>Indústria Química</td>\n",
       "      <td>Produção de Amônia</td>\n",
       "      <td>NaN</td>\n",
       "      <td>NaN</td>\n",
       "      <td>NaN</td>\n",
       "      <td>CO2 (t)</td>\n",
       "      <td>PR</td>\n",
       "      <td>OUTRA_IND</td>\n",
       "      <td>NaN</td>\n",
       "      <td>...</td>\n",
       "      <td>4.562042e+05</td>\n",
       "      <td>4.682616e+05</td>\n",
       "      <td>5.151689e+05</td>\n",
       "      <td>5.151689e+05</td>\n",
       "      <td>5.151689e+05</td>\n",
       "      <td>5.151689e+05</td>\n",
       "      <td>5.151689e+05</td>\n",
       "      <td>5.151689e+05</td>\n",
       "      <td>5.151689e+05</td>\n",
       "      <td>5.151689e+05</td>\n",
       "    </tr>\n",
       "    <tr>\n",
       "      <th>36</th>\n",
       "      <td>Processos Industriais</td>\n",
       "      <td>Indústria Química</td>\n",
       "      <td>Produção de Amônia</td>\n",
       "      <td>NaN</td>\n",
       "      <td>NaN</td>\n",
       "      <td>NaN</td>\n",
       "      <td>CO2e (t) GWP-AR2</td>\n",
       "      <td>PR</td>\n",
       "      <td>OUTRA_IND</td>\n",
       "      <td>NaN</td>\n",
       "      <td>...</td>\n",
       "      <td>4.562042e+05</td>\n",
       "      <td>4.682616e+05</td>\n",
       "      <td>5.151689e+05</td>\n",
       "      <td>5.151689e+05</td>\n",
       "      <td>5.151689e+05</td>\n",
       "      <td>5.151689e+05</td>\n",
       "      <td>5.151689e+05</td>\n",
       "      <td>5.151689e+05</td>\n",
       "      <td>5.151689e+05</td>\n",
       "      <td>5.151689e+05</td>\n",
       "    </tr>\n",
       "    <tr>\n",
       "      <th>37</th>\n",
       "      <td>Processos Industriais</td>\n",
       "      <td>Indústria Química</td>\n",
       "      <td>Produção de Amônia</td>\n",
       "      <td>NaN</td>\n",
       "      <td>NaN</td>\n",
       "      <td>NaN</td>\n",
       "      <td>CO2e (t) GTP-AR2</td>\n",
       "      <td>PR</td>\n",
       "      <td>OUTRA_IND</td>\n",
       "      <td>NaN</td>\n",
       "      <td>...</td>\n",
       "      <td>4.562042e+05</td>\n",
       "      <td>4.682616e+05</td>\n",
       "      <td>5.151689e+05</td>\n",
       "      <td>5.151689e+05</td>\n",
       "      <td>5.151689e+05</td>\n",
       "      <td>5.151689e+05</td>\n",
       "      <td>5.151689e+05</td>\n",
       "      <td>5.151689e+05</td>\n",
       "      <td>5.151689e+05</td>\n",
       "      <td>5.151689e+05</td>\n",
       "    </tr>\n",
       "    <tr>\n",
       "      <th>110</th>\n",
       "      <td>Processos Industriais</td>\n",
       "      <td>Produtos Minerais</td>\n",
       "      <td>Produção de Cimento</td>\n",
       "      <td>NaN</td>\n",
       "      <td>NaN</td>\n",
       "      <td>NaN</td>\n",
       "      <td>CO2 (t)</td>\n",
       "      <td>PR</td>\n",
       "      <td>CIM</td>\n",
       "      <td>NaN</td>\n",
       "      <td>...</td>\n",
       "      <td>2.012596e+06</td>\n",
       "      <td>2.212002e+06</td>\n",
       "      <td>2.241143e+06</td>\n",
       "      <td>2.176752e+06</td>\n",
       "      <td>2.279061e+06</td>\n",
       "      <td>2.115372e+06</td>\n",
       "      <td>2.173266e+06</td>\n",
       "      <td>2.230656e+06</td>\n",
       "      <td>2.488650e+06</td>\n",
       "      <td>2.845457e+06</td>\n",
       "    </tr>\n",
       "    <tr>\n",
       "      <th>111</th>\n",
       "      <td>Processos Industriais</td>\n",
       "      <td>Produtos Minerais</td>\n",
       "      <td>Produção de Cimento</td>\n",
       "      <td>NaN</td>\n",
       "      <td>NaN</td>\n",
       "      <td>NaN</td>\n",
       "      <td>CO2 (t)</td>\n",
       "      <td>SC</td>\n",
       "      <td>CIM</td>\n",
       "      <td>NaN</td>\n",
       "      <td>...</td>\n",
       "      <td>7.126368e+05</td>\n",
       "      <td>6.421719e+05</td>\n",
       "      <td>8.163383e+05</td>\n",
       "      <td>6.769844e+05</td>\n",
       "      <td>5.272686e+05</td>\n",
       "      <td>5.143665e+05</td>\n",
       "      <td>5.130451e+05</td>\n",
       "      <td>5.451073e+05</td>\n",
       "      <td>6.144431e+05</td>\n",
       "      <td>7.179804e+05</td>\n",
       "    </tr>\n",
       "  </tbody>\n",
       "</table>\n",
       "<p>5 rows × 62 columns</p>\n",
       "</div>"
      ],
      "text/plain": [
       "           Nível 1 - Setor            Nível 2              Nível 3 Nível 4  \\\n",
       "35   Processos Industriais  Indústria Química   Produção de Amônia     NaN   \n",
       "36   Processos Industriais  Indústria Química   Produção de Amônia     NaN   \n",
       "37   Processos Industriais  Indústria Química   Produção de Amônia     NaN   \n",
       "110  Processos Industriais  Produtos Minerais  Produção de Cimento     NaN   \n",
       "111  Processos Industriais  Produtos Minerais  Produção de Cimento     NaN   \n",
       "\n",
       "    Nível 5 Nível 6               Gás Estado Atividade Econômica Produto  ...  \\\n",
       "35      NaN     NaN           CO2 (t)     PR           OUTRA_IND     NaN  ...   \n",
       "36      NaN     NaN  CO2e (t) GWP-AR2     PR           OUTRA_IND     NaN  ...   \n",
       "37      NaN     NaN  CO2e (t) GTP-AR2     PR           OUTRA_IND     NaN  ...   \n",
       "110     NaN     NaN           CO2 (t)     PR                 CIM     NaN  ...   \n",
       "111     NaN     NaN           CO2 (t)     SC                 CIM     NaN  ...   \n",
       "\n",
       "             2012          2013          2014          2015          2016  \\\n",
       "35   4.562042e+05  4.682616e+05  5.151689e+05  5.151689e+05  5.151689e+05   \n",
       "36   4.562042e+05  4.682616e+05  5.151689e+05  5.151689e+05  5.151689e+05   \n",
       "37   4.562042e+05  4.682616e+05  5.151689e+05  5.151689e+05  5.151689e+05   \n",
       "110  2.012596e+06  2.212002e+06  2.241143e+06  2.176752e+06  2.279061e+06   \n",
       "111  7.126368e+05  6.421719e+05  8.163383e+05  6.769844e+05  5.272686e+05   \n",
       "\n",
       "             2017          2018          2019          2020          2021  \n",
       "35   5.151689e+05  5.151689e+05  5.151689e+05  5.151689e+05  5.151689e+05  \n",
       "36   5.151689e+05  5.151689e+05  5.151689e+05  5.151689e+05  5.151689e+05  \n",
       "37   5.151689e+05  5.151689e+05  5.151689e+05  5.151689e+05  5.151689e+05  \n",
       "110  2.115372e+06  2.173266e+06  2.230656e+06  2.488650e+06  2.845457e+06  \n",
       "111  5.143665e+05  5.130451e+05  5.451073e+05  6.144431e+05  7.179804e+05  \n",
       "\n",
       "[5 rows x 62 columns]"
      ]
     },
     "execution_count": 18,
     "metadata": {},
     "output_type": "execute_result"
    }
   ],
   "source": [
    "south_states = df_emission[df_emission['Estado'].isin(['PR','SC','RS'])]\n",
    "south_states.head()"
   ]
  },
  {
   "cell_type": "code",
   "execution_count": 19,
   "metadata": {},
   "outputs": [
    {
     "data": {
      "text/plain": [
       "array(['PR', 'SC', 'RS'], dtype=object)"
      ]
     },
     "execution_count": 19,
     "metadata": {},
     "output_type": "execute_result"
    }
   ],
   "source": [
    "south_states.Estado.unique()"
   ]
  },
  {
   "cell_type": "markdown",
   "metadata": {},
   "source": [
    "### 03. Get dataframe with 'Mudança de Uso da Terra e Floresta' from Amazonas."
   ]
  },
  {
   "cell_type": "code",
   "execution_count": 20,
   "metadata": {},
   "outputs": [],
   "source": [
    "filter = (df_emission['Nível 1 - Setor'] == \"Mudança de Uso da Terra e Floresta\") & (df_emission['Estado'] == 'AM')"
   ]
  },
  {
   "cell_type": "code",
   "execution_count": 21,
   "metadata": {},
   "outputs": [
    {
     "data": {
      "text/html": [
       "<div>\n",
       "<style scoped>\n",
       "    .dataframe tbody tr th:only-of-type {\n",
       "        vertical-align: middle;\n",
       "    }\n",
       "\n",
       "    .dataframe tbody tr th {\n",
       "        vertical-align: top;\n",
       "    }\n",
       "\n",
       "    .dataframe thead th {\n",
       "        text-align: right;\n",
       "    }\n",
       "</style>\n",
       "<table border=\"1\" class=\"dataframe\">\n",
       "  <thead>\n",
       "    <tr style=\"text-align: right;\">\n",
       "      <th></th>\n",
       "      <th>Nível 1 - Setor</th>\n",
       "      <th>Nível 2</th>\n",
       "      <th>Nível 3</th>\n",
       "      <th>Nível 4</th>\n",
       "      <th>Nível 5</th>\n",
       "      <th>Nível 6</th>\n",
       "      <th>Gás</th>\n",
       "      <th>Estado</th>\n",
       "      <th>Atividade Econômica</th>\n",
       "      <th>Produto</th>\n",
       "      <th>...</th>\n",
       "      <th>2012</th>\n",
       "      <th>2013</th>\n",
       "      <th>2014</th>\n",
       "      <th>2015</th>\n",
       "      <th>2016</th>\n",
       "      <th>2017</th>\n",
       "      <th>2018</th>\n",
       "      <th>2019</th>\n",
       "      <th>2020</th>\n",
       "      <th>2021</th>\n",
       "    </tr>\n",
       "  </thead>\n",
       "  <tbody>\n",
       "    <tr>\n",
       "      <th>79762</th>\n",
       "      <td>Mudança de Uso da Terra e Floresta</td>\n",
       "      <td>Alterações de Uso da Terra</td>\n",
       "      <td>Amazônia</td>\n",
       "      <td>fora de Área Protegida</td>\n",
       "      <td>Desmatamento</td>\n",
       "      <td>Floresta primária -- Área sem vegetação</td>\n",
       "      <td>CO2 (t)</td>\n",
       "      <td>AM</td>\n",
       "      <td>AGROPEC</td>\n",
       "      <td>NaN</td>\n",
       "      <td>...</td>\n",
       "      <td>8.511800e+04</td>\n",
       "      <td>9.763700e+04</td>\n",
       "      <td>8.761900e+04</td>\n",
       "      <td>1.218150e+05</td>\n",
       "      <td>1.137590e+05</td>\n",
       "      <td>5.299800e+04</td>\n",
       "      <td>6.117000e+04</td>\n",
       "      <td>48264.0</td>\n",
       "      <td>14381.0</td>\n",
       "      <td>31867.0</td>\n",
       "    </tr>\n",
       "    <tr>\n",
       "      <th>79771</th>\n",
       "      <td>Mudança de Uso da Terra e Floresta</td>\n",
       "      <td>Alterações de Uso da Terra</td>\n",
       "      <td>Amazônia</td>\n",
       "      <td>fora de Área Protegida</td>\n",
       "      <td>Desmatamento</td>\n",
       "      <td>Floresta primária -- Área sem vegetação</td>\n",
       "      <td>CO2e (t) GTP-AR2</td>\n",
       "      <td>AM</td>\n",
       "      <td>AGROPEC</td>\n",
       "      <td>NaN</td>\n",
       "      <td>...</td>\n",
       "      <td>8.511800e+04</td>\n",
       "      <td>9.763700e+04</td>\n",
       "      <td>8.761900e+04</td>\n",
       "      <td>1.218150e+05</td>\n",
       "      <td>1.137590e+05</td>\n",
       "      <td>5.299800e+04</td>\n",
       "      <td>6.117000e+04</td>\n",
       "      <td>48264.0</td>\n",
       "      <td>14381.0</td>\n",
       "      <td>31867.0</td>\n",
       "    </tr>\n",
       "    <tr>\n",
       "      <th>79780</th>\n",
       "      <td>Mudança de Uso da Terra e Floresta</td>\n",
       "      <td>Alterações de Uso da Terra</td>\n",
       "      <td>Amazônia</td>\n",
       "      <td>fora de Área Protegida</td>\n",
       "      <td>Desmatamento</td>\n",
       "      <td>Floresta primária -- Área sem vegetação</td>\n",
       "      <td>CO2e (t) GTP-AR4</td>\n",
       "      <td>AM</td>\n",
       "      <td>AGROPEC</td>\n",
       "      <td>NaN</td>\n",
       "      <td>...</td>\n",
       "      <td>8.511800e+04</td>\n",
       "      <td>9.763700e+04</td>\n",
       "      <td>8.761900e+04</td>\n",
       "      <td>1.218150e+05</td>\n",
       "      <td>1.137590e+05</td>\n",
       "      <td>5.299800e+04</td>\n",
       "      <td>6.117000e+04</td>\n",
       "      <td>48264.0</td>\n",
       "      <td>14381.0</td>\n",
       "      <td>31867.0</td>\n",
       "    </tr>\n",
       "    <tr>\n",
       "      <th>79789</th>\n",
       "      <td>Mudança de Uso da Terra e Floresta</td>\n",
       "      <td>Alterações de Uso da Terra</td>\n",
       "      <td>Amazônia</td>\n",
       "      <td>fora de Área Protegida</td>\n",
       "      <td>Desmatamento</td>\n",
       "      <td>Floresta primária -- Área sem vegetação</td>\n",
       "      <td>CO2e (t) GTP-AR5</td>\n",
       "      <td>AM</td>\n",
       "      <td>AGROPEC</td>\n",
       "      <td>NaN</td>\n",
       "      <td>...</td>\n",
       "      <td>8.511800e+04</td>\n",
       "      <td>9.763700e+04</td>\n",
       "      <td>8.761900e+04</td>\n",
       "      <td>1.218150e+05</td>\n",
       "      <td>1.137590e+05</td>\n",
       "      <td>5.299800e+04</td>\n",
       "      <td>6.117000e+04</td>\n",
       "      <td>48264.0</td>\n",
       "      <td>14381.0</td>\n",
       "      <td>31867.0</td>\n",
       "    </tr>\n",
       "    <tr>\n",
       "      <th>79798</th>\n",
       "      <td>Mudança de Uso da Terra e Floresta</td>\n",
       "      <td>Alterações de Uso da Terra</td>\n",
       "      <td>Amazônia</td>\n",
       "      <td>fora de Área Protegida</td>\n",
       "      <td>Desmatamento</td>\n",
       "      <td>Floresta primária -- Área sem vegetação</td>\n",
       "      <td>CO2e (t) GTP-AR6</td>\n",
       "      <td>AM</td>\n",
       "      <td>AGROPEC</td>\n",
       "      <td>NaN</td>\n",
       "      <td>...</td>\n",
       "      <td>8.511800e+04</td>\n",
       "      <td>9.763700e+04</td>\n",
       "      <td>8.761900e+04</td>\n",
       "      <td>1.218150e+05</td>\n",
       "      <td>1.137590e+05</td>\n",
       "      <td>5.299800e+04</td>\n",
       "      <td>6.117000e+04</td>\n",
       "      <td>48264.0</td>\n",
       "      <td>14381.0</td>\n",
       "      <td>31867.0</td>\n",
       "    </tr>\n",
       "    <tr>\n",
       "      <th>...</th>\n",
       "      <td>...</td>\n",
       "      <td>...</td>\n",
       "      <td>...</td>\n",
       "      <td>...</td>\n",
       "      <td>...</td>\n",
       "      <td>...</td>\n",
       "      <td>...</td>\n",
       "      <td>...</td>\n",
       "      <td>...</td>\n",
       "      <td>...</td>\n",
       "      <td>...</td>\n",
       "      <td>...</td>\n",
       "      <td>...</td>\n",
       "      <td>...</td>\n",
       "      <td>...</td>\n",
       "      <td>...</td>\n",
       "      <td>...</td>\n",
       "      <td>...</td>\n",
       "      <td>...</td>\n",
       "      <td>...</td>\n",
       "      <td>...</td>\n",
       "    </tr>\n",
       "    <tr>\n",
       "      <th>94305</th>\n",
       "      <td>Mudança de Uso da Terra e Floresta</td>\n",
       "      <td>Resíduos Florestais</td>\n",
       "      <td>Amazônia</td>\n",
       "      <td>NaN</td>\n",
       "      <td>Desmatamento</td>\n",
       "      <td>NaN</td>\n",
       "      <td>CO2e (t) GWP-AR2</td>\n",
       "      <td>AM</td>\n",
       "      <td>AGROPEC</td>\n",
       "      <td>NaN</td>\n",
       "      <td>...</td>\n",
       "      <td>2.239997e+06</td>\n",
       "      <td>3.186571e+06</td>\n",
       "      <td>2.973253e+06</td>\n",
       "      <td>4.796274e+06</td>\n",
       "      <td>7.396711e+06</td>\n",
       "      <td>4.362453e+06</td>\n",
       "      <td>4.434835e+06</td>\n",
       "      <td>7074966.0</td>\n",
       "      <td>8746520.0</td>\n",
       "      <td>8429758.0</td>\n",
       "    </tr>\n",
       "    <tr>\n",
       "      <th>94314</th>\n",
       "      <td>Mudança de Uso da Terra e Floresta</td>\n",
       "      <td>Resíduos Florestais</td>\n",
       "      <td>Amazônia</td>\n",
       "      <td>NaN</td>\n",
       "      <td>Desmatamento</td>\n",
       "      <td>NaN</td>\n",
       "      <td>CO2e (t) GWP-AR4</td>\n",
       "      <td>AM</td>\n",
       "      <td>AGROPEC</td>\n",
       "      <td>NaN</td>\n",
       "      <td>...</td>\n",
       "      <td>2.505953e+06</td>\n",
       "      <td>3.565317e+06</td>\n",
       "      <td>3.330733e+06</td>\n",
       "      <td>5.368844e+06</td>\n",
       "      <td>8.276064e+06</td>\n",
       "      <td>4.888099e+06</td>\n",
       "      <td>4.967871e+06</td>\n",
       "      <td>7929733.0</td>\n",
       "      <td>9799770.0</td>\n",
       "      <td>9408067.0</td>\n",
       "    </tr>\n",
       "    <tr>\n",
       "      <th>94323</th>\n",
       "      <td>Mudança de Uso da Terra e Floresta</td>\n",
       "      <td>Resíduos Florestais</td>\n",
       "      <td>Amazônia</td>\n",
       "      <td>NaN</td>\n",
       "      <td>Desmatamento</td>\n",
       "      <td>NaN</td>\n",
       "      <td>CO2e (t) GWP-AR5</td>\n",
       "      <td>AM</td>\n",
       "      <td>AGROPEC</td>\n",
       "      <td>NaN</td>\n",
       "      <td>...</td>\n",
       "      <td>2.651128e+06</td>\n",
       "      <td>3.772286e+06</td>\n",
       "      <td>3.528292e+06</td>\n",
       "      <td>5.683071e+06</td>\n",
       "      <td>8.756712e+06</td>\n",
       "      <td>5.179207e+06</td>\n",
       "      <td>5.262358e+06</td>\n",
       "      <td>8404321.0</td>\n",
       "      <td>10382705.0</td>\n",
       "      <td>9929881.0</td>\n",
       "    </tr>\n",
       "    <tr>\n",
       "      <th>94332</th>\n",
       "      <td>Mudança de Uso da Terra e Floresta</td>\n",
       "      <td>Resíduos Florestais</td>\n",
       "      <td>Amazônia</td>\n",
       "      <td>NaN</td>\n",
       "      <td>Desmatamento</td>\n",
       "      <td>NaN</td>\n",
       "      <td>CO2e (t) GWP-AR6</td>\n",
       "      <td>AM</td>\n",
       "      <td>AGROPEC</td>\n",
       "      <td>NaN</td>\n",
       "      <td>...</td>\n",
       "      <td>2.661898e+06</td>\n",
       "      <td>3.787545e+06</td>\n",
       "      <td>3.541992e+06</td>\n",
       "      <td>5.705721e+06</td>\n",
       "      <td>8.792123e+06</td>\n",
       "      <td>5.199159e+06</td>\n",
       "      <td>5.282817e+06</td>\n",
       "      <td>8436366.0</td>\n",
       "      <td>10422789.0</td>\n",
       "      <td>9973416.0</td>\n",
       "    </tr>\n",
       "    <tr>\n",
       "      <th>94341</th>\n",
       "      <td>Mudança de Uso da Terra e Floresta</td>\n",
       "      <td>Resíduos Florestais</td>\n",
       "      <td>Amazônia</td>\n",
       "      <td>NaN</td>\n",
       "      <td>Desmatamento</td>\n",
       "      <td>NaN</td>\n",
       "      <td>N2O (t)</td>\n",
       "      <td>AM</td>\n",
       "      <td>AGROPEC</td>\n",
       "      <td>NaN</td>\n",
       "      <td>...</td>\n",
       "      <td>2.262088e+03</td>\n",
       "      <td>3.212191e+03</td>\n",
       "      <td>2.939604e+03</td>\n",
       "      <td>4.799715e+03</td>\n",
       "      <td>7.453212e+03</td>\n",
       "      <td>4.297090e+03</td>\n",
       "      <td>4.387107e+03</td>\n",
       "      <td>6935.0</td>\n",
       "      <td>8628.0</td>\n",
       "      <td>8828.0</td>\n",
       "    </tr>\n",
       "  </tbody>\n",
       "</table>\n",
       "<p>228 rows × 62 columns</p>\n",
       "</div>"
      ],
      "text/plain": [
       "                          Nível 1 - Setor                     Nível 2  \\\n",
       "79762  Mudança de Uso da Terra e Floresta  Alterações de Uso da Terra   \n",
       "79771  Mudança de Uso da Terra e Floresta  Alterações de Uso da Terra   \n",
       "79780  Mudança de Uso da Terra e Floresta  Alterações de Uso da Terra   \n",
       "79789  Mudança de Uso da Terra e Floresta  Alterações de Uso da Terra   \n",
       "79798  Mudança de Uso da Terra e Floresta  Alterações de Uso da Terra   \n",
       "...                                   ...                         ...   \n",
       "94305  Mudança de Uso da Terra e Floresta         Resíduos Florestais   \n",
       "94314  Mudança de Uso da Terra e Floresta         Resíduos Florestais   \n",
       "94323  Mudança de Uso da Terra e Floresta         Resíduos Florestais   \n",
       "94332  Mudança de Uso da Terra e Floresta         Resíduos Florestais   \n",
       "94341  Mudança de Uso da Terra e Floresta         Resíduos Florestais   \n",
       "\n",
       "        Nível 3                 Nível 4       Nível 5  \\\n",
       "79762  Amazônia  fora de Área Protegida  Desmatamento   \n",
       "79771  Amazônia  fora de Área Protegida  Desmatamento   \n",
       "79780  Amazônia  fora de Área Protegida  Desmatamento   \n",
       "79789  Amazônia  fora de Área Protegida  Desmatamento   \n",
       "79798  Amazônia  fora de Área Protegida  Desmatamento   \n",
       "...         ...                     ...           ...   \n",
       "94305  Amazônia                     NaN  Desmatamento   \n",
       "94314  Amazônia                     NaN  Desmatamento   \n",
       "94323  Amazônia                     NaN  Desmatamento   \n",
       "94332  Amazônia                     NaN  Desmatamento   \n",
       "94341  Amazônia                     NaN  Desmatamento   \n",
       "\n",
       "                                       Nível 6               Gás Estado  \\\n",
       "79762  Floresta primária -- Área sem vegetação           CO2 (t)     AM   \n",
       "79771  Floresta primária -- Área sem vegetação  CO2e (t) GTP-AR2     AM   \n",
       "79780  Floresta primária -- Área sem vegetação  CO2e (t) GTP-AR4     AM   \n",
       "79789  Floresta primária -- Área sem vegetação  CO2e (t) GTP-AR5     AM   \n",
       "79798  Floresta primária -- Área sem vegetação  CO2e (t) GTP-AR6     AM   \n",
       "...                                        ...               ...    ...   \n",
       "94305                                      NaN  CO2e (t) GWP-AR2     AM   \n",
       "94314                                      NaN  CO2e (t) GWP-AR4     AM   \n",
       "94323                                      NaN  CO2e (t) GWP-AR5     AM   \n",
       "94332                                      NaN  CO2e (t) GWP-AR6     AM   \n",
       "94341                                      NaN           N2O (t)     AM   \n",
       "\n",
       "      Atividade Econômica Produto  ...          2012          2013  \\\n",
       "79762             AGROPEC     NaN  ...  8.511800e+04  9.763700e+04   \n",
       "79771             AGROPEC     NaN  ...  8.511800e+04  9.763700e+04   \n",
       "79780             AGROPEC     NaN  ...  8.511800e+04  9.763700e+04   \n",
       "79789             AGROPEC     NaN  ...  8.511800e+04  9.763700e+04   \n",
       "79798             AGROPEC     NaN  ...  8.511800e+04  9.763700e+04   \n",
       "...                   ...     ...  ...           ...           ...   \n",
       "94305             AGROPEC     NaN  ...  2.239997e+06  3.186571e+06   \n",
       "94314             AGROPEC     NaN  ...  2.505953e+06  3.565317e+06   \n",
       "94323             AGROPEC     NaN  ...  2.651128e+06  3.772286e+06   \n",
       "94332             AGROPEC     NaN  ...  2.661898e+06  3.787545e+06   \n",
       "94341             AGROPEC     NaN  ...  2.262088e+03  3.212191e+03   \n",
       "\n",
       "               2014          2015          2016          2017          2018  \\\n",
       "79762  8.761900e+04  1.218150e+05  1.137590e+05  5.299800e+04  6.117000e+04   \n",
       "79771  8.761900e+04  1.218150e+05  1.137590e+05  5.299800e+04  6.117000e+04   \n",
       "79780  8.761900e+04  1.218150e+05  1.137590e+05  5.299800e+04  6.117000e+04   \n",
       "79789  8.761900e+04  1.218150e+05  1.137590e+05  5.299800e+04  6.117000e+04   \n",
       "79798  8.761900e+04  1.218150e+05  1.137590e+05  5.299800e+04  6.117000e+04   \n",
       "...             ...           ...           ...           ...           ...   \n",
       "94305  2.973253e+06  4.796274e+06  7.396711e+06  4.362453e+06  4.434835e+06   \n",
       "94314  3.330733e+06  5.368844e+06  8.276064e+06  4.888099e+06  4.967871e+06   \n",
       "94323  3.528292e+06  5.683071e+06  8.756712e+06  5.179207e+06  5.262358e+06   \n",
       "94332  3.541992e+06  5.705721e+06  8.792123e+06  5.199159e+06  5.282817e+06   \n",
       "94341  2.939604e+03  4.799715e+03  7.453212e+03  4.297090e+03  4.387107e+03   \n",
       "\n",
       "            2019        2020       2021  \n",
       "79762    48264.0     14381.0    31867.0  \n",
       "79771    48264.0     14381.0    31867.0  \n",
       "79780    48264.0     14381.0    31867.0  \n",
       "79789    48264.0     14381.0    31867.0  \n",
       "79798    48264.0     14381.0    31867.0  \n",
       "...          ...         ...        ...  \n",
       "94305  7074966.0   8746520.0  8429758.0  \n",
       "94314  7929733.0   9799770.0  9408067.0  \n",
       "94323  8404321.0  10382705.0  9929881.0  \n",
       "94332  8436366.0  10422789.0  9973416.0  \n",
       "94341     6935.0      8628.0     8828.0  \n",
       "\n",
       "[228 rows x 62 columns]"
      ]
     },
     "execution_count": 21,
     "metadata": {},
     "output_type": "execute_result"
    }
   ],
   "source": [
    "df_emission[filter]"
   ]
  },
  {
   "cell_type": "markdown",
   "metadata": {},
   "source": [
    "### 04. Find the maximum emission value to year 2021 for 'Agropecuaria\" in Para."
   ]
  },
  {
   "cell_type": "code",
   "execution_count": 22,
   "metadata": {},
   "outputs": [],
   "source": [
    "filter = (df_emission['Nível 1 - Setor'] == 'Agropecuária') & (df_emission['Estado'] == 'PA')"
   ]
  },
  {
   "cell_type": "code",
   "execution_count": 23,
   "metadata": {},
   "outputs": [
    {
     "data": {
      "text/html": [
       "<div>\n",
       "<style scoped>\n",
       "    .dataframe tbody tr th:only-of-type {\n",
       "        vertical-align: middle;\n",
       "    }\n",
       "\n",
       "    .dataframe tbody tr th {\n",
       "        vertical-align: top;\n",
       "    }\n",
       "\n",
       "    .dataframe thead th {\n",
       "        text-align: right;\n",
       "    }\n",
       "</style>\n",
       "<table border=\"1\" class=\"dataframe\">\n",
       "  <thead>\n",
       "    <tr style=\"text-align: right;\">\n",
       "      <th></th>\n",
       "      <th>Nível 1 - Setor</th>\n",
       "      <th>Nível 2</th>\n",
       "      <th>Nível 3</th>\n",
       "      <th>Nível 4</th>\n",
       "      <th>Nível 5</th>\n",
       "      <th>Nível 6</th>\n",
       "      <th>Gás</th>\n",
       "      <th>Estado</th>\n",
       "      <th>Atividade Econômica</th>\n",
       "      <th>Produto</th>\n",
       "      <th>...</th>\n",
       "      <th>2012</th>\n",
       "      <th>2013</th>\n",
       "      <th>2014</th>\n",
       "      <th>2015</th>\n",
       "      <th>2016</th>\n",
       "      <th>2017</th>\n",
       "      <th>2018</th>\n",
       "      <th>2019</th>\n",
       "      <th>2020</th>\n",
       "      <th>2021</th>\n",
       "    </tr>\n",
       "  </thead>\n",
       "  <tbody>\n",
       "    <tr>\n",
       "      <th>1150</th>\n",
       "      <td>Agropecuária</td>\n",
       "      <td>Cultivo de Arroz</td>\n",
       "      <td>Diretas</td>\n",
       "      <td>Outros</td>\n",
       "      <td>Vegetal</td>\n",
       "      <td>Arroz</td>\n",
       "      <td>CH4 (t)</td>\n",
       "      <td>PA</td>\n",
       "      <td>AGR</td>\n",
       "      <td>ALIM_BEBIDAS</td>\n",
       "      <td>...</td>\n",
       "      <td>709.650</td>\n",
       "      <td>0.0</td>\n",
       "      <td>0.0</td>\n",
       "      <td>0.0</td>\n",
       "      <td>0.0</td>\n",
       "      <td>0.0</td>\n",
       "      <td>0.0</td>\n",
       "      <td>0.0</td>\n",
       "      <td>0.0</td>\n",
       "      <td>0.0</td>\n",
       "    </tr>\n",
       "    <tr>\n",
       "      <th>1177</th>\n",
       "      <td>Agropecuária</td>\n",
       "      <td>Cultivo de Arroz</td>\n",
       "      <td>Diretas</td>\n",
       "      <td>Outros</td>\n",
       "      <td>Vegetal</td>\n",
       "      <td>Arroz</td>\n",
       "      <td>CO2e (t) GTP-AR2</td>\n",
       "      <td>PA</td>\n",
       "      <td>AGR</td>\n",
       "      <td>ALIM_BEBIDAS</td>\n",
       "      <td>...</td>\n",
       "      <td>3548.250</td>\n",
       "      <td>0.0</td>\n",
       "      <td>0.0</td>\n",
       "      <td>0.0</td>\n",
       "      <td>0.0</td>\n",
       "      <td>0.0</td>\n",
       "      <td>0.0</td>\n",
       "      <td>0.0</td>\n",
       "      <td>0.0</td>\n",
       "      <td>0.0</td>\n",
       "    </tr>\n",
       "    <tr>\n",
       "      <th>1204</th>\n",
       "      <td>Agropecuária</td>\n",
       "      <td>Cultivo de Arroz</td>\n",
       "      <td>Diretas</td>\n",
       "      <td>Outros</td>\n",
       "      <td>Vegetal</td>\n",
       "      <td>Arroz</td>\n",
       "      <td>CO2e (t) GTP-AR4</td>\n",
       "      <td>PA</td>\n",
       "      <td>AGR</td>\n",
       "      <td>ALIM_BEBIDAS</td>\n",
       "      <td>...</td>\n",
       "      <td>3548.250</td>\n",
       "      <td>0.0</td>\n",
       "      <td>0.0</td>\n",
       "      <td>0.0</td>\n",
       "      <td>0.0</td>\n",
       "      <td>0.0</td>\n",
       "      <td>0.0</td>\n",
       "      <td>0.0</td>\n",
       "      <td>0.0</td>\n",
       "      <td>0.0</td>\n",
       "    </tr>\n",
       "    <tr>\n",
       "      <th>1231</th>\n",
       "      <td>Agropecuária</td>\n",
       "      <td>Cultivo de Arroz</td>\n",
       "      <td>Diretas</td>\n",
       "      <td>Outros</td>\n",
       "      <td>Vegetal</td>\n",
       "      <td>Arroz</td>\n",
       "      <td>CO2e (t) GTP-AR5</td>\n",
       "      <td>PA</td>\n",
       "      <td>AGR</td>\n",
       "      <td>ALIM_BEBIDAS</td>\n",
       "      <td>...</td>\n",
       "      <td>2838.600</td>\n",
       "      <td>0.0</td>\n",
       "      <td>0.0</td>\n",
       "      <td>0.0</td>\n",
       "      <td>0.0</td>\n",
       "      <td>0.0</td>\n",
       "      <td>0.0</td>\n",
       "      <td>0.0</td>\n",
       "      <td>0.0</td>\n",
       "      <td>0.0</td>\n",
       "    </tr>\n",
       "    <tr>\n",
       "      <th>1258</th>\n",
       "      <td>Agropecuária</td>\n",
       "      <td>Cultivo de Arroz</td>\n",
       "      <td>Diretas</td>\n",
       "      <td>Outros</td>\n",
       "      <td>Vegetal</td>\n",
       "      <td>Arroz</td>\n",
       "      <td>CO2e (t) GTP-AR6</td>\n",
       "      <td>PA</td>\n",
       "      <td>AGR</td>\n",
       "      <td>ALIM_BEBIDAS</td>\n",
       "      <td>...</td>\n",
       "      <td>3335.355</td>\n",
       "      <td>0.0</td>\n",
       "      <td>0.0</td>\n",
       "      <td>0.0</td>\n",
       "      <td>0.0</td>\n",
       "      <td>0.0</td>\n",
       "      <td>0.0</td>\n",
       "      <td>0.0</td>\n",
       "      <td>0.0</td>\n",
       "      <td>0.0</td>\n",
       "    </tr>\n",
       "  </tbody>\n",
       "</table>\n",
       "<p>5 rows × 62 columns</p>\n",
       "</div>"
      ],
      "text/plain": [
       "     Nível 1 - Setor           Nível 2  Nível 3 Nível 4  Nível 5 Nível 6  \\\n",
       "1150    Agropecuária  Cultivo de Arroz  Diretas  Outros  Vegetal   Arroz   \n",
       "1177    Agropecuária  Cultivo de Arroz  Diretas  Outros  Vegetal   Arroz   \n",
       "1204    Agropecuária  Cultivo de Arroz  Diretas  Outros  Vegetal   Arroz   \n",
       "1231    Agropecuária  Cultivo de Arroz  Diretas  Outros  Vegetal   Arroz   \n",
       "1258    Agropecuária  Cultivo de Arroz  Diretas  Outros  Vegetal   Arroz   \n",
       "\n",
       "                   Gás Estado Atividade Econômica       Produto  ...  \\\n",
       "1150           CH4 (t)     PA                 AGR  ALIM_BEBIDAS  ...   \n",
       "1177  CO2e (t) GTP-AR2     PA                 AGR  ALIM_BEBIDAS  ...   \n",
       "1204  CO2e (t) GTP-AR4     PA                 AGR  ALIM_BEBIDAS  ...   \n",
       "1231  CO2e (t) GTP-AR5     PA                 AGR  ALIM_BEBIDAS  ...   \n",
       "1258  CO2e (t) GTP-AR6     PA                 AGR  ALIM_BEBIDAS  ...   \n",
       "\n",
       "          2012  2013  2014  2015  2016  2017  2018  2019  2020  2021  \n",
       "1150   709.650   0.0   0.0   0.0   0.0   0.0   0.0   0.0   0.0   0.0  \n",
       "1177  3548.250   0.0   0.0   0.0   0.0   0.0   0.0   0.0   0.0   0.0  \n",
       "1204  3548.250   0.0   0.0   0.0   0.0   0.0   0.0   0.0   0.0   0.0  \n",
       "1231  2838.600   0.0   0.0   0.0   0.0   0.0   0.0   0.0   0.0   0.0  \n",
       "1258  3335.355   0.0   0.0   0.0   0.0   0.0   0.0   0.0   0.0   0.0  \n",
       "\n",
       "[5 rows x 62 columns]"
      ]
     },
     "execution_count": 23,
     "metadata": {},
     "output_type": "execute_result"
    }
   ],
   "source": [
    "df_emission[filter].head()"
   ]
  },
  {
   "cell_type": "code",
   "execution_count": 24,
   "metadata": {},
   "outputs": [
    {
     "data": {
      "text/plain": [
       "36856969.7986"
      ]
     },
     "execution_count": 24,
     "metadata": {},
     "output_type": "execute_result"
    }
   ],
   "source": [
    "df_emission.loc[filter, 2021].max()"
   ]
  },
  {
   "cell_type": "markdown",
   "metadata": {},
   "source": [
    "## Transforming the dataframe"
   ]
  },
  {
   "cell_type": "markdown",
   "metadata": {},
   "source": [
    "### Melting Df"
   ]
  },
  {
   "cell_type": "markdown",
   "metadata": {},
   "source": [
    "We will switch the configuration of our dataframe and melt the years columns in to a single column named 'Ano' and a second column with their respective value. To do this, we will separate our columns in informative columns which will be the ones that we want keep, and values columns which will be melted."
   ]
  },
  {
   "cell_type": "code",
   "execution_count": 25,
   "metadata": {},
   "outputs": [
    {
     "data": {
      "text/html": [
       "<div>\n",
       "<style scoped>\n",
       "    .dataframe tbody tr th:only-of-type {\n",
       "        vertical-align: middle;\n",
       "    }\n",
       "\n",
       "    .dataframe tbody tr th {\n",
       "        vertical-align: top;\n",
       "    }\n",
       "\n",
       "    .dataframe thead th {\n",
       "        text-align: right;\n",
       "    }\n",
       "</style>\n",
       "<table border=\"1\" class=\"dataframe\">\n",
       "  <thead>\n",
       "    <tr style=\"text-align: right;\">\n",
       "      <th></th>\n",
       "      <th>Nível 1 - Setor</th>\n",
       "      <th>Nível 2</th>\n",
       "      <th>Nível 3</th>\n",
       "      <th>Nível 4</th>\n",
       "      <th>Nível 5</th>\n",
       "      <th>Nível 6</th>\n",
       "      <th>Gás</th>\n",
       "      <th>Estado</th>\n",
       "      <th>Atividade Econômica</th>\n",
       "      <th>Produto</th>\n",
       "      <th>...</th>\n",
       "      <th>2012</th>\n",
       "      <th>2013</th>\n",
       "      <th>2014</th>\n",
       "      <th>2015</th>\n",
       "      <th>2016</th>\n",
       "      <th>2017</th>\n",
       "      <th>2018</th>\n",
       "      <th>2019</th>\n",
       "      <th>2020</th>\n",
       "      <th>2021</th>\n",
       "    </tr>\n",
       "  </thead>\n",
       "  <tbody>\n",
       "    <tr>\n",
       "      <th>0</th>\n",
       "      <td>Processos Industriais</td>\n",
       "      <td>Indústria Química</td>\n",
       "      <td>Produção de ABS</td>\n",
       "      <td>NaN</td>\n",
       "      <td>NaN</td>\n",
       "      <td>NaN</td>\n",
       "      <td>COVNM (t)</td>\n",
       "      <td>SP</td>\n",
       "      <td>OUTRA_IND</td>\n",
       "      <td>NaN</td>\n",
       "      <td>...</td>\n",
       "      <td>897.600</td>\n",
       "      <td>897.600</td>\n",
       "      <td>897.600</td>\n",
       "      <td>897.600</td>\n",
       "      <td>897.600</td>\n",
       "      <td>897.600</td>\n",
       "      <td>897.600</td>\n",
       "      <td>897.600</td>\n",
       "      <td>897.600</td>\n",
       "      <td>897.600</td>\n",
       "    </tr>\n",
       "    <tr>\n",
       "      <th>1</th>\n",
       "      <td>Processos Industriais</td>\n",
       "      <td>Indústria Química</td>\n",
       "      <td>Produção de Ácido Adípico</td>\n",
       "      <td>NaN</td>\n",
       "      <td>NaN</td>\n",
       "      <td>NaN</td>\n",
       "      <td>N2O (t)</td>\n",
       "      <td>SP</td>\n",
       "      <td>OUTRA_IND</td>\n",
       "      <td>NaN</td>\n",
       "      <td>...</td>\n",
       "      <td>130.000</td>\n",
       "      <td>130.000</td>\n",
       "      <td>130.000</td>\n",
       "      <td>130.000</td>\n",
       "      <td>130.000</td>\n",
       "      <td>130.000</td>\n",
       "      <td>130.000</td>\n",
       "      <td>130.000</td>\n",
       "      <td>130.000</td>\n",
       "      <td>130.000</td>\n",
       "    </tr>\n",
       "    <tr>\n",
       "      <th>2</th>\n",
       "      <td>Processos Industriais</td>\n",
       "      <td>Indústria Química</td>\n",
       "      <td>Produção de Ácido Adípico</td>\n",
       "      <td>NaN</td>\n",
       "      <td>NaN</td>\n",
       "      <td>NaN</td>\n",
       "      <td>CO (t)</td>\n",
       "      <td>SP</td>\n",
       "      <td>OUTRA_IND</td>\n",
       "      <td>NaN</td>\n",
       "      <td>...</td>\n",
       "      <td>1380.576</td>\n",
       "      <td>1380.576</td>\n",
       "      <td>1380.576</td>\n",
       "      <td>1380.576</td>\n",
       "      <td>1380.576</td>\n",
       "      <td>1380.576</td>\n",
       "      <td>1380.576</td>\n",
       "      <td>1380.576</td>\n",
       "      <td>1380.576</td>\n",
       "      <td>1380.576</td>\n",
       "    </tr>\n",
       "  </tbody>\n",
       "</table>\n",
       "<p>3 rows × 62 columns</p>\n",
       "</div>"
      ],
      "text/plain": [
       "         Nível 1 - Setor            Nível 2                    Nível 3  \\\n",
       "0  Processos Industriais  Indústria Química            Produção de ABS   \n",
       "1  Processos Industriais  Indústria Química  Produção de Ácido Adípico   \n",
       "2  Processos Industriais  Indústria Química  Produção de Ácido Adípico   \n",
       "\n",
       "  Nível 4 Nível 5 Nível 6        Gás Estado Atividade Econômica Produto  ...  \\\n",
       "0     NaN     NaN     NaN  COVNM (t)     SP           OUTRA_IND     NaN  ...   \n",
       "1     NaN     NaN     NaN    N2O (t)     SP           OUTRA_IND     NaN  ...   \n",
       "2     NaN     NaN     NaN     CO (t)     SP           OUTRA_IND     NaN  ...   \n",
       "\n",
       "       2012      2013      2014      2015      2016      2017      2018  \\\n",
       "0   897.600   897.600   897.600   897.600   897.600   897.600   897.600   \n",
       "1   130.000   130.000   130.000   130.000   130.000   130.000   130.000   \n",
       "2  1380.576  1380.576  1380.576  1380.576  1380.576  1380.576  1380.576   \n",
       "\n",
       "       2019      2020      2021  \n",
       "0   897.600   897.600   897.600  \n",
       "1   130.000   130.000   130.000  \n",
       "2  1380.576  1380.576  1380.576  \n",
       "\n",
       "[3 rows x 62 columns]"
      ]
     },
     "execution_count": 25,
     "metadata": {},
     "output_type": "execute_result"
    }
   ],
   "source": [
    "df_emission.head(3)"
   ]
  },
  {
   "cell_type": "code",
   "execution_count": 26,
   "metadata": {},
   "outputs": [
    {
     "data": {
      "text/plain": [
       "Index([    'Nível 1 - Setor',             'Nível 2',             'Nível 3',\n",
       "                   'Nível 4',             'Nível 5',             'Nível 6',\n",
       "                       'Gás',              'Estado', 'Atividade Econômica',\n",
       "                   'Produto',                  1970,                  1971,\n",
       "                        1972,                  1973,                  1974,\n",
       "                        1975,                  1976,                  1977,\n",
       "                        1978,                  1979,                  1980,\n",
       "                        1981,                  1982,                  1983,\n",
       "                        1984,                  1985,                  1986,\n",
       "                        1987,                  1988,                  1989,\n",
       "                        1990,                  1991,                  1992,\n",
       "                        1993,                  1994,                  1995,\n",
       "                        1996,                  1997,                  1998,\n",
       "                        1999,                  2000,                  2001,\n",
       "                        2002,                  2003,                  2004,\n",
       "                        2005,                  2006,                  2007,\n",
       "                        2008,                  2009,                  2010,\n",
       "                        2011,                  2012,                  2013,\n",
       "                        2014,                  2015,                  2016,\n",
       "                        2017,                  2018,                  2019,\n",
       "                        2020,                  2021],\n",
       "      dtype='object')"
      ]
     },
     "execution_count": 26,
     "metadata": {},
     "output_type": "execute_result"
    }
   ],
   "source": [
    "df_emission.columns"
   ]
  },
  {
   "cell_type": "code",
   "execution_count": 27,
   "metadata": {},
   "outputs": [],
   "source": [
    "info_columns = list(df_emission.loc[:, :'Produto'].columns)"
   ]
  },
  {
   "cell_type": "code",
   "execution_count": 28,
   "metadata": {},
   "outputs": [],
   "source": [
    "emission_columns = list(df_emission.loc[:, 1970:2021].columns)"
   ]
  },
  {
   "cell_type": "code",
   "execution_count": 29,
   "metadata": {},
   "outputs": [],
   "source": [
    "yearly_emission = df_emission.melt(id_vars = info_columns, value_vars = emission_columns, var_name = 'Ano', value_name = 'Emissão')"
   ]
  },
  {
   "cell_type": "code",
   "execution_count": 30,
   "metadata": {},
   "outputs": [
    {
     "data": {
      "text/html": [
       "<div>\n",
       "<style scoped>\n",
       "    .dataframe tbody tr th:only-of-type {\n",
       "        vertical-align: middle;\n",
       "    }\n",
       "\n",
       "    .dataframe tbody tr th {\n",
       "        vertical-align: top;\n",
       "    }\n",
       "\n",
       "    .dataframe thead th {\n",
       "        text-align: right;\n",
       "    }\n",
       "</style>\n",
       "<table border=\"1\" class=\"dataframe\">\n",
       "  <thead>\n",
       "    <tr style=\"text-align: right;\">\n",
       "      <th></th>\n",
       "      <th>Nível 1 - Setor</th>\n",
       "      <th>Nível 2</th>\n",
       "      <th>Nível 3</th>\n",
       "      <th>Nível 4</th>\n",
       "      <th>Nível 5</th>\n",
       "      <th>Nível 6</th>\n",
       "      <th>Gás</th>\n",
       "      <th>Estado</th>\n",
       "      <th>Atividade Econômica</th>\n",
       "      <th>Produto</th>\n",
       "      <th>Ano</th>\n",
       "      <th>Emissão</th>\n",
       "    </tr>\n",
       "  </thead>\n",
       "  <tbody>\n",
       "    <tr>\n",
       "      <th>0</th>\n",
       "      <td>Processos Industriais</td>\n",
       "      <td>Indústria Química</td>\n",
       "      <td>Produção de ABS</td>\n",
       "      <td>NaN</td>\n",
       "      <td>NaN</td>\n",
       "      <td>NaN</td>\n",
       "      <td>COVNM (t)</td>\n",
       "      <td>SP</td>\n",
       "      <td>OUTRA_IND</td>\n",
       "      <td>NaN</td>\n",
       "      <td>1970</td>\n",
       "      <td>0.0</td>\n",
       "    </tr>\n",
       "    <tr>\n",
       "      <th>1</th>\n",
       "      <td>Processos Industriais</td>\n",
       "      <td>Indústria Química</td>\n",
       "      <td>Produção de Ácido Adípico</td>\n",
       "      <td>NaN</td>\n",
       "      <td>NaN</td>\n",
       "      <td>NaN</td>\n",
       "      <td>N2O (t)</td>\n",
       "      <td>SP</td>\n",
       "      <td>OUTRA_IND</td>\n",
       "      <td>NaN</td>\n",
       "      <td>1970</td>\n",
       "      <td>6210.0</td>\n",
       "    </tr>\n",
       "    <tr>\n",
       "      <th>2</th>\n",
       "      <td>Processos Industriais</td>\n",
       "      <td>Indústria Química</td>\n",
       "      <td>Produção de Ácido Adípico</td>\n",
       "      <td>NaN</td>\n",
       "      <td>NaN</td>\n",
       "      <td>NaN</td>\n",
       "      <td>CO (t)</td>\n",
       "      <td>SP</td>\n",
       "      <td>OUTRA_IND</td>\n",
       "      <td>NaN</td>\n",
       "      <td>1970</td>\n",
       "      <td>368.0</td>\n",
       "    </tr>\n",
       "    <tr>\n",
       "      <th>3</th>\n",
       "      <td>Processos Industriais</td>\n",
       "      <td>Indústria Química</td>\n",
       "      <td>Produção de Ácido Adípico</td>\n",
       "      <td>NaN</td>\n",
       "      <td>NaN</td>\n",
       "      <td>NaN</td>\n",
       "      <td>NOx (t)</td>\n",
       "      <td>SP</td>\n",
       "      <td>OUTRA_IND</td>\n",
       "      <td>NaN</td>\n",
       "      <td>1970</td>\n",
       "      <td>115.0</td>\n",
       "    </tr>\n",
       "    <tr>\n",
       "      <th>4</th>\n",
       "      <td>Processos Industriais</td>\n",
       "      <td>Indústria Química</td>\n",
       "      <td>Produção de Ácido Adípico</td>\n",
       "      <td>NaN</td>\n",
       "      <td>NaN</td>\n",
       "      <td>NaN</td>\n",
       "      <td>CO2e (t) GWP-AR2</td>\n",
       "      <td>SP</td>\n",
       "      <td>OUTRA_IND</td>\n",
       "      <td>NaN</td>\n",
       "      <td>1970</td>\n",
       "      <td>1925100.0</td>\n",
       "    </tr>\n",
       "  </tbody>\n",
       "</table>\n",
       "</div>"
      ],
      "text/plain": [
       "         Nível 1 - Setor            Nível 2                    Nível 3  \\\n",
       "0  Processos Industriais  Indústria Química            Produção de ABS   \n",
       "1  Processos Industriais  Indústria Química  Produção de Ácido Adípico   \n",
       "2  Processos Industriais  Indústria Química  Produção de Ácido Adípico   \n",
       "3  Processos Industriais  Indústria Química  Produção de Ácido Adípico   \n",
       "4  Processos Industriais  Indústria Química  Produção de Ácido Adípico   \n",
       "\n",
       "  Nível 4 Nível 5 Nível 6               Gás Estado Atividade Econômica  \\\n",
       "0     NaN     NaN     NaN         COVNM (t)     SP           OUTRA_IND   \n",
       "1     NaN     NaN     NaN           N2O (t)     SP           OUTRA_IND   \n",
       "2     NaN     NaN     NaN            CO (t)     SP           OUTRA_IND   \n",
       "3     NaN     NaN     NaN           NOx (t)     SP           OUTRA_IND   \n",
       "4     NaN     NaN     NaN  CO2e (t) GWP-AR2     SP           OUTRA_IND   \n",
       "\n",
       "  Produto   Ano    Emissão  \n",
       "0     NaN  1970        0.0  \n",
       "1     NaN  1970     6210.0  \n",
       "2     NaN  1970      368.0  \n",
       "3     NaN  1970      115.0  \n",
       "4     NaN  1970  1925100.0  "
      ]
     },
     "execution_count": 30,
     "metadata": {},
     "output_type": "execute_result"
    }
   ],
   "source": [
    "yearly_emission.head()"
   ]
  },
  {
   "cell_type": "markdown",
   "metadata": {},
   "source": [
    "### Grouping by Gás"
   ]
  },
  {
   "cell_type": "markdown",
   "metadata": {},
   "source": [
    "Now, after melting and transform the dataframe, it's possible to group the data according to the column 'Gás', turning possible to see the emission from each Gás."
   ]
  },
  {
   "cell_type": "code",
   "execution_count": 31,
   "metadata": {},
   "outputs": [
    {
     "data": {
      "text/plain": [
       "{'C2F6 (t)': [410, 411, 412, 425, 426, 427, 95158, 95159, 95160, 95173, 95174, 95175, 189906, 189907, 189908, 189921, 189922, 189923, 284654, 284655, 284656, 284669, 284670, 284671, 379402, 379403, 379404, 379417, 379418, 379419, 474150, 474151, 474152, 474165, 474166, 474167, 568898, 568899, 568900, 568913, 568914, 568915, 663646, 663647, 663648, 663661, 663662, 663663, 758394, 758395, 758396, 758409, 758410, 758411, 853142, 853143, 853144, 853157, 853158, 853159, 947890, 947891, 947892, 947905, 947906, 947907, 1042638, 1042639, 1042640, 1042653, 1042654, 1042655, 1137386, 1137387, 1137388, 1137401, 1137402, 1137403, 1232134, 1232135, 1232136, 1232149, 1232150, 1232151, 1326882, 1326883, 1326884, 1326897, 1326898, 1326899, 1421630, 1421631, 1421632, 1421645, 1421646, 1421647, 1516378, 1516379, 1516380, 1516393, ...], 'CF4 (t)': [407, 408, 409, 422, 423, 424, 95155, 95156, 95157, 95170, 95171, 95172, 189903, 189904, 189905, 189918, 189919, 189920, 284651, 284652, 284653, 284666, 284667, 284668, 379399, 379400, 379401, 379414, 379415, 379416, 474147, 474148, 474149, 474162, 474163, 474164, 568895, 568896, 568897, 568910, 568911, 568912, 663643, 663644, 663645, 663658, 663659, 663660, 758391, 758392, 758393, 758406, 758407, 758408, 853139, 853140, 853141, 853154, 853155, 853156, 947887, 947888, 947889, 947902, 947903, 947904, 1042635, 1042636, 1042637, 1042650, 1042651, 1042652, 1137383, 1137384, 1137385, 1137398, 1137399, 1137400, 1232131, 1232132, 1232133, 1232146, 1232147, 1232148, 1326879, 1326880, 1326881, 1326894, 1326895, 1326896, 1421627, 1421628, 1421629, 1421642, 1421643, 1421644, 1516375, 1516376, 1516377, 1516390, ...], 'CH4 (t)': [19, 50, 57, 64, 67, 71, 76, 203, 204, 205, 206, 207, 208, 209, 210, 211, 212, 213, 214, 215, 216, 217, 218, 219, 220, 320, 321, 322, 323, 324, 325, 326, 327, 328, 329, 330, 331, 332, 333, 447, 448, 449, 450, 1137, 1138, 1139, 1140, 1141, 1142, 1143, 1144, 1145, 1146, 1147, 1148, 1149, 1150, 1151, 1152, 1153, 1154, 1155, 1156, 1157, 1158, 1159, 1160, 1161, 1162, 1163, 1380, 1381, 1382, 1383, 1384, 1385, 1386, 1387, 1388, 1389, 1390, 1391, 1392, 1393, 1394, 1395, 1396, 1397, 1398, 1399, 1400, 1401, 1402, 1403, 1404, 1405, 1406, 1623, 1624, 1625, ...], 'CO (t)': [2, 185, 186, 187, 188, 189, 190, 191, 192, 193, 194, 195, 196, 197, 198, 199, 200, 201, 202, 306, 307, 308, 309, 310, 311, 312, 313, 314, 315, 316, 317, 318, 319, 443, 444, 445, 446, 7104, 7105, 7106, 7107, 7108, 7109, 7110, 7111, 7112, 7113, 7114, 7115, 7116, 7117, 7118, 7119, 7120, 7121, 7122, 7123, 7124, 7125, 7126, 7127, 7128, 7129, 7130, 7428, 7429, 7430, 7431, 7432, 7433, 7434, 7435, 7436, 7437, 7438, 7439, 7440, 7441, 7442, 7443, 7444, 7445, 7446, 7447, 7448, 7449, 7450, 7451, 7452, 7453, 7454, 23277, 23290, 23303, 23316, 23329, 23342, 23355, 23368, 23381, ...], 'CO2 (t)': [18, 23, 26, 29, 32, 35, 38, 46, 49, 56, 63, 70, 75, 86, 89, 90, 91, 92, 93, 94, 95, 96, 97, 98, 99, 100, 101, 102, 103, 104, 105, 106, 107, 108, 109, 110, 111, 112, 113, 164, 165, 170, 173, 174, 179, 180, 181, 182, 183, 184, 297, 298, 299, 300, 301, 302, 303, 304, 305, 404, 405, 406, 419, 420, 421, 434, 440, 441, 442, 482, 489, 490, 491, 492, 501, 502, 503, 504, 513, 514, 515, 516, 11856, 11857, 11858, 11859, 11860, 11861, 11862, 11863, 11864, 11865, 11866, 11867, 11868, 11869, 11870, 11871, 11872, 11873, ...], 'CO2e (t) GTP-AR2': [5, 9, 13, 17, 22, 25, 28, 31, 34, 37, 40, 45, 48, 53, 60, 66, 69, 74, 78, 88, 139, 140, 141, 142, 143, 144, 145, 146, 147, 148, 149, 150, 151, 152, 153, 154, 155, 156, 157, 158, 159, 160, 161, 162, 163, 168, 169, 172, 177, 178, 286, 287, 288, 289, 290, 291, 292, 293, 294, 295, 296, 390, 391, 392, 393, 394, 395, 396, 397, 398, 399, 400, 401, 402, 403, 416, 417, 418, 431, 432, 433, 436, 439, 467, 468, 469, 470, 478, 481, 484, 497, 498, 499, 500, 509, 510, 511, 512, 521, 522, ...], 'CO2e (t) GTP-AR4': [526, 528, 530, 532, 534, 536, 538, 540, 542, 544, 546, 548, 550, 552, 554, 556, 558, 560, 562, 564, 590, 591, 592, 593, 594, 595, 596, 597, 598, 599, 600, 601, 602, 603, 604, 605, 606, 607, 608, 609, 610, 611, 612, 613, 614, 617, 618, 620, 623, 624, 636, 637, 638, 639, 640, 641, 642, 643, 644, 645, 646, 661, 662, 663, 664, 665, 666, 667, 668, 669, 670, 671, 672, 673, 674, 678, 679, 680, 684, 685, 686, 688, 690, 695, 696, 697, 698, 700, 702, 704, 709, 710, 711, 712, 717, 718, 719, 720, 725, 726, ...], 'CO2e (t) GTP-AR5': [730, 732, 734, 736, 738, 740, 742, 744, 746, 748, 750, 752, 754, 756, 758, 760, 762, 764, 766, 768, 794, 795, 796, 797, 798, 799, 800, 801, 802, 803, 804, 805, 806, 807, 808, 809, 810, 811, 812, 813, 814, 815, 816, 817, 818, 821, 822, 824, 827, 828, 840, 841, 842, 843, 844, 845, 846, 847, 848, 849, 850, 865, 866, 867, 868, 869, 870, 871, 872, 873, 874, 875, 876, 877, 878, 882, 883, 884, 888, 889, 890, 892, 894, 899, 900, 901, 902, 904, 906, 908, 913, 914, 915, 916, 921, 922, 923, 924, 929, 930, ...], 'CO2e (t) GTP-AR6': [934, 936, 938, 940, 942, 944, 946, 948, 950, 952, 954, 956, 958, 960, 962, 964, 966, 968, 970, 972, 998, 999, 1000, 1001, 1002, 1003, 1004, 1005, 1006, 1007, 1008, 1009, 1010, 1011, 1012, 1013, 1014, 1015, 1016, 1017, 1018, 1019, 1020, 1021, 1022, 1025, 1026, 1028, 1031, 1032, 1044, 1045, 1046, 1047, 1048, 1049, 1050, 1051, 1052, 1053, 1054, 1069, 1070, 1071, 1072, 1073, 1074, 1075, 1076, 1077, 1078, 1079, 1080, 1081, 1082, 1086, 1087, 1088, 1092, 1093, 1094, 1096, 1098, 1103, 1104, 1105, 1106, 1108, 1110, 1112, 1117, 1118, 1119, 1120, 1125, 1126, 1127, 1128, 1133, 1134, ...], 'CO2e (t) GWP-AR2': [4, 8, 12, 16, 21, 24, 27, 30, 33, 36, 39, 44, 47, 52, 59, 65, 68, 73, 77, 87, 114, 115, 116, 117, 118, 119, 120, 121, 122, 123, 124, 125, 126, 127, 128, 129, 130, 131, 132, 133, 134, 135, 136, 137, 138, 166, 167, 171, 175, 176, 275, 276, 277, 278, 279, 280, 281, 282, 283, 284, 285, 376, 377, 378, 379, 380, 381, 382, 383, 384, 385, 386, 387, 388, 389, 413, 414, 415, 428, 429, 430, 435, 438, 463, 464, 465, 466, 477, 480, 483, 493, 494, 495, 496, 505, 506, 507, 508, 517, 518, ...], 'CO2e (t) GWP-AR4': [525, 527, 529, 531, 533, 535, 537, 539, 541, 543, 545, 547, 549, 551, 553, 555, 557, 559, 561, 563, 565, 566, 567, 568, 569, 570, 571, 572, 573, 574, 575, 576, 577, 578, 579, 580, 581, 582, 583, 584, 585, 586, 587, 588, 589, 615, 616, 619, 621, 622, 625, 626, 627, 628, 629, 630, 631, 632, 633, 634, 635, 647, 648, 649, 650, 651, 652, 653, 654, 655, 656, 657, 658, 659, 660, 675, 676, 677, 681, 682, 683, 687, 689, 691, 692, 693, 694, 699, 701, 703, 705, 706, 707, 708, 713, 714, 715, 716, 721, 722, ...], 'CO2e (t) GWP-AR5': [729, 731, 733, 735, 737, 739, 741, 743, 745, 747, 749, 751, 753, 755, 757, 759, 761, 763, 765, 767, 769, 770, 771, 772, 773, 774, 775, 776, 777, 778, 779, 780, 781, 782, 783, 784, 785, 786, 787, 788, 789, 790, 791, 792, 793, 819, 820, 823, 825, 826, 829, 830, 831, 832, 833, 834, 835, 836, 837, 838, 839, 851, 852, 853, 854, 855, 856, 857, 858, 859, 860, 861, 862, 863, 864, 879, 880, 881, 885, 886, 887, 891, 893, 895, 896, 897, 898, 903, 905, 907, 909, 910, 911, 912, 917, 918, 919, 920, 925, 926, ...], 'CO2e (t) GWP-AR6': [933, 935, 937, 939, 941, 943, 945, 947, 949, 951, 953, 955, 957, 959, 961, 963, 965, 967, 969, 971, 973, 974, 975, 976, 977, 978, 979, 980, 981, 982, 983, 984, 985, 986, 987, 988, 989, 990, 991, 992, 993, 994, 995, 996, 997, 1023, 1024, 1027, 1029, 1030, 1033, 1034, 1035, 1036, 1037, 1038, 1039, 1040, 1041, 1042, 1043, 1055, 1056, 1057, 1058, 1059, 1060, 1061, 1062, 1063, 1064, 1065, 1066, 1067, 1068, 1083, 1084, 1085, 1089, 1090, 1091, 1095, 1097, 1099, 1100, 1101, 1102, 1107, 1109, 1111, 1113, 1114, 1115, 1116, 1121, 1122, 1123, 1124, 1129, 1130, ...], 'COVNM (t)': [0, 20, 41, 42, 51, 54, 55, 58, 61, 62, 79, 80, 81, 82, 83, 84, 85, 257, 258, 259, 260, 261, 262, 263, 264, 265, 266, 267, 268, 269, 270, 271, 272, 273, 274, 362, 363, 364, 365, 366, 367, 368, 369, 370, 371, 372, 373, 374, 375, 459, 460, 461, 462, 485, 486, 487, 488, 23281, 23294, 23307, 23320, 23333, 23346, 23359, 23372, 23385, 23398, 23411, 23424, 23437, 23450, 23463, 23476, 23489, 23502, 23515, 23528, 23541, 23554, 23567, 23580, 23593, 23606, 23619, 23632, 23645, 23658, 23671, 23684, 23697, 23710, 23723, 23736, 23749, 23762, 23775, 23788, 23801, 23814, 23827, ...], 'HFC-125 (t)': [474, 95222, 189970, 284718, 379466, 474214, 568962, 663710, 758458, 853206, 947954, 1042702, 1137450, 1232198, 1326946, 1421694, 1516442, 1611190, 1705938, 1800686, 1895434, 1990182, 2084930, 2179678, 2274426, 2369174, 2463922, 2558670, 2653418, 2748166, 2842914, 2937662, 3032410, 3127158, 3221906, 3316654, 3411402, 3506150, 3600898, 3695646, 3790394, 3885142, 3979890, 4074638, 4169386, 4264134, 4358882, 4453630, 4548378, 4643126, 4737874, 4832622], 'HFC-134a (t)': [473, 95221, 189969, 284717, 379465, 474213, 568961, 663709, 758457, 853205, 947953, 1042701, 1137449, 1232197, 1326945, 1421693, 1516441, 1611189, 1705937, 1800685, 1895433, 1990181, 2084929, 2179677, 2274425, 2369173, 2463921, 2558669, 2653417, 2748165, 2842913, 2937661, 3032409, 3127157, 3221905, 3316653, 3411401, 3506149, 3600897, 3695645, 3790393, 3885141, 3979889, 4074637, 4169385, 4264133, 4358881, 4453629, 4548377, 4643125, 4737873, 4832621], 'HFC-143a (t)': [475, 95223, 189971, 284719, 379467, 474215, 568963, 663711, 758459, 853207, 947955, 1042703, 1137451, 1232199, 1326947, 1421695, 1516443, 1611191, 1705939, 1800687, 1895435, 1990183, 2084931, 2179679, 2274427, 2369175, 2463923, 2558671, 2653419, 2748167, 2842915, 2937663, 3032411, 3127159, 3221907, 3316655, 3411403, 3506151, 3600899, 3695647, 3790395, 3885143, 3979891, 4074639, 4169387, 4264135, 4358883, 4453631, 4548379, 4643127, 4737875, 4832623], 'HFC-152a (t)': [476, 95224, 189972, 284720, 379468, 474216, 568964, 663712, 758460, 853208, 947956, 1042704, 1137452, 1232200, 1326948, 1421696, 1516444, 1611192, 1705940, 1800688, 1895436, 1990184, 2084932, 2179680, 2274428, 2369176, 2463924, 2558672, 2653420, 2748168, 2842916, 2937664, 3032412, 3127160, 3221908, 3316656, 3411404, 3506152, 3600900, 3695648, 3790396, 3885144, 3979892, 4074640, 4169388, 4264136, 4358884, 4453632, 4548380, 4643128, 4737876, 4832624], 'HFC-23 (t)': [471, 95219, 189967, 284715, 379463, 474211, 568959, 663707, 758455, 853203, 947951, 1042699, 1137447, 1232195, 1326943, 1421691, 1516439, 1611187, 1705935, 1800683, 1895431, 1990179, 2084927, 2179675, 2274423, 2369171, 2463919, 2558667, 2653415, 2748163, 2842911, 2937659, 3032407, 3127155, 3221903, 3316651, 3411399, 3506147, 3600895, 3695643, 3790391, 3885139, 3979887, 4074635, 4169383, 4264131, 4358879, 4453627, 4548375, 4643123, 4737871, 4832619], 'HFC-32 (t)': [472, 95220, 189968, 284716, 379464, 474212, 568960, 663708, 758456, 853204, 947952, 1042700, 1137448, 1232196, 1326944, 1421692, 1516440, 1611188, 1705936, 1800684, 1895432, 1990180, 2084928, 2179676, 2274424, 2369172, 2463920, 2558668, 2653416, 2748164, 2842912, 2937660, 3032408, 3127156, 3221904, 3316652, 3411400, 3506148, 3600896, 3695644, 3790392, 3885140, 3979888, 4074636, 4169384, 4264132, 4358880, 4453628, 4548376, 4643124, 4737872, 4832620], 'N2O (t)': [1, 6, 10, 14, 43, 239, 240, 241, 242, 243, 244, 245, 246, 247, 248, 249, 250, 251, 252, 253, 254, 255, 256, 348, 349, 350, 351, 352, 353, 354, 355, 356, 357, 358, 359, 360, 361, 455, 456, 457, 458, 4053, 4054, 4055, 4056, 4057, 4058, 4059, 4060, 4061, 4062, 4063, 4064, 4065, 4066, 4067, 4068, 4069, 4070, 4071, 4072, 4073, 4074, 4075, 4076, 4077, 4078, 4079, 5052, 5053, 5054, 5055, 5056, 5057, 5058, 5059, 5060, 5061, 5062, 5063, 5064, 5065, 5066, 5067, 5068, 5069, 5070, 5071, 5072, 5073, 5074, 5075, 5076, 5077, 5078, 5322, 5323, 5324, 5325, 5326, ...], 'NOx (t)': [3, 7, 11, 15, 72, 221, 222, 223, 224, 225, 226, 227, 228, 229, 230, 231, 232, 233, 234, 235, 236, 237, 238, 334, 335, 336, 337, 338, 339, 340, 341, 342, 343, 344, 345, 346, 347, 451, 452, 453, 454, 7374, 7375, 7376, 7377, 7378, 7379, 7380, 7381, 7382, 7383, 7384, 7385, 7386, 7387, 7388, 7389, 7390, 7391, 7392, 7393, 7394, 7395, 7396, 7397, 7398, 7399, 7400, 7698, 7699, 7700, 7701, 7702, 7703, 7704, 7705, 7706, 7707, 7708, 7709, 7710, 7711, 7712, 7713, 7714, 7715, 7716, 7717, 7718, 7719, 7720, 7721, 7722, 7723, 7724, 23279, 23292, 23305, 23318, 23331, ...], 'SF6 (t)': [437, 479, 95185, 95227, 189933, 189975, 284681, 284723, 379429, 379471, 474177, 474219, 568925, 568967, 663673, 663715, 758421, 758463, 853169, 853211, 947917, 947959, 1042665, 1042707, 1137413, 1137455, 1232161, 1232203, 1326909, 1326951, 1421657, 1421699, 1516405, 1516447, 1611153, 1611195, 1705901, 1705943, 1800649, 1800691, 1895397, 1895439, 1990145, 1990187, 2084893, 2084935, 2179641, 2179683, 2274389, 2274431, 2369137, 2369179, 2463885, 2463927, 2558633, 2558675, 2653381, 2653423, 2748129, 2748171, 2842877, 2842919, 2937625, 2937667, 3032373, 3032415, 3127121, 3127163, 3221869, 3221911, 3316617, 3316659, 3411365, 3411407, 3506113, 3506155, 3600861, 3600903, 3695609, 3695651, 3790357, 3790399, 3885105, 3885147, 3979853, 3979895, 4074601, 4074643, 4169349, 4169391, 4264097, 4264139, 4358845, 4358887, 4453593, 4453635, 4548341, 4548383, 4643089, 4643131, ...]}"
      ]
     },
     "execution_count": 31,
     "metadata": {},
     "output_type": "execute_result"
    }
   ],
   "source": [
    "yearly_emission.groupby('Gás').groups"
   ]
  },
  {
   "cell_type": "code",
   "execution_count": 32,
   "metadata": {},
   "outputs": [],
   "source": [
    "emission_by_gas = yearly_emission.groupby('Gás').sum(numeric_only = True).sort_values('Emissão', ascending = False)"
   ]
  },
  {
   "cell_type": "code",
   "execution_count": 33,
   "metadata": {},
   "outputs": [
    {
     "data": {
      "text/html": [
       "<div>\n",
       "<style scoped>\n",
       "    .dataframe tbody tr th:only-of-type {\n",
       "        vertical-align: middle;\n",
       "    }\n",
       "\n",
       "    .dataframe tbody tr th {\n",
       "        vertical-align: top;\n",
       "    }\n",
       "\n",
       "    .dataframe thead th {\n",
       "        text-align: right;\n",
       "    }\n",
       "</style>\n",
       "<table border=\"1\" class=\"dataframe\">\n",
       "  <thead>\n",
       "    <tr style=\"text-align: right;\">\n",
       "      <th></th>\n",
       "      <th>Emissão</th>\n",
       "    </tr>\n",
       "    <tr>\n",
       "      <th>Gás</th>\n",
       "      <th></th>\n",
       "    </tr>\n",
       "  </thead>\n",
       "  <tbody>\n",
       "    <tr>\n",
       "      <th>CO2e (t) GWP-AR5</th>\n",
       "      <td>8.181375e+10</td>\n",
       "    </tr>\n",
       "    <tr>\n",
       "      <th>CO2e (t) GWP-AR6</th>\n",
       "      <td>8.132316e+10</td>\n",
       "    </tr>\n",
       "    <tr>\n",
       "      <th>CO2e (t) GWP-AR4</th>\n",
       "      <td>8.015921e+10</td>\n",
       "    </tr>\n",
       "    <tr>\n",
       "      <th>CO2e (t) GWP-AR2</th>\n",
       "      <td>7.720596e+10</td>\n",
       "    </tr>\n",
       "    <tr>\n",
       "      <th>CO2e (t) GTP-AR2</th>\n",
       "      <td>6.344612e+10</td>\n",
       "    </tr>\n",
       "    <tr>\n",
       "      <th>CO2e (t) GTP-AR4</th>\n",
       "      <td>6.344612e+10</td>\n",
       "    </tr>\n",
       "    <tr>\n",
       "      <th>CO2e (t) GTP-AR6</th>\n",
       "      <td>6.247859e+10</td>\n",
       "    </tr>\n",
       "    <tr>\n",
       "      <th>CO2e (t) GTP-AR5</th>\n",
       "      <td>6.182200e+10</td>\n",
       "    </tr>\n",
       "    <tr>\n",
       "      <th>CO2 (t)</th>\n",
       "      <td>5.324636e+10</td>\n",
       "    </tr>\n",
       "    <tr>\n",
       "      <th>CH4 (t)</th>\n",
       "      <td>7.949268e+08</td>\n",
       "    </tr>\n",
       "    <tr>\n",
       "      <th>CO (t)</th>\n",
       "      <td>5.111531e+08</td>\n",
       "    </tr>\n",
       "    <tr>\n",
       "      <th>COVNM (t)</th>\n",
       "      <td>2.242130e+08</td>\n",
       "    </tr>\n",
       "    <tr>\n",
       "      <th>NOx (t)</th>\n",
       "      <td>9.976123e+07</td>\n",
       "    </tr>\n",
       "    <tr>\n",
       "      <th>N2O (t)</th>\n",
       "      <td>2.240066e+07</td>\n",
       "    </tr>\n",
       "    <tr>\n",
       "      <th>HFC-134a (t)</th>\n",
       "      <td>1.394731e+05</td>\n",
       "    </tr>\n",
       "    <tr>\n",
       "      <th>HFC-125 (t)</th>\n",
       "      <td>9.795580e+03</td>\n",
       "    </tr>\n",
       "    <tr>\n",
       "      <th>HFC-143a (t)</th>\n",
       "      <td>9.039400e+03</td>\n",
       "    </tr>\n",
       "    <tr>\n",
       "      <th>CF4 (t)</th>\n",
       "      <td>7.135481e+03</td>\n",
       "    </tr>\n",
       "    <tr>\n",
       "      <th>HFC-32 (t)</th>\n",
       "      <td>2.367750e+03</td>\n",
       "    </tr>\n",
       "    <tr>\n",
       "      <th>HFC-23 (t)</th>\n",
       "      <td>1.197840e+03</td>\n",
       "    </tr>\n",
       "    <tr>\n",
       "      <th>C2F6 (t)</th>\n",
       "      <td>5.765018e+02</td>\n",
       "    </tr>\n",
       "    <tr>\n",
       "      <th>HFC-152a (t)</th>\n",
       "      <td>5.706000e+02</td>\n",
       "    </tr>\n",
       "    <tr>\n",
       "      <th>SF6 (t)</th>\n",
       "      <td>4.705800e+02</td>\n",
       "    </tr>\n",
       "  </tbody>\n",
       "</table>\n",
       "</div>"
      ],
      "text/plain": [
       "                       Emissão\n",
       "Gás                           \n",
       "CO2e (t) GWP-AR5  8.181375e+10\n",
       "CO2e (t) GWP-AR6  8.132316e+10\n",
       "CO2e (t) GWP-AR4  8.015921e+10\n",
       "CO2e (t) GWP-AR2  7.720596e+10\n",
       "CO2e (t) GTP-AR2  6.344612e+10\n",
       "CO2e (t) GTP-AR4  6.344612e+10\n",
       "CO2e (t) GTP-AR6  6.247859e+10\n",
       "CO2e (t) GTP-AR5  6.182200e+10\n",
       "CO2 (t)           5.324636e+10\n",
       "CH4 (t)           7.949268e+08\n",
       "CO (t)            5.111531e+08\n",
       "COVNM (t)         2.242130e+08\n",
       "NOx (t)           9.976123e+07\n",
       "N2O (t)           2.240066e+07\n",
       "HFC-134a (t)      1.394731e+05\n",
       "HFC-125 (t)       9.795580e+03\n",
       "HFC-143a (t)      9.039400e+03\n",
       "CF4 (t)           7.135481e+03\n",
       "HFC-32 (t)        2.367750e+03\n",
       "HFC-23 (t)        1.197840e+03\n",
       "C2F6 (t)          5.765018e+02\n",
       "HFC-152a (t)      5.706000e+02\n",
       "SF6 (t)           4.705800e+02"
      ]
     },
     "execution_count": 33,
     "metadata": {},
     "output_type": "execute_result"
    }
   ],
   "source": [
    "emission_by_gas"
   ]
  },
  {
   "cell_type": "markdown",
   "metadata": {},
   "source": [
    "Now, we will look for how much the CO2 corresponds from the emissions total sum."
   ]
  },
  {
   "cell_type": "code",
   "execution_count": 34,
   "metadata": {},
   "outputs": [
    {
     "name": "stdout",
     "output_type": "stream",
     "text": [
      "CO2 emissions corresponds in 99.74% from the total.\n"
     ]
    }
   ],
   "source": [
    "co2_emission = float((emission_by_gas.iloc[0:9].sum()/emission_by_gas.sum()).iloc[0] * 100)\n",
    "print(f'CO2 emissions corresponds in {co2_emission:.2f}% from the total.')"
   ]
  },
  {
   "cell_type": "code",
   "execution_count": 35,
   "metadata": {},
   "outputs": [
    {
     "data": {
      "image/png": "[encoded data removed]",
      "text/plain": [
       "<Figure size 1000x500 with 1 Axes>"
      ]
     },
     "metadata": {},
     "output_type": "display_data"
    }
   ],
   "source": [
    "import seaborn as sns \n",
    "import matplotlib.pyplot as plt\n",
    "\n",
    "fig, ax = plt.subplots(figsize = (10,5))\n",
    "sns.barplot(data = emission_by_gas, y = emission_by_gas.index, x = 'Emissão' )\n",
    "\n",
    "ax.set_title('Emisssion by gás type from 1970 to 2021', loc = 'left', fontsize = 18, color= CINZA2, pad = 15)\n",
    "ax.set_xlabel('')\n",
    "ax.set_ylabel('')\n",
    "ax.set_xticklabels([])\n",
    "ax.tick_params(axis='both', which='both', length = 0)\n",
    "sns.despine(left=True, bottom = True)\n",
    "\n",
    "for i, v in enumerate(emission_by_gas['Emissão']):\n",
    "    if v > 50e9:\n",
    "        value = f'{v/1e9:.2f} Bi'\n",
    "        offset = 9e9\n",
    "        ax.text(v - offset, i, value, color = CINZA1, fontweight = 'bold', fontsize = 10, ha = 'left', va = 'center')\n",
    "\n",
    "# Drawing a conclusion in the graph\n",
    "ax.text(60e9, 20, 'CO2 corresponds in\\n'\n",
    "        f'$\\\\bf{co2_emission:.2f}$% from the\\n'\n",
    "        'total emission.', fontsize=12,\n",
    "color=AZUL1)\n",
    "# ax.text(3.35, 5.5e5,\n",
    "# 'das vendas nas lojas\\n'\n",
    "# 'estão concentradas nas regiões\\n'\n",
    "# '$\\\\bf{Sudeste}$, $\\\\bf{Nordeste}$ e\\n''$\\\\bf{Centro-Oeste}$ em 2019.',\n",
    "# fontsize=14,\n",
    "# linespacing=1.45,\n",
    "# color=AZUL1)\n",
    "plt.show()"
   ]
  },
  {
   "cell_type": "markdown",
   "metadata": {},
   "source": [
    "## Challenge 02 "
   ]
  },
  {
   "cell_type": "markdown",
   "metadata": {},
   "source": [
    "### 01 Group data based in column \"Nível 1 - Setor\" to visualize the dictionary containing the group keys and the index list from each group."
   ]
  },
  {
   "cell_type": "code",
   "execution_count": 36,
   "metadata": {},
   "outputs": [
    {
     "data": {
      "text/plain": [
       "{'Agropecuária': [1137, 1138, 1139, 1140, 1141, 1142, 1143, 1144, 1145, 1146, 1147, 1148, 1149, 1150, 1151, 1152, 1153, 1154, 1155, 1156, 1157, 1158, 1159, 1160, 1161, 1162, 1163, 1164, 1165, 1166, 1167, 1168, 1169, 1170, 1171, 1172, 1173, 1174, 1175, 1176, 1177, 1178, 1179, 1180, 1181, 1182, 1183, 1184, 1185, 1186, 1187, 1188, 1189, 1190, 1191, 1192, 1193, 1194, 1195, 1196, 1197, 1198, 1199, 1200, 1201, 1202, 1203, 1204, 1205, 1206, 1207, 1208, 1209, 1210, 1211, 1212, 1213, 1214, 1215, 1216, 1217, 1218, 1219, 1220, 1221, 1222, 1223, 1224, 1225, 1226, 1227, 1228, 1229, 1230, 1231, 1232, 1233, 1234, 1235, 1236, ...], 'Energia': [23277, 23278, 23279, 23280, 23281, 23282, 23283, 23284, 23285, 23286, 23287, 23288, 23289, 23290, 23291, 23292, 23293, 23294, 23295, 23296, 23297, 23298, 23299, 23300, 23301, 23302, 23303, 23304, 23305, 23306, 23307, 23308, 23309, 23310, 23311, 23312, 23313, 23314, 23315, 23316, 23317, 23318, 23319, 23320, 23321, 23322, 23323, 23324, 23325, 23326, 23327, 23328, 23329, 23330, 23331, 23332, 23333, 23334, 23335, 23336, 23337, 23338, 23339, 23340, 23341, 23342, 23343, 23344, 23345, 23346, 23347, 23348, 23349, 23350, 23351, 23352, 23353, 23354, 23355, 23356, 23357, 23358, 23359, 23360, 23361, 23362, 23363, 23364, 23365, 23366, 23367, 23368, 23369, 23370, 23371, 23372, 23373, 23374, 23375, 23376, ...], 'Mudança de Uso da Terra e Floresta': [79760, 79761, 79762, 79763, 79764, 79765, 79766, 79767, 79768, 79769, 79770, 79771, 79772, 79773, 79774, 79775, 79776, 79777, 79778, 79779, 79780, 79781, 79782, 79783, 79784, 79785, 79786, 79787, 79788, 79789, 79790, 79791, 79792, 79793, 79794, 79795, 79796, 79797, 79798, 79799, 79800, 79801, 79802, 79803, 79804, 79805, 79806, 79807, 79808, 79809, 79810, 79811, 79812, 79813, 79814, 79815, 79816, 79817, 79818, 79819, 79820, 79821, 79822, 79823, 79824, 79825, 79826, 79827, 79828, 79829, 79830, 79831, 79832, 79833, 79834, 79835, 79836, 79837, 79838, 79839, 79840, 79841, 79842, 79843, 79844, 79845, 79846, 79847, 79848, 79849, 79850, 79851, 79852, 79853, 79854, 79855, 79856, 79857, 79858, 79859, ...], 'Processos Industriais': [0, 1, 2, 3, 4, 5, 6, 7, 8, 9, 10, 11, 12, 13, 14, 15, 16, 17, 18, 19, 20, 21, 22, 23, 24, 25, 26, 27, 28, 29, 30, 31, 32, 33, 34, 35, 36, 37, 38, 39, 40, 41, 42, 43, 44, 45, 46, 47, 48, 49, 50, 51, 52, 53, 54, 55, 56, 57, 58, 59, 60, 61, 62, 63, 64, 65, 66, 67, 68, 69, 70, 71, 72, 73, 74, 75, 76, 77, 78, 79, 80, 81, 82, 83, 84, 85, 86, 87, 88, 89, 90, 91, 92, 93, 94, 95, 96, 97, 98, 99, ...], 'Resíduos ': [75944, 75945, 75946, 75947, 75948, 75949, 75950, 75951, 75952, 75953, 75954, 75955, 75956, 75957, 75958, 75959, 75960, 75961, 75962, 75963, 75964, 75965, 75966, 75967, 75968, 75969, 75970, 75971, 75972, 75973, 75974, 75975, 75976, 75977, 75978, 75979, 75980, 75981, 75982, 75983, 75984, 75985, 75986, 75987, 75988, 75989, 75990, 75991, 75992, 75993, 75994, 75995, 75996, 75997, 75998, 75999, 76000, 76001, 76002, 76003, 76004, 76005, 76006, 76007, 76008, 76009, 76010, 76011, 76012, 76013, 76014, 76015, 76016, 76017, 76018, 76019, 76020, 76021, 76022, 76023, 76024, 76025, 76026, 76027, 76028, 76029, 76030, 76031, 76032, 76033, 76034, 76035, 76036, 76037, 76038, 76039, 76040, 76041, 76042, 76043, ...]}"
      ]
     },
     "execution_count": 36,
     "metadata": {},
     "output_type": "execute_result"
    }
   ],
   "source": [
    "yearly_emission.groupby('Nível 1 - Setor').groups"
   ]
  },
  {
   "cell_type": "code",
   "execution_count": 37,
   "metadata": {},
   "outputs": [
    {
     "data": {
      "text/plain": [
       "dict_keys(['Agropecuária', 'Energia', 'Mudança de Uso da Terra e Floresta', 'Processos Industriais', 'Resíduos '])"
      ]
     },
     "execution_count": 37,
     "metadata": {},
     "output_type": "execute_result"
    }
   ],
   "source": [
    "yearly_emission.groupby('Nível 1 - Setor').groups.keys()"
   ]
  },
  {
   "cell_type": "markdown",
   "metadata": {},
   "source": [
    "### 02 Group data based in column \"Nível 1 - Setor\" and localize the group data \"Agropecuária\""
   ]
  },
  {
   "cell_type": "code",
   "execution_count": 38,
   "metadata": {},
   "outputs": [
    {
     "data": {
      "text/html": [
       "<div>\n",
       "<style scoped>\n",
       "    .dataframe tbody tr th:only-of-type {\n",
       "        vertical-align: middle;\n",
       "    }\n",
       "\n",
       "    .dataframe tbody tr th {\n",
       "        vertical-align: top;\n",
       "    }\n",
       "\n",
       "    .dataframe thead th {\n",
       "        text-align: right;\n",
       "    }\n",
       "</style>\n",
       "<table border=\"1\" class=\"dataframe\">\n",
       "  <thead>\n",
       "    <tr style=\"text-align: right;\">\n",
       "      <th></th>\n",
       "      <th>Nível 1 - Setor</th>\n",
       "      <th>Nível 2</th>\n",
       "      <th>Nível 3</th>\n",
       "      <th>Nível 4</th>\n",
       "      <th>Nível 5</th>\n",
       "      <th>Nível 6</th>\n",
       "      <th>Gás</th>\n",
       "      <th>Estado</th>\n",
       "      <th>Atividade Econômica</th>\n",
       "      <th>Produto</th>\n",
       "      <th>Ano</th>\n",
       "      <th>Emissão</th>\n",
       "    </tr>\n",
       "  </thead>\n",
       "  <tbody>\n",
       "    <tr>\n",
       "      <th>1137</th>\n",
       "      <td>Agropecuária</td>\n",
       "      <td>Cultivo de Arroz</td>\n",
       "      <td>Diretas</td>\n",
       "      <td>Outros</td>\n",
       "      <td>Vegetal</td>\n",
       "      <td>Arroz</td>\n",
       "      <td>CH4 (t)</td>\n",
       "      <td>AC</td>\n",
       "      <td>AGR</td>\n",
       "      <td>ALIM_BEBIDAS</td>\n",
       "      <td>1970</td>\n",
       "      <td>0.000000</td>\n",
       "    </tr>\n",
       "    <tr>\n",
       "      <th>1138</th>\n",
       "      <td>Agropecuária</td>\n",
       "      <td>Cultivo de Arroz</td>\n",
       "      <td>Diretas</td>\n",
       "      <td>Outros</td>\n",
       "      <td>Vegetal</td>\n",
       "      <td>Arroz</td>\n",
       "      <td>CH4 (t)</td>\n",
       "      <td>AL</td>\n",
       "      <td>AGR</td>\n",
       "      <td>ALIM_BEBIDAS</td>\n",
       "      <td>1970</td>\n",
       "      <td>2050.445805</td>\n",
       "    </tr>\n",
       "    <tr>\n",
       "      <th>1139</th>\n",
       "      <td>Agropecuária</td>\n",
       "      <td>Cultivo de Arroz</td>\n",
       "      <td>Diretas</td>\n",
       "      <td>Outros</td>\n",
       "      <td>Vegetal</td>\n",
       "      <td>Arroz</td>\n",
       "      <td>CH4 (t)</td>\n",
       "      <td>AM</td>\n",
       "      <td>AGR</td>\n",
       "      <td>ALIM_BEBIDAS</td>\n",
       "      <td>1970</td>\n",
       "      <td>0.000000</td>\n",
       "    </tr>\n",
       "    <tr>\n",
       "      <th>1140</th>\n",
       "      <td>Agropecuária</td>\n",
       "      <td>Cultivo de Arroz</td>\n",
       "      <td>Diretas</td>\n",
       "      <td>Outros</td>\n",
       "      <td>Vegetal</td>\n",
       "      <td>Arroz</td>\n",
       "      <td>CH4 (t)</td>\n",
       "      <td>AP</td>\n",
       "      <td>AGR</td>\n",
       "      <td>ALIM_BEBIDAS</td>\n",
       "      <td>1970</td>\n",
       "      <td>0.000000</td>\n",
       "    </tr>\n",
       "    <tr>\n",
       "      <th>1141</th>\n",
       "      <td>Agropecuária</td>\n",
       "      <td>Cultivo de Arroz</td>\n",
       "      <td>Diretas</td>\n",
       "      <td>Outros</td>\n",
       "      <td>Vegetal</td>\n",
       "      <td>Arroz</td>\n",
       "      <td>CH4 (t)</td>\n",
       "      <td>BA</td>\n",
       "      <td>AGR</td>\n",
       "      <td>ALIM_BEBIDAS</td>\n",
       "      <td>1970</td>\n",
       "      <td>466.934705</td>\n",
       "    </tr>\n",
       "    <tr>\n",
       "      <th>...</th>\n",
       "      <td>...</td>\n",
       "      <td>...</td>\n",
       "      <td>...</td>\n",
       "      <td>...</td>\n",
       "      <td>...</td>\n",
       "      <td>...</td>\n",
       "      <td>...</td>\n",
       "      <td>...</td>\n",
       "      <td>...</td>\n",
       "      <td>...</td>\n",
       "      <td>...</td>\n",
       "      <td>...</td>\n",
       "    </tr>\n",
       "    <tr>\n",
       "      <th>4855420</th>\n",
       "      <td>Agropecuária</td>\n",
       "      <td>Solos Manejados</td>\n",
       "      <td>Indiretas</td>\n",
       "      <td>Mineralização de N associado a perda de C no solo</td>\n",
       "      <td>Outros</td>\n",
       "      <td>Solos</td>\n",
       "      <td>N2O (t)</td>\n",
       "      <td>RS</td>\n",
       "      <td>AGR</td>\n",
       "      <td>ALIM_BEBIDAS</td>\n",
       "      <td>2021</td>\n",
       "      <td>929.545042</td>\n",
       "    </tr>\n",
       "    <tr>\n",
       "      <th>4855421</th>\n",
       "      <td>Agropecuária</td>\n",
       "      <td>Solos Manejados</td>\n",
       "      <td>Indiretas</td>\n",
       "      <td>Mineralização de N associado a perda de C no solo</td>\n",
       "      <td>Outros</td>\n",
       "      <td>Solos</td>\n",
       "      <td>N2O (t)</td>\n",
       "      <td>SC</td>\n",
       "      <td>AGR</td>\n",
       "      <td>ALIM_BEBIDAS</td>\n",
       "      <td>2021</td>\n",
       "      <td>295.813919</td>\n",
       "    </tr>\n",
       "    <tr>\n",
       "      <th>4855422</th>\n",
       "      <td>Agropecuária</td>\n",
       "      <td>Solos Manejados</td>\n",
       "      <td>Indiretas</td>\n",
       "      <td>Mineralização de N associado a perda de C no solo</td>\n",
       "      <td>Outros</td>\n",
       "      <td>Solos</td>\n",
       "      <td>N2O (t)</td>\n",
       "      <td>SE</td>\n",
       "      <td>AGR</td>\n",
       "      <td>ALIM_BEBIDAS</td>\n",
       "      <td>2021</td>\n",
       "      <td>32.734589</td>\n",
       "    </tr>\n",
       "    <tr>\n",
       "      <th>4855423</th>\n",
       "      <td>Agropecuária</td>\n",
       "      <td>Solos Manejados</td>\n",
       "      <td>Indiretas</td>\n",
       "      <td>Mineralização de N associado a perda de C no solo</td>\n",
       "      <td>Outros</td>\n",
       "      <td>Solos</td>\n",
       "      <td>N2O (t)</td>\n",
       "      <td>SP</td>\n",
       "      <td>AGR</td>\n",
       "      <td>ALIM_BEBIDAS</td>\n",
       "      <td>2021</td>\n",
       "      <td>653.155812</td>\n",
       "    </tr>\n",
       "    <tr>\n",
       "      <th>4855424</th>\n",
       "      <td>Agropecuária</td>\n",
       "      <td>Solos Manejados</td>\n",
       "      <td>Indiretas</td>\n",
       "      <td>Mineralização de N associado a perda de C no solo</td>\n",
       "      <td>Outros</td>\n",
       "      <td>Solos</td>\n",
       "      <td>N2O (t)</td>\n",
       "      <td>TO</td>\n",
       "      <td>AGR</td>\n",
       "      <td>ALIM_BEBIDAS</td>\n",
       "      <td>2021</td>\n",
       "      <td>159.687482</td>\n",
       "    </tr>\n",
       "  </tbody>\n",
       "</table>\n",
       "<p>1151280 rows × 12 columns</p>\n",
       "</div>"
      ],
      "text/plain": [
       "        Nível 1 - Setor           Nível 2    Nível 3  \\\n",
       "1137       Agropecuária  Cultivo de Arroz    Diretas   \n",
       "1138       Agropecuária  Cultivo de Arroz    Diretas   \n",
       "1139       Agropecuária  Cultivo de Arroz    Diretas   \n",
       "1140       Agropecuária  Cultivo de Arroz    Diretas   \n",
       "1141       Agropecuária  Cultivo de Arroz    Diretas   \n",
       "...                 ...               ...        ...   \n",
       "4855420    Agropecuária   Solos Manejados  Indiretas   \n",
       "4855421    Agropecuária   Solos Manejados  Indiretas   \n",
       "4855422    Agropecuária   Solos Manejados  Indiretas   \n",
       "4855423    Agropecuária   Solos Manejados  Indiretas   \n",
       "4855424    Agropecuária   Solos Manejados  Indiretas   \n",
       "\n",
       "                                                   Nível 4  Nível 5 Nível 6  \\\n",
       "1137                                                Outros  Vegetal   Arroz   \n",
       "1138                                                Outros  Vegetal   Arroz   \n",
       "1139                                                Outros  Vegetal   Arroz   \n",
       "1140                                                Outros  Vegetal   Arroz   \n",
       "1141                                                Outros  Vegetal   Arroz   \n",
       "...                                                    ...      ...     ...   \n",
       "4855420  Mineralização de N associado a perda de C no solo   Outros   Solos   \n",
       "4855421  Mineralização de N associado a perda de C no solo   Outros   Solos   \n",
       "4855422  Mineralização de N associado a perda de C no solo   Outros   Solos   \n",
       "4855423  Mineralização de N associado a perda de C no solo   Outros   Solos   \n",
       "4855424  Mineralização de N associado a perda de C no solo   Outros   Solos   \n",
       "\n",
       "             Gás Estado Atividade Econômica       Produto   Ano      Emissão  \n",
       "1137     CH4 (t)     AC                 AGR  ALIM_BEBIDAS  1970     0.000000  \n",
       "1138     CH4 (t)     AL                 AGR  ALIM_BEBIDAS  1970  2050.445805  \n",
       "1139     CH4 (t)     AM                 AGR  ALIM_BEBIDAS  1970     0.000000  \n",
       "1140     CH4 (t)     AP                 AGR  ALIM_BEBIDAS  1970     0.000000  \n",
       "1141     CH4 (t)     BA                 AGR  ALIM_BEBIDAS  1970   466.934705  \n",
       "...          ...    ...                 ...           ...   ...          ...  \n",
       "4855420  N2O (t)     RS                 AGR  ALIM_BEBIDAS  2021   929.545042  \n",
       "4855421  N2O (t)     SC                 AGR  ALIM_BEBIDAS  2021   295.813919  \n",
       "4855422  N2O (t)     SE                 AGR  ALIM_BEBIDAS  2021    32.734589  \n",
       "4855423  N2O (t)     SP                 AGR  ALIM_BEBIDAS  2021   653.155812  \n",
       "4855424  N2O (t)     TO                 AGR  ALIM_BEBIDAS  2021   159.687482  \n",
       "\n",
       "[1151280 rows x 12 columns]"
      ]
     },
     "execution_count": 38,
     "metadata": {},
     "output_type": "execute_result"
    }
   ],
   "source": [
    "yearly_emission.groupby('Nível 1 - Setor').get_group(\"Agropecuária\")"
   ]
  },
  {
   "cell_type": "markdown",
   "metadata": {},
   "source": [
    "### 03 Group data based in column \"Nível 1 - Setor\" to identify the emissions mean in each economic activity in year 2021"
   ]
  },
  {
   "cell_type": "code",
   "execution_count": 39,
   "metadata": {},
   "outputs": [
    {
     "name": "stderr",
     "output_type": "stream",
     "text": [
      "C:\\Users\\63\\AppData\\Local\\Temp\\ipykernel_16124\\666614843.py:1: FutureWarning: The default value of numeric_only in DataFrameGroupBy.mean is deprecated. In a future version, numeric_only will default to False. Either specify numeric_only or select only columns which should be valid for the function.\n",
      "  activity_emissions_2021 = yearly_emission.loc[yearly_emission['Ano']==2021].groupby('Nível 1 - Setor').mean().sort_values('Emissão', ascending=False)\n"
     ]
    },
    {
     "data": {
      "text/html": [
       "<div>\n",
       "<style scoped>\n",
       "    .dataframe tbody tr th:only-of-type {\n",
       "        vertical-align: middle;\n",
       "    }\n",
       "\n",
       "    .dataframe tbody tr th {\n",
       "        vertical-align: top;\n",
       "    }\n",
       "\n",
       "    .dataframe thead th {\n",
       "        text-align: right;\n",
       "    }\n",
       "</style>\n",
       "<table border=\"1\" class=\"dataframe\">\n",
       "  <thead>\n",
       "    <tr style=\"text-align: right;\">\n",
       "      <th></th>\n",
       "      <th>Emissão</th>\n",
       "    </tr>\n",
       "    <tr>\n",
       "      <th>Nível 1 - Setor</th>\n",
       "      <th></th>\n",
       "    </tr>\n",
       "  </thead>\n",
       "  <tbody>\n",
       "    <tr>\n",
       "      <th>Processos Industriais</th>\n",
       "      <td>787101.255789</td>\n",
       "    </tr>\n",
       "    <tr>\n",
       "      <th>Mudança de Uso da Terra e Floresta</th>\n",
       "      <td>690085.511209</td>\n",
       "    </tr>\n",
       "    <tr>\n",
       "      <th>Agropecuária</th>\n",
       "      <td>149793.768835</td>\n",
       "    </tr>\n",
       "    <tr>\n",
       "      <th>Resíduos</th>\n",
       "      <td>106106.723386</td>\n",
       "    </tr>\n",
       "    <tr>\n",
       "      <th>Energia</th>\n",
       "      <td>72928.637234</td>\n",
       "    </tr>\n",
       "  </tbody>\n",
       "</table>\n",
       "</div>"
      ],
      "text/plain": [
       "                                          Emissão\n",
       "Nível 1 - Setor                                  \n",
       "Processos Industriais               787101.255789\n",
       "Mudança de Uso da Terra e Floresta  690085.511209\n",
       "Agropecuária                        149793.768835\n",
       "Resíduos                            106106.723386\n",
       "Energia                              72928.637234"
      ]
     },
     "execution_count": 39,
     "metadata": {},
     "output_type": "execute_result"
    }
   ],
   "source": [
    "activity_emissions_2021 = yearly_emission.loc[yearly_emission['Ano']==2021].groupby('Nível 1 - Setor').mean().sort_values('Emissão', ascending=False)\n",
    "activity_emissions_2021"
   ]
  },
  {
   "cell_type": "code",
   "execution_count": 40,
   "metadata": {},
   "outputs": [
    {
     "data": {
      "image/png": "[encoded data removed]",
      "text/plain": [
       "<Figure size 1000x400 with 1 Axes>"
      ]
     },
     "metadata": {},
     "output_type": "display_data"
    }
   ],
   "source": [
    "\n",
    "import matplotlib.pyplot as plt\n",
    "import seaborn as sns\n",
    "\n",
    "fig, ax = plt.subplots(figsize=(10,4))\n",
    "sns.set_theme(style='white')\n",
    "\n",
    "ax = sns.barplot(activity_emissions_2021, x=activity_emissions_2021.index, y= 'Emissão')\n",
    "\n",
    "ax.set_title('Gás emission sum by sector activity\\nin year 2021', loc='left', fontsize=18, color=CINZA1)\n",
    "ax.set_xlabel('')\n",
    "ax.set_ylabel('')\n",
    "ax.xaxis.set_tick_params(labelsize=10, labelcolor= CINZA2, rotation = 45)\n",
    "sns.despine(left=True, bottom=True)\n",
    "# Escrevendo os valores de cada barra no gráfico\n",
    "ax.set_yticklabels([])\n",
    "\n",
    "\n",
    "for i, v in enumerate(activity_emissions_2021['Emissão']):\n",
    "    qtd = f'{v:,.0f} M'.replace(',','.')\n",
    "    offset = 5e4\n",
    "    ax.text(i, v - offset, (qtd), color = CINZA5, fontsize=10,\n",
    "    ha='center', va='center', fontweight = 'bold')\n",
    "\n",
    "fig = ax.get_figure()"
   ]
  },
  {
   "cell_type": "markdown",
   "metadata": {},
   "source": [
    "### 04 Group data based in column \"Nível 1 - Setor\" to identify the gas emissions sum in each economic activity. Sort values from the highest to lowest."
   ]
  },
  {
   "cell_type": "code",
   "execution_count": 41,
   "metadata": {},
   "outputs": [
    {
     "name": "stderr",
     "output_type": "stream",
     "text": [
      "C:\\Users\\63\\AppData\\Local\\Temp\\ipykernel_16124\\2821135717.py:1: FutureWarning: The default value of numeric_only in DataFrameGroupBy.sum is deprecated. In a future version, numeric_only will default to False. Either specify numeric_only or select only columns which should be valid for the function.\n",
      "  yearly_emission.groupby('Nível 1 - Setor').sum().sort_values('Emissão', ascending=False)\n"
     ]
    },
    {
     "data": {
      "text/html": [
       "<div>\n",
       "<style scoped>\n",
       "    .dataframe tbody tr th:only-of-type {\n",
       "        vertical-align: middle;\n",
       "    }\n",
       "\n",
       "    .dataframe tbody tr th {\n",
       "        vertical-align: top;\n",
       "    }\n",
       "\n",
       "    .dataframe thead th {\n",
       "        text-align: right;\n",
       "    }\n",
       "</style>\n",
       "<table border=\"1\" class=\"dataframe\">\n",
       "  <thead>\n",
       "    <tr style=\"text-align: right;\">\n",
       "      <th></th>\n",
       "      <th>Emissão</th>\n",
       "    </tr>\n",
       "    <tr>\n",
       "      <th>Nível 1 - Setor</th>\n",
       "      <th></th>\n",
       "    </tr>\n",
       "  </thead>\n",
       "  <tbody>\n",
       "    <tr>\n",
       "      <th>Mudança de Uso da Terra e Floresta</th>\n",
       "      <td>3.524898e+11</td>\n",
       "    </tr>\n",
       "    <tr>\n",
       "      <th>Energia</th>\n",
       "      <td>1.205314e+11</td>\n",
       "    </tr>\n",
       "    <tr>\n",
       "      <th>Agropecuária</th>\n",
       "      <td>1.147284e+11</td>\n",
       "    </tr>\n",
       "    <tr>\n",
       "      <th>Processos Industriais</th>\n",
       "      <td>2.849965e+10</td>\n",
       "    </tr>\n",
       "    <tr>\n",
       "      <th>Resíduos</th>\n",
       "      <td>1.034465e+10</td>\n",
       "    </tr>\n",
       "  </tbody>\n",
       "</table>\n",
       "</div>"
      ],
      "text/plain": [
       "                                         Emissão\n",
       "Nível 1 - Setor                                 \n",
       "Mudança de Uso da Terra e Floresta  3.524898e+11\n",
       "Energia                             1.205314e+11\n",
       "Agropecuária                        1.147284e+11\n",
       "Processos Industriais               2.849965e+10\n",
       "Resíduos                            1.034465e+10"
      ]
     },
     "execution_count": 41,
     "metadata": {},
     "output_type": "execute_result"
    }
   ],
   "source": [
    "yearly_emission.groupby('Nível 1 - Setor').sum().sort_values('Emissão', ascending=False)"
   ]
  },
  {
   "cell_type": "markdown",
   "metadata": {},
   "source": [
    "## Gas emission by sector"
   ]
  },
  {
   "cell_type": "markdown",
   "metadata": {},
   "source": [
    "To this section, we want to answer two questions:\n",
    "1. Which economic sector is more poluent by gás type;\n",
    "2. Which gas is more poluent in each sector."
   ]
  },
  {
   "cell_type": "markdown",
   "metadata": {},
   "source": [
    "### 1. Which economic sector is more poluent;\n"
   ]
  },
  {
   "cell_type": "code",
   "execution_count": 42,
   "metadata": {},
   "outputs": [
    {
     "data": {
      "text/html": [
       "<div>\n",
       "<style scoped>\n",
       "    .dataframe tbody tr th:only-of-type {\n",
       "        vertical-align: middle;\n",
       "    }\n",
       "\n",
       "    .dataframe tbody tr th {\n",
       "        vertical-align: top;\n",
       "    }\n",
       "\n",
       "    .dataframe thead th {\n",
       "        text-align: right;\n",
       "    }\n",
       "</style>\n",
       "<table border=\"1\" class=\"dataframe\">\n",
       "  <thead>\n",
       "    <tr style=\"text-align: right;\">\n",
       "      <th></th>\n",
       "      <th>Nível 1 - Setor</th>\n",
       "      <th>Nível 2</th>\n",
       "      <th>Nível 3</th>\n",
       "      <th>Nível 4</th>\n",
       "      <th>Nível 5</th>\n",
       "      <th>Nível 6</th>\n",
       "      <th>Gás</th>\n",
       "      <th>Estado</th>\n",
       "      <th>Atividade Econômica</th>\n",
       "      <th>Produto</th>\n",
       "      <th>Ano</th>\n",
       "      <th>Emissão</th>\n",
       "    </tr>\n",
       "  </thead>\n",
       "  <tbody>\n",
       "    <tr>\n",
       "      <th>0</th>\n",
       "      <td>Processos Industriais</td>\n",
       "      <td>Indústria Química</td>\n",
       "      <td>Produção de ABS</td>\n",
       "      <td>NaN</td>\n",
       "      <td>NaN</td>\n",
       "      <td>NaN</td>\n",
       "      <td>COVNM (t)</td>\n",
       "      <td>SP</td>\n",
       "      <td>OUTRA_IND</td>\n",
       "      <td>NaN</td>\n",
       "      <td>1970</td>\n",
       "      <td>0.0</td>\n",
       "    </tr>\n",
       "    <tr>\n",
       "      <th>1</th>\n",
       "      <td>Processos Industriais</td>\n",
       "      <td>Indústria Química</td>\n",
       "      <td>Produção de Ácido Adípico</td>\n",
       "      <td>NaN</td>\n",
       "      <td>NaN</td>\n",
       "      <td>NaN</td>\n",
       "      <td>N2O (t)</td>\n",
       "      <td>SP</td>\n",
       "      <td>OUTRA_IND</td>\n",
       "      <td>NaN</td>\n",
       "      <td>1970</td>\n",
       "      <td>6210.0</td>\n",
       "    </tr>\n",
       "    <tr>\n",
       "      <th>2</th>\n",
       "      <td>Processos Industriais</td>\n",
       "      <td>Indústria Química</td>\n",
       "      <td>Produção de Ácido Adípico</td>\n",
       "      <td>NaN</td>\n",
       "      <td>NaN</td>\n",
       "      <td>NaN</td>\n",
       "      <td>CO (t)</td>\n",
       "      <td>SP</td>\n",
       "      <td>OUTRA_IND</td>\n",
       "      <td>NaN</td>\n",
       "      <td>1970</td>\n",
       "      <td>368.0</td>\n",
       "    </tr>\n",
       "  </tbody>\n",
       "</table>\n",
       "</div>"
      ],
      "text/plain": [
       "         Nível 1 - Setor            Nível 2                    Nível 3  \\\n",
       "0  Processos Industriais  Indústria Química            Produção de ABS   \n",
       "1  Processos Industriais  Indústria Química  Produção de Ácido Adípico   \n",
       "2  Processos Industriais  Indústria Química  Produção de Ácido Adípico   \n",
       "\n",
       "  Nível 4 Nível 5 Nível 6        Gás Estado Atividade Econômica Produto   Ano  \\\n",
       "0     NaN     NaN     NaN  COVNM (t)     SP           OUTRA_IND     NaN  1970   \n",
       "1     NaN     NaN     NaN    N2O (t)     SP           OUTRA_IND     NaN  1970   \n",
       "2     NaN     NaN     NaN     CO (t)     SP           OUTRA_IND     NaN  1970   \n",
       "\n",
       "   Emissão  \n",
       "0      0.0  \n",
       "1   6210.0  \n",
       "2    368.0  "
      ]
     },
     "execution_count": 42,
     "metadata": {},
     "output_type": "execute_result"
    }
   ],
   "source": [
    "yearly_emission.head(3)"
   ]
  },
  {
   "cell_type": "code",
   "execution_count": 43,
   "metadata": {},
   "outputs": [
    {
     "name": "stderr",
     "output_type": "stream",
     "text": [
      "C:\\Users\\63\\AppData\\Local\\Temp\\ipykernel_16124\\430875573.py:1: FutureWarning: The default value of numeric_only in DataFrameGroupBy.sum is deprecated. In a future version, numeric_only will default to False. Either specify numeric_only or select only columns which should be valid for the function.\n",
      "  gas_by_sector = yearly_emission.groupby(['Nível 1 - Setor', 'Gás']).sum()\n"
     ]
    }
   ],
   "source": [
    "gas_by_sector = yearly_emission.groupby(['Nível 1 - Setor', 'Gás']).sum()"
   ]
  },
  {
   "cell_type": "code",
   "execution_count": 44,
   "metadata": {},
   "outputs": [
    {
     "data": {
      "text/html": [
       "<div>\n",
       "<style scoped>\n",
       "    .dataframe tbody tr th:only-of-type {\n",
       "        vertical-align: middle;\n",
       "    }\n",
       "\n",
       "    .dataframe tbody tr th {\n",
       "        vertical-align: top;\n",
       "    }\n",
       "\n",
       "    .dataframe thead th {\n",
       "        text-align: right;\n",
       "    }\n",
       "</style>\n",
       "<table border=\"1\" class=\"dataframe\">\n",
       "  <thead>\n",
       "    <tr style=\"text-align: right;\">\n",
       "      <th></th>\n",
       "      <th></th>\n",
       "      <th>Emissão</th>\n",
       "    </tr>\n",
       "    <tr>\n",
       "      <th>Nível 1 - Setor</th>\n",
       "      <th>Gás</th>\n",
       "      <th></th>\n",
       "    </tr>\n",
       "  </thead>\n",
       "  <tbody>\n",
       "    <tr>\n",
       "      <th rowspan=\"5\" valign=\"top\">Agropecuária</th>\n",
       "      <th>CH4 (t)</th>\n",
       "      <td>5.928481e+08</td>\n",
       "    </tr>\n",
       "    <tr>\n",
       "      <th>CO (t)</th>\n",
       "      <td>7.132479e+07</td>\n",
       "    </tr>\n",
       "    <tr>\n",
       "      <th>CO2 (t)</th>\n",
       "      <td>5.411750e+08</td>\n",
       "    </tr>\n",
       "    <tr>\n",
       "      <th>CO2e (t) GTP-AR2</th>\n",
       "      <td>8.297112e+09</td>\n",
       "    </tr>\n",
       "    <tr>\n",
       "      <th>CO2e (t) GTP-AR4</th>\n",
       "      <td>8.297112e+09</td>\n",
       "    </tr>\n",
       "    <tr>\n",
       "      <th>...</th>\n",
       "      <th>...</th>\n",
       "      <td>...</td>\n",
       "    </tr>\n",
       "    <tr>\n",
       "      <th rowspan=\"5\" valign=\"top\">Resíduos</th>\n",
       "      <th>CO2e (t) GWP-AR2</th>\n",
       "      <td>1.769016e+09</td>\n",
       "    </tr>\n",
       "    <tr>\n",
       "      <th>CO2e (t) GWP-AR4</th>\n",
       "      <td>2.081997e+09</td>\n",
       "    </tr>\n",
       "    <tr>\n",
       "      <th>CO2e (t) GWP-AR5</th>\n",
       "      <td>2.310099e+09</td>\n",
       "    </tr>\n",
       "    <tr>\n",
       "      <th>CO2e (t) GWP-AR6</th>\n",
       "      <td>2.233335e+09</td>\n",
       "    </tr>\n",
       "    <tr>\n",
       "      <th>N2O (t)</th>\n",
       "      <td>2.764127e+05</td>\n",
       "    </tr>\n",
       "  </tbody>\n",
       "</table>\n",
       "<p>72 rows × 1 columns</p>\n",
       "</div>"
      ],
      "text/plain": [
       "                                       Emissão\n",
       "Nível 1 - Setor Gás                           \n",
       "Agropecuária    CH4 (t)           5.928481e+08\n",
       "                CO (t)            7.132479e+07\n",
       "                CO2 (t)           5.411750e+08\n",
       "                CO2e (t) GTP-AR2  8.297112e+09\n",
       "                CO2e (t) GTP-AR4  8.297112e+09\n",
       "...                                        ...\n",
       "Resíduos        CO2e (t) GWP-AR2  1.769016e+09\n",
       "                CO2e (t) GWP-AR4  2.081997e+09\n",
       "                CO2e (t) GWP-AR5  2.310099e+09\n",
       "                CO2e (t) GWP-AR6  2.233335e+09\n",
       "                N2O (t)           2.764127e+05\n",
       "\n",
       "[72 rows x 1 columns]"
      ]
     },
     "execution_count": 44,
     "metadata": {},
     "output_type": "execute_result"
    }
   ],
   "source": [
    "gas_by_sector"
   ]
  },
  {
   "cell_type": "code",
   "execution_count": 45,
   "metadata": {},
   "outputs": [
    {
     "data": {
      "text/html": [
       "<div>\n",
       "<style scoped>\n",
       "    .dataframe tbody tr th:only-of-type {\n",
       "        vertical-align: middle;\n",
       "    }\n",
       "\n",
       "    .dataframe tbody tr th {\n",
       "        vertical-align: top;\n",
       "    }\n",
       "\n",
       "    .dataframe thead th {\n",
       "        text-align: right;\n",
       "    }\n",
       "</style>\n",
       "<table border=\"1\" class=\"dataframe\">\n",
       "  <thead>\n",
       "    <tr style=\"text-align: right;\">\n",
       "      <th></th>\n",
       "      <th>Emissão</th>\n",
       "    </tr>\n",
       "    <tr>\n",
       "      <th>Nível 1 - Setor</th>\n",
       "      <th></th>\n",
       "    </tr>\n",
       "  </thead>\n",
       "  <tbody>\n",
       "    <tr>\n",
       "      <th>Mudança de Uso da Terra e Floresta</th>\n",
       "      <td>3.524898e+11</td>\n",
       "    </tr>\n",
       "    <tr>\n",
       "      <th>Energia</th>\n",
       "      <td>1.205314e+11</td>\n",
       "    </tr>\n",
       "    <tr>\n",
       "      <th>Agropecuária</th>\n",
       "      <td>1.147284e+11</td>\n",
       "    </tr>\n",
       "    <tr>\n",
       "      <th>Processos Industriais</th>\n",
       "      <td>2.849965e+10</td>\n",
       "    </tr>\n",
       "    <tr>\n",
       "      <th>Resíduos</th>\n",
       "      <td>1.034465e+10</td>\n",
       "    </tr>\n",
       "  </tbody>\n",
       "</table>\n",
       "</div>"
      ],
      "text/plain": [
       "                                         Emissão\n",
       "Nível 1 - Setor                                 \n",
       "Mudança de Uso da Terra e Floresta  3.524898e+11\n",
       "Energia                             1.205314e+11\n",
       "Agropecuária                        1.147284e+11\n",
       "Processos Industriais               2.849965e+10\n",
       "Resíduos                            1.034465e+10"
      ]
     },
     "execution_count": 45,
     "metadata": {},
     "output_type": "execute_result"
    }
   ],
   "source": [
    "gas_by_sector.groupby(level=0).sum().sort_values('Emissão', ascending=False)"
   ]
  },
  {
   "cell_type": "code",
   "execution_count": 46,
   "metadata": {},
   "outputs": [
    {
     "data": {
      "text/html": [
       "<div>\n",
       "<style scoped>\n",
       "    .dataframe tbody tr th:only-of-type {\n",
       "        vertical-align: middle;\n",
       "    }\n",
       "\n",
       "    .dataframe tbody tr th {\n",
       "        vertical-align: top;\n",
       "    }\n",
       "\n",
       "    .dataframe thead th {\n",
       "        text-align: right;\n",
       "    }\n",
       "</style>\n",
       "<table border=\"1\" class=\"dataframe\">\n",
       "  <thead>\n",
       "    <tr style=\"text-align: right;\">\n",
       "      <th></th>\n",
       "      <th>Emissão</th>\n",
       "    </tr>\n",
       "    <tr>\n",
       "      <th>Nível 1 - Setor</th>\n",
       "      <th></th>\n",
       "    </tr>\n",
       "  </thead>\n",
       "  <tbody>\n",
       "    <tr>\n",
       "      <th>Agropecuária</th>\n",
       "      <td>(Agropecuária, CO2e (t) GWP-AR5)</td>\n",
       "    </tr>\n",
       "    <tr>\n",
       "      <th>Energia</th>\n",
       "      <td>(Energia, CO2e (t) GWP-AR6)</td>\n",
       "    </tr>\n",
       "    <tr>\n",
       "      <th>Mudança de Uso da Terra e Floresta</th>\n",
       "      <td>(Mudança de Uso da Terra e Floresta, CO2e (t) ...</td>\n",
       "    </tr>\n",
       "    <tr>\n",
       "      <th>Processos Industriais</th>\n",
       "      <td>(Processos Industriais, CO2e (t) GWP-AR6)</td>\n",
       "    </tr>\n",
       "    <tr>\n",
       "      <th>Resíduos</th>\n",
       "      <td>(Resíduos , CO2e (t) GWP-AR5)</td>\n",
       "    </tr>\n",
       "  </tbody>\n",
       "</table>\n",
       "</div>"
      ],
      "text/plain": [
       "                                                                              Emissão\n",
       "Nível 1 - Setor                                                                      \n",
       "Agropecuária                                         (Agropecuária, CO2e (t) GWP-AR5)\n",
       "Energia                                                   (Energia, CO2e (t) GWP-AR6)\n",
       "Mudança de Uso da Terra e Floresta  (Mudança de Uso da Terra e Floresta, CO2e (t) ...\n",
       "Processos Industriais                       (Processos Industriais, CO2e (t) GWP-AR6)\n",
       "Resíduos                                                (Resíduos , CO2e (t) GWP-AR5)"
      ]
     },
     "execution_count": 46,
     "metadata": {},
     "output_type": "execute_result"
    }
   ],
   "source": [
    "gas_by_sector.groupby(level = 0).idxmax()"
   ]
  },
  {
   "cell_type": "markdown",
   "metadata": {},
   "source": [
    "### 2. Which gas is more poluent in each sector?"
   ]
  },
  {
   "cell_type": "code",
   "execution_count": 47,
   "metadata": {},
   "outputs": [
    {
     "data": {
      "text/html": [
       "<div>\n",
       "<style scoped>\n",
       "    .dataframe tbody tr th:only-of-type {\n",
       "        vertical-align: middle;\n",
       "    }\n",
       "\n",
       "    .dataframe tbody tr th {\n",
       "        vertical-align: top;\n",
       "    }\n",
       "\n",
       "    .dataframe thead th {\n",
       "        text-align: right;\n",
       "    }\n",
       "</style>\n",
       "<table border=\"1\" class=\"dataframe\">\n",
       "  <thead>\n",
       "    <tr style=\"text-align: right;\">\n",
       "      <th></th>\n",
       "      <th>Emissão</th>\n",
       "      <th>Quantidade de emissão</th>\n",
       "    </tr>\n",
       "    <tr>\n",
       "      <th>Gás</th>\n",
       "      <th></th>\n",
       "      <th></th>\n",
       "    </tr>\n",
       "  </thead>\n",
       "  <tbody>\n",
       "    <tr>\n",
       "      <th>C2F6 (t)</th>\n",
       "      <td>(Processos Industriais, C2F6 (t))</td>\n",
       "      <td>5.765018e+02</td>\n",
       "    </tr>\n",
       "    <tr>\n",
       "      <th>CF4 (t)</th>\n",
       "      <td>(Processos Industriais, CF4 (t))</td>\n",
       "      <td>7.135481e+03</td>\n",
       "    </tr>\n",
       "    <tr>\n",
       "      <th>CH4 (t)</th>\n",
       "      <td>(Agropecuária, CH4 (t))</td>\n",
       "      <td>5.928481e+08</td>\n",
       "    </tr>\n",
       "    <tr>\n",
       "      <th>CO (t)</th>\n",
       "      <td>(Energia, CO (t))</td>\n",
       "      <td>3.959769e+08</td>\n",
       "    </tr>\n",
       "    <tr>\n",
       "      <th>CO2 (t)</th>\n",
       "      <td>(Mudança de Uso da Terra e Floresta, CO2 (t))</td>\n",
       "      <td>3.733930e+10</td>\n",
       "    </tr>\n",
       "    <tr>\n",
       "      <th>CO2e (t) GTP-AR2</th>\n",
       "      <td>(Mudança de Uso da Terra e Floresta, CO2e (t) ...</td>\n",
       "      <td>3.850044e+10</td>\n",
       "    </tr>\n",
       "    <tr>\n",
       "      <th>CO2e (t) GTP-AR4</th>\n",
       "      <td>(Mudança de Uso da Terra e Floresta, CO2e (t) ...</td>\n",
       "      <td>3.850044e+10</td>\n",
       "    </tr>\n",
       "    <tr>\n",
       "      <th>CO2e (t) GTP-AR5</th>\n",
       "      <td>(Mudança de Uso da Terra e Floresta, CO2e (t) ...</td>\n",
       "      <td>3.831675e+10</td>\n",
       "    </tr>\n",
       "    <tr>\n",
       "      <th>CO2e (t) GTP-AR6</th>\n",
       "      <td>(Mudança de Uso da Terra e Floresta, CO2e (t) ...</td>\n",
       "      <td>3.843359e+10</td>\n",
       "    </tr>\n",
       "    <tr>\n",
       "      <th>CO2e (t) GWP-AR2</th>\n",
       "      <td>(Mudança de Uso da Terra e Floresta, CO2e (t) ...</td>\n",
       "      <td>3.999424e+10</td>\n",
       "    </tr>\n",
       "    <tr>\n",
       "      <th>CO2e (t) GWP-AR4</th>\n",
       "      <td>(Mudança de Uso da Terra e Floresta, CO2e (t) ...</td>\n",
       "      <td>4.030837e+10</td>\n",
       "    </tr>\n",
       "    <tr>\n",
       "      <th>CO2e (t) GWP-AR5</th>\n",
       "      <td>(Mudança de Uso da Terra e Floresta, CO2e (t) ...</td>\n",
       "      <td>4.051523e+10</td>\n",
       "    </tr>\n",
       "    <tr>\n",
       "      <th>CO2e (t) GWP-AR6</th>\n",
       "      <td>(Mudança de Uso da Terra e Floresta, CO2e (t) ...</td>\n",
       "      <td>4.049216e+10</td>\n",
       "    </tr>\n",
       "    <tr>\n",
       "      <th>COVNM (t)</th>\n",
       "      <td>(Processos Industriais, COVNM (t))</td>\n",
       "      <td>1.608623e+08</td>\n",
       "    </tr>\n",
       "    <tr>\n",
       "      <th>HFC-125 (t)</th>\n",
       "      <td>(Processos Industriais, HFC-125 (t))</td>\n",
       "      <td>9.795580e+03</td>\n",
       "    </tr>\n",
       "    <tr>\n",
       "      <th>HFC-134a (t)</th>\n",
       "      <td>(Processos Industriais, HFC-134a (t))</td>\n",
       "      <td>1.394731e+05</td>\n",
       "    </tr>\n",
       "    <tr>\n",
       "      <th>HFC-143a (t)</th>\n",
       "      <td>(Processos Industriais, HFC-143a (t))</td>\n",
       "      <td>9.039400e+03</td>\n",
       "    </tr>\n",
       "    <tr>\n",
       "      <th>HFC-152a (t)</th>\n",
       "      <td>(Processos Industriais, HFC-152a (t))</td>\n",
       "      <td>5.706000e+02</td>\n",
       "    </tr>\n",
       "    <tr>\n",
       "      <th>HFC-23 (t)</th>\n",
       "      <td>(Processos Industriais, HFC-23 (t))</td>\n",
       "      <td>1.197840e+03</td>\n",
       "    </tr>\n",
       "    <tr>\n",
       "      <th>HFC-32 (t)</th>\n",
       "      <td>(Processos Industriais, HFC-32 (t))</td>\n",
       "      <td>2.367750e+03</td>\n",
       "    </tr>\n",
       "    <tr>\n",
       "      <th>N2O (t)</th>\n",
       "      <td>(Agropecuária, N2O (t))</td>\n",
       "      <td>1.774702e+07</td>\n",
       "    </tr>\n",
       "    <tr>\n",
       "      <th>NOx (t)</th>\n",
       "      <td>(Energia, NOx (t))</td>\n",
       "      <td>9.361215e+07</td>\n",
       "    </tr>\n",
       "    <tr>\n",
       "      <th>SF6 (t)</th>\n",
       "      <td>(Processos Industriais, SF6 (t))</td>\n",
       "      <td>4.705800e+02</td>\n",
       "    </tr>\n",
       "  </tbody>\n",
       "</table>\n",
       "</div>"
      ],
      "text/plain": [
       "                                                            Emissão  \\\n",
       "Gás                                                                   \n",
       "C2F6 (t)                          (Processos Industriais, C2F6 (t))   \n",
       "CF4 (t)                            (Processos Industriais, CF4 (t))   \n",
       "CH4 (t)                                     (Agropecuária, CH4 (t))   \n",
       "CO (t)                                            (Energia, CO (t))   \n",
       "CO2 (t)               (Mudança de Uso da Terra e Floresta, CO2 (t))   \n",
       "CO2e (t) GTP-AR2  (Mudança de Uso da Terra e Floresta, CO2e (t) ...   \n",
       "CO2e (t) GTP-AR4  (Mudança de Uso da Terra e Floresta, CO2e (t) ...   \n",
       "CO2e (t) GTP-AR5  (Mudança de Uso da Terra e Floresta, CO2e (t) ...   \n",
       "CO2e (t) GTP-AR6  (Mudança de Uso da Terra e Floresta, CO2e (t) ...   \n",
       "CO2e (t) GWP-AR2  (Mudança de Uso da Terra e Floresta, CO2e (t) ...   \n",
       "CO2e (t) GWP-AR4  (Mudança de Uso da Terra e Floresta, CO2e (t) ...   \n",
       "CO2e (t) GWP-AR5  (Mudança de Uso da Terra e Floresta, CO2e (t) ...   \n",
       "CO2e (t) GWP-AR6  (Mudança de Uso da Terra e Floresta, CO2e (t) ...   \n",
       "COVNM (t)                        (Processos Industriais, COVNM (t))   \n",
       "HFC-125 (t)                    (Processos Industriais, HFC-125 (t))   \n",
       "HFC-134a (t)                  (Processos Industriais, HFC-134a (t))   \n",
       "HFC-143a (t)                  (Processos Industriais, HFC-143a (t))   \n",
       "HFC-152a (t)                  (Processos Industriais, HFC-152a (t))   \n",
       "HFC-23 (t)                      (Processos Industriais, HFC-23 (t))   \n",
       "HFC-32 (t)                      (Processos Industriais, HFC-32 (t))   \n",
       "N2O (t)                                     (Agropecuária, N2O (t))   \n",
       "NOx (t)                                          (Energia, NOx (t))   \n",
       "SF6 (t)                            (Processos Industriais, SF6 (t))   \n",
       "\n",
       "                  Quantidade de emissão  \n",
       "Gás                                      \n",
       "C2F6 (t)                   5.765018e+02  \n",
       "CF4 (t)                    7.135481e+03  \n",
       "CH4 (t)                    5.928481e+08  \n",
       "CO (t)                     3.959769e+08  \n",
       "CO2 (t)                    3.733930e+10  \n",
       "CO2e (t) GTP-AR2           3.850044e+10  \n",
       "CO2e (t) GTP-AR4           3.850044e+10  \n",
       "CO2e (t) GTP-AR5           3.831675e+10  \n",
       "CO2e (t) GTP-AR6           3.843359e+10  \n",
       "CO2e (t) GWP-AR2           3.999424e+10  \n",
       "CO2e (t) GWP-AR4           4.030837e+10  \n",
       "CO2e (t) GWP-AR5           4.051523e+10  \n",
       "CO2e (t) GWP-AR6           4.049216e+10  \n",
       "COVNM (t)                  1.608623e+08  \n",
       "HFC-125 (t)                9.795580e+03  \n",
       "HFC-134a (t)               1.394731e+05  \n",
       "HFC-143a (t)               9.039400e+03  \n",
       "HFC-152a (t)               5.706000e+02  \n",
       "HFC-23 (t)                 1.197840e+03  \n",
       "HFC-32 (t)                 2.367750e+03  \n",
       "N2O (t)                    1.774702e+07  \n",
       "NOx (t)                    9.361215e+07  \n",
       "SF6 (t)                    4.705800e+02  "
      ]
     },
     "execution_count": 47,
     "metadata": {},
     "output_type": "execute_result"
    }
   ],
   "source": [
    "gas_by_sector.groupby(level = 1).max().sort_values('Emissão', ascending=False)\n",
    "valores_max = gas_by_sector.groupby(level = 1).max().values\n",
    "\n",
    "tabela_sumarizada = gas_by_sector.groupby(level = 1).idxmax()\n",
    "tabela_sumarizada.insert(1, 'Quantidade de emissão',valores_max)\n",
    "tabela_sumarizada\n"
   ]
  },
  {
   "cell_type": "markdown",
   "metadata": {},
   "source": [
    "### 3. Verifying the gas emission variation by year"
   ]
  },
  {
   "cell_type": "code",
   "execution_count": 48,
   "metadata": {},
   "outputs": [
    {
     "data": {
      "text/html": [
       "<div>\n",
       "<style scoped>\n",
       "    .dataframe tbody tr th:only-of-type {\n",
       "        vertical-align: middle;\n",
       "    }\n",
       "\n",
       "    .dataframe tbody tr th {\n",
       "        vertical-align: top;\n",
       "    }\n",
       "\n",
       "    .dataframe thead th {\n",
       "        text-align: right;\n",
       "    }\n",
       "</style>\n",
       "<table border=\"1\" class=\"dataframe\">\n",
       "  <thead>\n",
       "    <tr style=\"text-align: right;\">\n",
       "      <th></th>\n",
       "      <th>Nível 1 - Setor</th>\n",
       "      <th>Nível 2</th>\n",
       "      <th>Nível 3</th>\n",
       "      <th>Nível 4</th>\n",
       "      <th>Nível 5</th>\n",
       "      <th>Nível 6</th>\n",
       "      <th>Gás</th>\n",
       "      <th>Estado</th>\n",
       "      <th>Atividade Econômica</th>\n",
       "      <th>Produto</th>\n",
       "      <th>Ano</th>\n",
       "      <th>Emissão</th>\n",
       "    </tr>\n",
       "  </thead>\n",
       "  <tbody>\n",
       "    <tr>\n",
       "      <th>0</th>\n",
       "      <td>Processos Industriais</td>\n",
       "      <td>Indústria Química</td>\n",
       "      <td>Produção de ABS</td>\n",
       "      <td>NaN</td>\n",
       "      <td>NaN</td>\n",
       "      <td>NaN</td>\n",
       "      <td>COVNM (t)</td>\n",
       "      <td>SP</td>\n",
       "      <td>OUTRA_IND</td>\n",
       "      <td>NaN</td>\n",
       "      <td>1970</td>\n",
       "      <td>0.0</td>\n",
       "    </tr>\n",
       "    <tr>\n",
       "      <th>1</th>\n",
       "      <td>Processos Industriais</td>\n",
       "      <td>Indústria Química</td>\n",
       "      <td>Produção de Ácido Adípico</td>\n",
       "      <td>NaN</td>\n",
       "      <td>NaN</td>\n",
       "      <td>NaN</td>\n",
       "      <td>N2O (t)</td>\n",
       "      <td>SP</td>\n",
       "      <td>OUTRA_IND</td>\n",
       "      <td>NaN</td>\n",
       "      <td>1970</td>\n",
       "      <td>6210.0</td>\n",
       "    </tr>\n",
       "    <tr>\n",
       "      <th>2</th>\n",
       "      <td>Processos Industriais</td>\n",
       "      <td>Indústria Química</td>\n",
       "      <td>Produção de Ácido Adípico</td>\n",
       "      <td>NaN</td>\n",
       "      <td>NaN</td>\n",
       "      <td>NaN</td>\n",
       "      <td>CO (t)</td>\n",
       "      <td>SP</td>\n",
       "      <td>OUTRA_IND</td>\n",
       "      <td>NaN</td>\n",
       "      <td>1970</td>\n",
       "      <td>368.0</td>\n",
       "    </tr>\n",
       "  </tbody>\n",
       "</table>\n",
       "</div>"
      ],
      "text/plain": [
       "         Nível 1 - Setor            Nível 2                    Nível 3  \\\n",
       "0  Processos Industriais  Indústria Química            Produção de ABS   \n",
       "1  Processos Industriais  Indústria Química  Produção de Ácido Adípico   \n",
       "2  Processos Industriais  Indústria Química  Produção de Ácido Adípico   \n",
       "\n",
       "  Nível 4 Nível 5 Nível 6        Gás Estado Atividade Econômica Produto   Ano  \\\n",
       "0     NaN     NaN     NaN  COVNM (t)     SP           OUTRA_IND     NaN  1970   \n",
       "1     NaN     NaN     NaN    N2O (t)     SP           OUTRA_IND     NaN  1970   \n",
       "2     NaN     NaN     NaN     CO (t)     SP           OUTRA_IND     NaN  1970   \n",
       "\n",
       "   Emissão  \n",
       "0      0.0  \n",
       "1   6210.0  \n",
       "2    368.0  "
      ]
     },
     "execution_count": 48,
     "metadata": {},
     "output_type": "execute_result"
    }
   ],
   "source": [
    "yearly_emission.head(3)"
   ]
  },
  {
   "cell_type": "code",
   "execution_count": 49,
   "metadata": {},
   "outputs": [
    {
     "data": {
      "text/html": [
       "<div>\n",
       "<style scoped>\n",
       "    .dataframe tbody tr th:only-of-type {\n",
       "        vertical-align: middle;\n",
       "    }\n",
       "\n",
       "    .dataframe tbody tr th {\n",
       "        vertical-align: top;\n",
       "    }\n",
       "\n",
       "    .dataframe thead th {\n",
       "        text-align: right;\n",
       "    }\n",
       "</style>\n",
       "<table border=\"1\" class=\"dataframe\">\n",
       "  <thead>\n",
       "    <tr style=\"text-align: right;\">\n",
       "      <th></th>\n",
       "      <th></th>\n",
       "      <th>Emissão</th>\n",
       "    </tr>\n",
       "    <tr>\n",
       "      <th>Ano</th>\n",
       "      <th>Gás</th>\n",
       "      <th></th>\n",
       "    </tr>\n",
       "  </thead>\n",
       "  <tbody>\n",
       "    <tr>\n",
       "      <th rowspan=\"5\" valign=\"top\">1970</th>\n",
       "      <th>C2F6 (t)</th>\n",
       "      <td>0.232610</td>\n",
       "    </tr>\n",
       "    <tr>\n",
       "      <th>CF4 (t)</th>\n",
       "      <td>3.557421</td>\n",
       "    </tr>\n",
       "    <tr>\n",
       "      <th>CH4 (t)</th>\n",
       "      <td>1471.024024</td>\n",
       "    </tr>\n",
       "    <tr>\n",
       "      <th>CO (t)</th>\n",
       "      <td>2155.556658</td>\n",
       "    </tr>\n",
       "    <tr>\n",
       "      <th>CO2 (t)</th>\n",
       "      <td>19244.913199</td>\n",
       "    </tr>\n",
       "    <tr>\n",
       "      <th>...</th>\n",
       "      <th>...</th>\n",
       "      <td>...</td>\n",
       "    </tr>\n",
       "    <tr>\n",
       "      <th rowspan=\"5\" valign=\"top\">2021</th>\n",
       "      <th>HFC-23 (t)</th>\n",
       "      <td>0.000000</td>\n",
       "    </tr>\n",
       "    <tr>\n",
       "      <th>HFC-32 (t)</th>\n",
       "      <td>261.100000</td>\n",
       "    </tr>\n",
       "    <tr>\n",
       "      <th>N2O (t)</th>\n",
       "      <td>119.295311</td>\n",
       "    </tr>\n",
       "    <tr>\n",
       "      <th>NOx (t)</th>\n",
       "      <td>679.395431</td>\n",
       "    </tr>\n",
       "    <tr>\n",
       "      <th>SF6 (t)</th>\n",
       "      <td>5.240000</td>\n",
       "    </tr>\n",
       "  </tbody>\n",
       "</table>\n",
       "<p>1196 rows × 1 columns</p>\n",
       "</div>"
      ],
      "text/plain": [
       "                      Emissão\n",
       "Ano  Gás                     \n",
       "1970 C2F6 (t)        0.232610\n",
       "     CF4 (t)         3.557421\n",
       "     CH4 (t)      1471.024024\n",
       "     CO (t)       2155.556658\n",
       "     CO2 (t)     19244.913199\n",
       "...                       ...\n",
       "2021 HFC-23 (t)      0.000000\n",
       "     HFC-32 (t)    261.100000\n",
       "     N2O (t)       119.295311\n",
       "     NOx (t)       679.395431\n",
       "     SF6 (t)         5.240000\n",
       "\n",
       "[1196 rows x 1 columns]"
      ]
     },
     "execution_count": 49,
     "metadata": {},
     "output_type": "execute_result"
    }
   ],
   "source": [
    "yearly_emission_mean = yearly_emission.groupby(['Ano', 'Gás'])[['Emissão']].mean()\n",
    "yearly_emission_mean"
   ]
  },
  {
   "cell_type": "code",
   "execution_count": 50,
   "metadata": {},
   "outputs": [
    {
     "data": {
      "text/html": [
       "<div>\n",
       "<style scoped>\n",
       "    .dataframe tbody tr th:only-of-type {\n",
       "        vertical-align: middle;\n",
       "    }\n",
       "\n",
       "    .dataframe tbody tr th {\n",
       "        vertical-align: top;\n",
       "    }\n",
       "\n",
       "    .dataframe thead th {\n",
       "        text-align: right;\n",
       "    }\n",
       "</style>\n",
       "<table border=\"1\" class=\"dataframe\">\n",
       "  <thead>\n",
       "    <tr style=\"text-align: right;\">\n",
       "      <th>Gás</th>\n",
       "      <th>C2F6 (t)</th>\n",
       "      <th>CF4 (t)</th>\n",
       "      <th>CH4 (t)</th>\n",
       "      <th>CO (t)</th>\n",
       "      <th>CO2 (t)</th>\n",
       "      <th>CO2e (t) GTP-AR2</th>\n",
       "      <th>CO2e (t) GTP-AR4</th>\n",
       "      <th>CO2e (t) GTP-AR5</th>\n",
       "      <th>CO2e (t) GTP-AR6</th>\n",
       "      <th>CO2e (t) GWP-AR2</th>\n",
       "      <th>...</th>\n",
       "      <th>COVNM (t)</th>\n",
       "      <th>HFC-125 (t)</th>\n",
       "      <th>HFC-134a (t)</th>\n",
       "      <th>HFC-143a (t)</th>\n",
       "      <th>HFC-152a (t)</th>\n",
       "      <th>HFC-23 (t)</th>\n",
       "      <th>HFC-32 (t)</th>\n",
       "      <th>N2O (t)</th>\n",
       "      <th>NOx (t)</th>\n",
       "      <th>SF6 (t)</th>\n",
       "    </tr>\n",
       "    <tr>\n",
       "      <th>Ano</th>\n",
       "      <th></th>\n",
       "      <th></th>\n",
       "      <th></th>\n",
       "      <th></th>\n",
       "      <th></th>\n",
       "      <th></th>\n",
       "      <th></th>\n",
       "      <th></th>\n",
       "      <th></th>\n",
       "      <th></th>\n",
       "      <th></th>\n",
       "      <th></th>\n",
       "      <th></th>\n",
       "      <th></th>\n",
       "      <th></th>\n",
       "      <th></th>\n",
       "      <th></th>\n",
       "      <th></th>\n",
       "      <th></th>\n",
       "      <th></th>\n",
       "      <th></th>\n",
       "    </tr>\n",
       "  </thead>\n",
       "  <tbody>\n",
       "    <tr>\n",
       "      <th>1970</th>\n",
       "      <td>0.232610</td>\n",
       "      <td>3.557421</td>\n",
       "      <td>1471.024024</td>\n",
       "      <td>2155.556658</td>\n",
       "      <td>19244.913199</td>\n",
       "      <td>20821.379814</td>\n",
       "      <td>20821.379814</td>\n",
       "      <td>19162.726020</td>\n",
       "      <td>19775.283385</td>\n",
       "      <td>35396.183865</td>\n",
       "      <td>...</td>\n",
       "      <td>742.074863</td>\n",
       "      <td>0.0</td>\n",
       "      <td>0.0</td>\n",
       "      <td>0.0</td>\n",
       "      <td>0.0</td>\n",
       "      <td>0.0</td>\n",
       "      <td>0.0</td>\n",
       "      <td>31.632709</td>\n",
       "      <td>154.072797</td>\n",
       "      <td>0.0</td>\n",
       "    </tr>\n",
       "    <tr>\n",
       "      <th>1971</th>\n",
       "      <td>0.334611</td>\n",
       "      <td>5.117360</td>\n",
       "      <td>1525.506914</td>\n",
       "      <td>2259.625805</td>\n",
       "      <td>21598.587743</td>\n",
       "      <td>22466.288595</td>\n",
       "      <td>22466.288595</td>\n",
       "      <td>20748.481445</td>\n",
       "      <td>21386.175802</td>\n",
       "      <td>37570.982886</td>\n",
       "      <td>...</td>\n",
       "      <td>730.119047</td>\n",
       "      <td>0.0</td>\n",
       "      <td>0.0</td>\n",
       "      <td>0.0</td>\n",
       "      <td>0.0</td>\n",
       "      <td>0.0</td>\n",
       "      <td>0.0</td>\n",
       "      <td>32.609237</td>\n",
       "      <td>170.550178</td>\n",
       "      <td>0.0</td>\n",
       "    </tr>\n",
       "    <tr>\n",
       "      <th>1972</th>\n",
       "      <td>0.404684</td>\n",
       "      <td>6.189025</td>\n",
       "      <td>1584.719568</td>\n",
       "      <td>2418.944795</td>\n",
       "      <td>23664.445521</td>\n",
       "      <td>24100.305265</td>\n",
       "      <td>24100.305265</td>\n",
       "      <td>22303.224240</td>\n",
       "      <td>22966.797327</td>\n",
       "      <td>39800.768350</td>\n",
       "      <td>...</td>\n",
       "      <td>774.278817</td>\n",
       "      <td>0.0</td>\n",
       "      <td>0.0</td>\n",
       "      <td>0.0</td>\n",
       "      <td>0.0</td>\n",
       "      <td>0.0</td>\n",
       "      <td>0.0</td>\n",
       "      <td>34.311864</td>\n",
       "      <td>188.856161</td>\n",
       "      <td>0.0</td>\n",
       "    </tr>\n",
       "    <tr>\n",
       "      <th>1973</th>\n",
       "      <td>0.463147</td>\n",
       "      <td>7.083136</td>\n",
       "      <td>1642.612439</td>\n",
       "      <td>2596.053853</td>\n",
       "      <td>27726.668829</td>\n",
       "      <td>26683.827206</td>\n",
       "      <td>26683.827206</td>\n",
       "      <td>24827.077028</td>\n",
       "      <td>25516.409611</td>\n",
       "      <td>42947.755490</td>\n",
       "      <td>...</td>\n",
       "      <td>796.866394</td>\n",
       "      <td>0.0</td>\n",
       "      <td>0.0</td>\n",
       "      <td>0.0</td>\n",
       "      <td>0.0</td>\n",
       "      <td>0.0</td>\n",
       "      <td>0.0</td>\n",
       "      <td>35.278689</td>\n",
       "      <td>217.320480</td>\n",
       "      <td>0.0</td>\n",
       "    </tr>\n",
       "    <tr>\n",
       "      <th>1974</th>\n",
       "      <td>0.471026</td>\n",
       "      <td>7.203619</td>\n",
       "      <td>1704.614365</td>\n",
       "      <td>2681.450599</td>\n",
       "      <td>30155.918952</td>\n",
       "      <td>28539.318732</td>\n",
       "      <td>28539.318732</td>\n",
       "      <td>26600.481407</td>\n",
       "      <td>27321.124852</td>\n",
       "      <td>45431.240064</td>\n",
       "      <td>...</td>\n",
       "      <td>1024.694923</td>\n",
       "      <td>0.0</td>\n",
       "      <td>0.0</td>\n",
       "      <td>0.0</td>\n",
       "      <td>0.0</td>\n",
       "      <td>0.0</td>\n",
       "      <td>0.0</td>\n",
       "      <td>37.098183</td>\n",
       "      <td>247.521415</td>\n",
       "      <td>0.0</td>\n",
       "    </tr>\n",
       "  </tbody>\n",
       "</table>\n",
       "<p>5 rows × 23 columns</p>\n",
       "</div>"
      ],
      "text/plain": [
       "Gás   C2F6 (t)   CF4 (t)      CH4 (t)       CO (t)       CO2 (t)  \\\n",
       "Ano                                                                \n",
       "1970  0.232610  3.557421  1471.024024  2155.556658  19244.913199   \n",
       "1971  0.334611  5.117360  1525.506914  2259.625805  21598.587743   \n",
       "1972  0.404684  6.189025  1584.719568  2418.944795  23664.445521   \n",
       "1973  0.463147  7.083136  1642.612439  2596.053853  27726.668829   \n",
       "1974  0.471026  7.203619  1704.614365  2681.450599  30155.918952   \n",
       "\n",
       "Gás   CO2e (t) GTP-AR2  CO2e (t) GTP-AR4  CO2e (t) GTP-AR5  CO2e (t) GTP-AR6  \\\n",
       "Ano                                                                            \n",
       "1970      20821.379814      20821.379814      19162.726020      19775.283385   \n",
       "1971      22466.288595      22466.288595      20748.481445      21386.175802   \n",
       "1972      24100.305265      24100.305265      22303.224240      22966.797327   \n",
       "1973      26683.827206      26683.827206      24827.077028      25516.409611   \n",
       "1974      28539.318732      28539.318732      26600.481407      27321.124852   \n",
       "\n",
       "Gás   CO2e (t) GWP-AR2  ...    COVNM (t)  HFC-125 (t)  HFC-134a (t)  \\\n",
       "Ano                     ...                                           \n",
       "1970      35396.183865  ...   742.074863          0.0           0.0   \n",
       "1971      37570.982886  ...   730.119047          0.0           0.0   \n",
       "1972      39800.768350  ...   774.278817          0.0           0.0   \n",
       "1973      42947.755490  ...   796.866394          0.0           0.0   \n",
       "1974      45431.240064  ...  1024.694923          0.0           0.0   \n",
       "\n",
       "Gás   HFC-143a (t)  HFC-152a (t)  HFC-23 (t)  HFC-32 (t)    N2O (t)  \\\n",
       "Ano                                                                   \n",
       "1970           0.0           0.0         0.0         0.0  31.632709   \n",
       "1971           0.0           0.0         0.0         0.0  32.609237   \n",
       "1972           0.0           0.0         0.0         0.0  34.311864   \n",
       "1973           0.0           0.0         0.0         0.0  35.278689   \n",
       "1974           0.0           0.0         0.0         0.0  37.098183   \n",
       "\n",
       "Gás      NOx (t)  SF6 (t)  \n",
       "Ano                        \n",
       "1970  154.072797      0.0  \n",
       "1971  170.550178      0.0  \n",
       "1972  188.856161      0.0  \n",
       "1973  217.320480      0.0  \n",
       "1974  247.521415      0.0  \n",
       "\n",
       "[5 rows x 23 columns]"
      ]
     },
     "execution_count": 50,
     "metadata": {},
     "output_type": "execute_result"
    }
   ],
   "source": [
    "yearly_emission_mean = yearly_emission_mean.pivot_table(index = 'Ano', columns= 'Gás', values = 'Emissão')\n",
    "yearly_emission_mean.head(5)"
   ]
  },
  {
   "cell_type": "code",
   "execution_count": 51,
   "metadata": {},
   "outputs": [
    {
     "data": {
      "text/plain": [
       "array([<Axes: xlabel='Ano'>, <Axes: xlabel='Ano'>, <Axes: xlabel='Ano'>,\n",
       "       <Axes: xlabel='Ano'>, <Axes: xlabel='Ano'>, <Axes: xlabel='Ano'>,\n",
       "       <Axes: xlabel='Ano'>, <Axes: xlabel='Ano'>, <Axes: xlabel='Ano'>,\n",
       "       <Axes: xlabel='Ano'>, <Axes: xlabel='Ano'>, <Axes: xlabel='Ano'>,\n",
       "       <Axes: xlabel='Ano'>, <Axes: xlabel='Ano'>, <Axes: xlabel='Ano'>,\n",
       "       <Axes: xlabel='Ano'>, <Axes: xlabel='Ano'>, <Axes: xlabel='Ano'>,\n",
       "       <Axes: xlabel='Ano'>, <Axes: xlabel='Ano'>, <Axes: xlabel='Ano'>,\n",
       "       <Axes: xlabel='Ano'>, <Axes: xlabel='Ano'>], dtype=object)"
      ]
     },
     "execution_count": 51,
     "metadata": {},
     "output_type": "execute_result"
    },
    {
     "data": {
      "image/png": "[encoded data removed]",
      "text/plain": [
       "<Figure size 1000x4000 with 23 Axes>"
      ]
     },
     "metadata": {},
     "output_type": "display_data"
    }
   ],
   "source": [
    "yearly_emission_mean.plot(subplots = True, figsize= (10,40))"
   ]
  },
  {
   "cell_type": "markdown",
   "metadata": {},
   "source": [
    "## Challenge 03"
   ]
  },
  {
   "cell_type": "markdown",
   "metadata": {},
   "source": [
    "The supervision team wants to know the emissions mean to each economic sector from column \"Nível 1 - Setor\". How a challenge, build a pivot table and a graph visualization containing this infos, utilizing just the pivot_table method without using groupby."
   ]
  },
  {
   "cell_type": "code",
   "execution_count": 52,
   "metadata": {},
   "outputs": [
    {
     "data": {
      "text/html": [
       "<div>\n",
       "<style scoped>\n",
       "    .dataframe tbody tr th:only-of-type {\n",
       "        vertical-align: middle;\n",
       "    }\n",
       "\n",
       "    .dataframe tbody tr th {\n",
       "        vertical-align: top;\n",
       "    }\n",
       "\n",
       "    .dataframe thead th {\n",
       "        text-align: right;\n",
       "    }\n",
       "</style>\n",
       "<table border=\"1\" class=\"dataframe\">\n",
       "  <thead>\n",
       "    <tr style=\"text-align: right;\">\n",
       "      <th></th>\n",
       "      <th>Nível 1 - Setor</th>\n",
       "      <th>Nível 2</th>\n",
       "      <th>Nível 3</th>\n",
       "      <th>Nível 4</th>\n",
       "      <th>Nível 5</th>\n",
       "      <th>Nível 6</th>\n",
       "      <th>Gás</th>\n",
       "      <th>Estado</th>\n",
       "      <th>Atividade Econômica</th>\n",
       "      <th>Produto</th>\n",
       "      <th>Ano</th>\n",
       "      <th>Emissão</th>\n",
       "    </tr>\n",
       "  </thead>\n",
       "  <tbody>\n",
       "    <tr>\n",
       "      <th>0</th>\n",
       "      <td>Processos Industriais</td>\n",
       "      <td>Indústria Química</td>\n",
       "      <td>Produção de ABS</td>\n",
       "      <td>NaN</td>\n",
       "      <td>NaN</td>\n",
       "      <td>NaN</td>\n",
       "      <td>COVNM (t)</td>\n",
       "      <td>SP</td>\n",
       "      <td>OUTRA_IND</td>\n",
       "      <td>NaN</td>\n",
       "      <td>1970</td>\n",
       "      <td>0.0</td>\n",
       "    </tr>\n",
       "    <tr>\n",
       "      <th>1</th>\n",
       "      <td>Processos Industriais</td>\n",
       "      <td>Indústria Química</td>\n",
       "      <td>Produção de Ácido Adípico</td>\n",
       "      <td>NaN</td>\n",
       "      <td>NaN</td>\n",
       "      <td>NaN</td>\n",
       "      <td>N2O (t)</td>\n",
       "      <td>SP</td>\n",
       "      <td>OUTRA_IND</td>\n",
       "      <td>NaN</td>\n",
       "      <td>1970</td>\n",
       "      <td>6210.0</td>\n",
       "    </tr>\n",
       "    <tr>\n",
       "      <th>2</th>\n",
       "      <td>Processos Industriais</td>\n",
       "      <td>Indústria Química</td>\n",
       "      <td>Produção de Ácido Adípico</td>\n",
       "      <td>NaN</td>\n",
       "      <td>NaN</td>\n",
       "      <td>NaN</td>\n",
       "      <td>CO (t)</td>\n",
       "      <td>SP</td>\n",
       "      <td>OUTRA_IND</td>\n",
       "      <td>NaN</td>\n",
       "      <td>1970</td>\n",
       "      <td>368.0</td>\n",
       "    </tr>\n",
       "    <tr>\n",
       "      <th>3</th>\n",
       "      <td>Processos Industriais</td>\n",
       "      <td>Indústria Química</td>\n",
       "      <td>Produção de Ácido Adípico</td>\n",
       "      <td>NaN</td>\n",
       "      <td>NaN</td>\n",
       "      <td>NaN</td>\n",
       "      <td>NOx (t)</td>\n",
       "      <td>SP</td>\n",
       "      <td>OUTRA_IND</td>\n",
       "      <td>NaN</td>\n",
       "      <td>1970</td>\n",
       "      <td>115.0</td>\n",
       "    </tr>\n",
       "    <tr>\n",
       "      <th>4</th>\n",
       "      <td>Processos Industriais</td>\n",
       "      <td>Indústria Química</td>\n",
       "      <td>Produção de Ácido Adípico</td>\n",
       "      <td>NaN</td>\n",
       "      <td>NaN</td>\n",
       "      <td>NaN</td>\n",
       "      <td>CO2e (t) GWP-AR2</td>\n",
       "      <td>SP</td>\n",
       "      <td>OUTRA_IND</td>\n",
       "      <td>NaN</td>\n",
       "      <td>1970</td>\n",
       "      <td>1925100.0</td>\n",
       "    </tr>\n",
       "  </tbody>\n",
       "</table>\n",
       "</div>"
      ],
      "text/plain": [
       "         Nível 1 - Setor            Nível 2                    Nível 3  \\\n",
       "0  Processos Industriais  Indústria Química            Produção de ABS   \n",
       "1  Processos Industriais  Indústria Química  Produção de Ácido Adípico   \n",
       "2  Processos Industriais  Indústria Química  Produção de Ácido Adípico   \n",
       "3  Processos Industriais  Indústria Química  Produção de Ácido Adípico   \n",
       "4  Processos Industriais  Indústria Química  Produção de Ácido Adípico   \n",
       "\n",
       "  Nível 4 Nível 5 Nível 6               Gás Estado Atividade Econômica  \\\n",
       "0     NaN     NaN     NaN         COVNM (t)     SP           OUTRA_IND   \n",
       "1     NaN     NaN     NaN           N2O (t)     SP           OUTRA_IND   \n",
       "2     NaN     NaN     NaN            CO (t)     SP           OUTRA_IND   \n",
       "3     NaN     NaN     NaN           NOx (t)     SP           OUTRA_IND   \n",
       "4     NaN     NaN     NaN  CO2e (t) GWP-AR2     SP           OUTRA_IND   \n",
       "\n",
       "  Produto   Ano    Emissão  \n",
       "0     NaN  1970        0.0  \n",
       "1     NaN  1970     6210.0  \n",
       "2     NaN  1970      368.0  \n",
       "3     NaN  1970      115.0  \n",
       "4     NaN  1970  1925100.0  "
      ]
     },
     "execution_count": 52,
     "metadata": {},
     "output_type": "execute_result"
    }
   ],
   "source": [
    "yearly_emission.head()"
   ]
  },
  {
   "cell_type": "code",
   "execution_count": 53,
   "metadata": {},
   "outputs": [
    {
     "data": {
      "text/html": [
       "<div>\n",
       "<style scoped>\n",
       "    .dataframe tbody tr th:only-of-type {\n",
       "        vertical-align: middle;\n",
       "    }\n",
       "\n",
       "    .dataframe tbody tr th {\n",
       "        vertical-align: top;\n",
       "    }\n",
       "\n",
       "    .dataframe thead th {\n",
       "        text-align: right;\n",
       "    }\n",
       "</style>\n",
       "<table border=\"1\" class=\"dataframe\">\n",
       "  <thead>\n",
       "    <tr style=\"text-align: right;\">\n",
       "      <th>Nível 1 - Setor</th>\n",
       "      <th>Agropecuária</th>\n",
       "      <th>Energia</th>\n",
       "      <th>Mudança de Uso da Terra e Floresta</th>\n",
       "      <th>Processos Industriais</th>\n",
       "      <th>Resíduos</th>\n",
       "    </tr>\n",
       "    <tr>\n",
       "      <th>Ano</th>\n",
       "      <th></th>\n",
       "      <th></th>\n",
       "      <th></th>\n",
       "      <th></th>\n",
       "      <th></th>\n",
       "    </tr>\n",
       "  </thead>\n",
       "  <tbody>\n",
       "    <tr>\n",
       "      <th>1970</th>\n",
       "      <td>49292.425313</td>\n",
       "      <td>15939.703116</td>\n",
       "      <td>0.0</td>\n",
       "      <td>106549.168676</td>\n",
       "      <td>11684.883558</td>\n",
       "    </tr>\n",
       "    <tr>\n",
       "      <th>1971</th>\n",
       "      <td>51199.559433</td>\n",
       "      <td>17698.989894</td>\n",
       "      <td>0.0</td>\n",
       "      <td>111532.507753</td>\n",
       "      <td>12676.706849</td>\n",
       "    </tr>\n",
       "    <tr>\n",
       "      <th>1972</th>\n",
       "      <td>53508.935498</td>\n",
       "      <td>19092.876761</td>\n",
       "      <td>0.0</td>\n",
       "      <td>125701.525455</td>\n",
       "      <td>13709.697850</td>\n",
       "    </tr>\n",
       "    <tr>\n",
       "      <th>1973</th>\n",
       "      <td>55494.006224</td>\n",
       "      <td>22062.085929</td>\n",
       "      <td>0.0</td>\n",
       "      <td>137657.110402</td>\n",
       "      <td>14715.248028</td>\n",
       "    </tr>\n",
       "    <tr>\n",
       "      <th>1974</th>\n",
       "      <td>57896.513900</td>\n",
       "      <td>23810.659474</td>\n",
       "      <td>0.0</td>\n",
       "      <td>149941.779638</td>\n",
       "      <td>15710.616150</td>\n",
       "    </tr>\n",
       "  </tbody>\n",
       "</table>\n",
       "</div>"
      ],
      "text/plain": [
       "Nível 1 - Setor  Agropecuária       Energia  \\\n",
       "Ano                                           \n",
       "1970             49292.425313  15939.703116   \n",
       "1971             51199.559433  17698.989894   \n",
       "1972             53508.935498  19092.876761   \n",
       "1973             55494.006224  22062.085929   \n",
       "1974             57896.513900  23810.659474   \n",
       "\n",
       "Nível 1 - Setor  Mudança de Uso da Terra e Floresta  Processos Industriais  \\\n",
       "Ano                                                                          \n",
       "1970                                            0.0          106549.168676   \n",
       "1971                                            0.0          111532.507753   \n",
       "1972                                            0.0          125701.525455   \n",
       "1973                                            0.0          137657.110402   \n",
       "1974                                            0.0          149941.779638   \n",
       "\n",
       "Nível 1 - Setor     Resíduos   \n",
       "Ano                            \n",
       "1970             11684.883558  \n",
       "1971             12676.706849  \n",
       "1972             13709.697850  \n",
       "1973             14715.248028  \n",
       "1974             15710.616150  "
      ]
     },
     "execution_count": 53,
     "metadata": {},
     "output_type": "execute_result"
    }
   ],
   "source": [
    "yearly_sector_emission = yearly_emission.pivot_table(index = 'Ano', columns = 'Nível 1 - Setor', aggfunc='mean', values = 'Emissão')\n",
    "yearly_sector_emission.head()"
   ]
  },
  {
   "cell_type": "code",
   "execution_count": 54,
   "metadata": {},
   "outputs": [
    {
     "data": {
      "text/plain": [
       "array([<Axes: xlabel='Ano'>, <Axes: xlabel='Ano'>, <Axes: xlabel='Ano'>,\n",
       "       <Axes: xlabel='Ano'>, <Axes: xlabel='Ano'>], dtype=object)"
      ]
     },
     "execution_count": 54,
     "metadata": {},
     "output_type": "execute_result"
    },
    {
     "data": {
      "image/png": "[encoded data removed]",
      "text/plain": [
       "<Figure size 640x480 with 5 Axes>"
      ]
     },
     "metadata": {},
     "output_type": "display_data"
    }
   ],
   "source": [
    "yearly_sector_emission.plot(kind = 'line', subplots= True)"
   ]
  },
  {
   "cell_type": "markdown",
   "metadata": {},
   "source": [
    "# Challenge 04"
   ]
  },
  {
   "cell_type": "markdown",
   "metadata": {},
   "source": [
    "1. Group data based in columns 'Estado' and 'Nível 1 - Setor', obtaining the emissions sum and storing the results in a dataframe.\n",
    "2. Utilizing the dataframe built in first activity, select the datas referent to \"Energia\" in \"Nível 1 - Setor\" index.\n",
    "3. Utilizing dataframe built in first activity, find the economic activity with emission maximum value from Minas Gerais.\n",
    "4. Obtain a table containing the economic activity with the maximum emission for each state.\n",
    "5. Obtain a table containing the State with maximum emission from each economic activity."
   ]
  },
  {
   "cell_type": "markdown",
   "metadata": {},
   "source": [
    "## 1. Group data based in columns 'Estado' and 'Nível 1 - Setor', obtaining the emissions sum and storing the results in a dataframe.\n"
   ]
  },
  {
   "cell_type": "code",
   "execution_count": 55,
   "metadata": {},
   "outputs": [
    {
     "data": {
      "text/html": [
       "<div>\n",
       "<style scoped>\n",
       "    .dataframe tbody tr th:only-of-type {\n",
       "        vertical-align: middle;\n",
       "    }\n",
       "\n",
       "    .dataframe tbody tr th {\n",
       "        vertical-align: top;\n",
       "    }\n",
       "\n",
       "    .dataframe thead th {\n",
       "        text-align: right;\n",
       "    }\n",
       "</style>\n",
       "<table border=\"1\" class=\"dataframe\">\n",
       "  <thead>\n",
       "    <tr style=\"text-align: right;\">\n",
       "      <th></th>\n",
       "      <th>Nível 1 - Setor</th>\n",
       "      <th>Nível 2</th>\n",
       "      <th>Nível 3</th>\n",
       "      <th>Nível 4</th>\n",
       "      <th>Nível 5</th>\n",
       "      <th>Nível 6</th>\n",
       "      <th>Gás</th>\n",
       "      <th>Estado</th>\n",
       "      <th>Atividade Econômica</th>\n",
       "      <th>Produto</th>\n",
       "      <th>Ano</th>\n",
       "      <th>Emissão</th>\n",
       "    </tr>\n",
       "  </thead>\n",
       "  <tbody>\n",
       "    <tr>\n",
       "      <th>0</th>\n",
       "      <td>Processos Industriais</td>\n",
       "      <td>Indústria Química</td>\n",
       "      <td>Produção de ABS</td>\n",
       "      <td>NaN</td>\n",
       "      <td>NaN</td>\n",
       "      <td>NaN</td>\n",
       "      <td>COVNM (t)</td>\n",
       "      <td>SP</td>\n",
       "      <td>OUTRA_IND</td>\n",
       "      <td>NaN</td>\n",
       "      <td>1970</td>\n",
       "      <td>0.0</td>\n",
       "    </tr>\n",
       "    <tr>\n",
       "      <th>1</th>\n",
       "      <td>Processos Industriais</td>\n",
       "      <td>Indústria Química</td>\n",
       "      <td>Produção de Ácido Adípico</td>\n",
       "      <td>NaN</td>\n",
       "      <td>NaN</td>\n",
       "      <td>NaN</td>\n",
       "      <td>N2O (t)</td>\n",
       "      <td>SP</td>\n",
       "      <td>OUTRA_IND</td>\n",
       "      <td>NaN</td>\n",
       "      <td>1970</td>\n",
       "      <td>6210.0</td>\n",
       "    </tr>\n",
       "    <tr>\n",
       "      <th>2</th>\n",
       "      <td>Processos Industriais</td>\n",
       "      <td>Indústria Química</td>\n",
       "      <td>Produção de Ácido Adípico</td>\n",
       "      <td>NaN</td>\n",
       "      <td>NaN</td>\n",
       "      <td>NaN</td>\n",
       "      <td>CO (t)</td>\n",
       "      <td>SP</td>\n",
       "      <td>OUTRA_IND</td>\n",
       "      <td>NaN</td>\n",
       "      <td>1970</td>\n",
       "      <td>368.0</td>\n",
       "    </tr>\n",
       "  </tbody>\n",
       "</table>\n",
       "</div>"
      ],
      "text/plain": [
       "         Nível 1 - Setor            Nível 2                    Nível 3  \\\n",
       "0  Processos Industriais  Indústria Química            Produção de ABS   \n",
       "1  Processos Industriais  Indústria Química  Produção de Ácido Adípico   \n",
       "2  Processos Industriais  Indústria Química  Produção de Ácido Adípico   \n",
       "\n",
       "  Nível 4 Nível 5 Nível 6        Gás Estado Atividade Econômica Produto   Ano  \\\n",
       "0     NaN     NaN     NaN  COVNM (t)     SP           OUTRA_IND     NaN  1970   \n",
       "1     NaN     NaN     NaN    N2O (t)     SP           OUTRA_IND     NaN  1970   \n",
       "2     NaN     NaN     NaN     CO (t)     SP           OUTRA_IND     NaN  1970   \n",
       "\n",
       "   Emissão  \n",
       "0      0.0  \n",
       "1   6210.0  \n",
       "2    368.0  "
      ]
     },
     "execution_count": 55,
     "metadata": {},
     "output_type": "execute_result"
    }
   ],
   "source": [
    "yearly_emission.head(3)"
   ]
  },
  {
   "cell_type": "code",
   "execution_count": 56,
   "metadata": {},
   "outputs": [
    {
     "name": "stderr",
     "output_type": "stream",
     "text": [
      "C:\\Users\\63\\AppData\\Local\\Temp\\ipykernel_16124\\633760656.py:1: FutureWarning: The default value of numeric_only in DataFrameGroupBy.sum is deprecated. In a future version, numeric_only will default to False. Either specify numeric_only or select only columns which should be valid for the function.\n",
      "  states_sector_emission = yearly_emission.groupby(['Estado', 'Nível 1 - Setor']).sum()\n"
     ]
    }
   ],
   "source": [
    "states_sector_emission = yearly_emission.groupby(['Estado', 'Nível 1 - Setor']).sum()"
   ]
  },
  {
   "cell_type": "markdown",
   "metadata": {},
   "source": [
    "## 2. Utilizing the dataframe built in first activity, select the data referent to \"Energia\" in \"Nível 1 - Setor\" index."
   ]
  },
  {
   "cell_type": "code",
   "execution_count": 57,
   "metadata": {},
   "outputs": [
    {
     "data": {
      "text/html": [
       "<div>\n",
       "<style scoped>\n",
       "    .dataframe tbody tr th:only-of-type {\n",
       "        vertical-align: middle;\n",
       "    }\n",
       "\n",
       "    .dataframe tbody tr th {\n",
       "        vertical-align: top;\n",
       "    }\n",
       "\n",
       "    .dataframe thead th {\n",
       "        text-align: right;\n",
       "    }\n",
       "</style>\n",
       "<table border=\"1\" class=\"dataframe\">\n",
       "  <thead>\n",
       "    <tr style=\"text-align: right;\">\n",
       "      <th></th>\n",
       "      <th>Emissão</th>\n",
       "    </tr>\n",
       "    <tr>\n",
       "      <th>Estado</th>\n",
       "      <th></th>\n",
       "    </tr>\n",
       "  </thead>\n",
       "  <tbody>\n",
       "    <tr>\n",
       "      <th>AC</th>\n",
       "      <td>2.071751e+08</td>\n",
       "    </tr>\n",
       "    <tr>\n",
       "      <th>AL</th>\n",
       "      <td>5.958697e+08</td>\n",
       "    </tr>\n",
       "    <tr>\n",
       "      <th>AM</th>\n",
       "      <td>1.916462e+09</td>\n",
       "    </tr>\n",
       "    <tr>\n",
       "      <th>AP</th>\n",
       "      <td>2.638059e+08</td>\n",
       "    </tr>\n",
       "    <tr>\n",
       "      <th>BA</th>\n",
       "      <td>4.801368e+09</td>\n",
       "    </tr>\n",
       "    <tr>\n",
       "      <th>CE</th>\n",
       "      <td>1.879584e+09</td>\n",
       "    </tr>\n",
       "    <tr>\n",
       "      <th>DF</th>\n",
       "      <td>9.487860e+08</td>\n",
       "    </tr>\n",
       "    <tr>\n",
       "      <th>ES</th>\n",
       "      <td>2.201326e+09</td>\n",
       "    </tr>\n",
       "    <tr>\n",
       "      <th>GO</th>\n",
       "      <td>2.761709e+09</td>\n",
       "    </tr>\n",
       "    <tr>\n",
       "      <th>MA</th>\n",
       "      <td>1.699005e+09</td>\n",
       "    </tr>\n",
       "    <tr>\n",
       "      <th>MG</th>\n",
       "      <td>9.663844e+09</td>\n",
       "    </tr>\n",
       "    <tr>\n",
       "      <th>MS</th>\n",
       "      <td>1.593967e+09</td>\n",
       "    </tr>\n",
       "    <tr>\n",
       "      <th>MT</th>\n",
       "      <td>2.296983e+09</td>\n",
       "    </tr>\n",
       "    <tr>\n",
       "      <th>PA</th>\n",
       "      <td>2.730706e+09</td>\n",
       "    </tr>\n",
       "    <tr>\n",
       "      <th>PB</th>\n",
       "      <td>8.358578e+08</td>\n",
       "    </tr>\n",
       "    <tr>\n",
       "      <th>PE</th>\n",
       "      <td>2.089593e+09</td>\n",
       "    </tr>\n",
       "    <tr>\n",
       "      <th>PI</th>\n",
       "      <td>5.044902e+08</td>\n",
       "    </tr>\n",
       "    <tr>\n",
       "      <th>PR</th>\n",
       "      <td>5.502734e+09</td>\n",
       "    </tr>\n",
       "    <tr>\n",
       "      <th>RJ</th>\n",
       "      <td>9.151787e+09</td>\n",
       "    </tr>\n",
       "    <tr>\n",
       "      <th>RN</th>\n",
       "      <td>9.473144e+08</td>\n",
       "    </tr>\n",
       "    <tr>\n",
       "      <th>RO</th>\n",
       "      <td>7.246552e+08</td>\n",
       "    </tr>\n",
       "    <tr>\n",
       "      <th>RR</th>\n",
       "      <td>1.672719e+08</td>\n",
       "    </tr>\n",
       "    <tr>\n",
       "      <th>RS</th>\n",
       "      <td>5.901596e+09</td>\n",
       "    </tr>\n",
       "    <tr>\n",
       "      <th>SC</th>\n",
       "      <td>4.328366e+09</td>\n",
       "    </tr>\n",
       "    <tr>\n",
       "      <th>SE</th>\n",
       "      <td>6.627356e+08</td>\n",
       "    </tr>\n",
       "    <tr>\n",
       "      <th>SP</th>\n",
       "      <td>2.214979e+10</td>\n",
       "    </tr>\n",
       "    <tr>\n",
       "      <th>TO</th>\n",
       "      <td>5.130379e+08</td>\n",
       "    </tr>\n",
       "  </tbody>\n",
       "</table>\n",
       "</div>"
      ],
      "text/plain": [
       "             Emissão\n",
       "Estado              \n",
       "AC      2.071751e+08\n",
       "AL      5.958697e+08\n",
       "AM      1.916462e+09\n",
       "AP      2.638059e+08\n",
       "BA      4.801368e+09\n",
       "CE      1.879584e+09\n",
       "DF      9.487860e+08\n",
       "ES      2.201326e+09\n",
       "GO      2.761709e+09\n",
       "MA      1.699005e+09\n",
       "MG      9.663844e+09\n",
       "MS      1.593967e+09\n",
       "MT      2.296983e+09\n",
       "PA      2.730706e+09\n",
       "PB      8.358578e+08\n",
       "PE      2.089593e+09\n",
       "PI      5.044902e+08\n",
       "PR      5.502734e+09\n",
       "RJ      9.151787e+09\n",
       "RN      9.473144e+08\n",
       "RO      7.246552e+08\n",
       "RR      1.672719e+08\n",
       "RS      5.901596e+09\n",
       "SC      4.328366e+09\n",
       "SE      6.627356e+08\n",
       "SP      2.214979e+10\n",
       "TO      5.130379e+08"
      ]
     },
     "execution_count": 57,
     "metadata": {},
     "output_type": "execute_result"
    }
   ],
   "source": [
    "states_sector_emission.xs('Energia', level = 1)"
   ]
  },
  {
   "cell_type": "markdown",
   "metadata": {},
   "source": [
    "## 3. Utilizing dataframe built in first activity, find the economic activity with emission maximum value from Minas Gerais."
   ]
  },
  {
   "cell_type": "code",
   "execution_count": 58,
   "metadata": {},
   "outputs": [
    {
     "data": {
      "text/html": [
       "<div>\n",
       "<style scoped>\n",
       "    .dataframe tbody tr th:only-of-type {\n",
       "        vertical-align: middle;\n",
       "    }\n",
       "\n",
       "    .dataframe tbody tr th {\n",
       "        vertical-align: top;\n",
       "    }\n",
       "\n",
       "    .dataframe thead th {\n",
       "        text-align: right;\n",
       "    }\n",
       "</style>\n",
       "<table border=\"1\" class=\"dataframe\">\n",
       "  <thead>\n",
       "    <tr style=\"text-align: right;\">\n",
       "      <th></th>\n",
       "      <th>Emissão</th>\n",
       "    </tr>\n",
       "    <tr>\n",
       "      <th>Nível 1 - Setor</th>\n",
       "      <th></th>\n",
       "    </tr>\n",
       "  </thead>\n",
       "  <tbody>\n",
       "    <tr>\n",
       "      <th>Agropecuária</th>\n",
       "      <td>1.445325e+10</td>\n",
       "    </tr>\n",
       "    <tr>\n",
       "      <th>Mudança de Uso da Terra e Floresta</th>\n",
       "      <td>1.262467e+10</td>\n",
       "    </tr>\n",
       "    <tr>\n",
       "      <th>Energia</th>\n",
       "      <td>9.663844e+09</td>\n",
       "    </tr>\n",
       "    <tr>\n",
       "      <th>Processos Industriais</th>\n",
       "      <td>6.806110e+09</td>\n",
       "    </tr>\n",
       "    <tr>\n",
       "      <th>Resíduos</th>\n",
       "      <td>1.111180e+09</td>\n",
       "    </tr>\n",
       "  </tbody>\n",
       "</table>\n",
       "</div>"
      ],
      "text/plain": [
       "                                         Emissão\n",
       "Nível 1 - Setor                                 \n",
       "Agropecuária                        1.445325e+10\n",
       "Mudança de Uso da Terra e Floresta  1.262467e+10\n",
       "Energia                             9.663844e+09\n",
       "Processos Industriais               6.806110e+09\n",
       "Resíduos                            1.111180e+09"
      ]
     },
     "execution_count": 58,
     "metadata": {},
     "output_type": "execute_result"
    }
   ],
   "source": [
    "states_sector_emission.xs('MG', level = 0).sort_values(by='Emissão', ascending=False)"
   ]
  },
  {
   "cell_type": "code",
   "execution_count": 59,
   "metadata": {},
   "outputs": [
    {
     "data": {
      "text/plain": [
       "Emissão    Agropecuária\n",
       "dtype: object"
      ]
     },
     "execution_count": 59,
     "metadata": {},
     "output_type": "execute_result"
    }
   ],
   "source": [
    "states_sector_emission.xs('MG', level = 0).idxmax()"
   ]
  },
  {
   "cell_type": "markdown",
   "metadata": {},
   "source": [
    "## 4. Obtain a table containing the economic activity with the maximum emission for each state."
   ]
  },
  {
   "cell_type": "code",
   "execution_count": 60,
   "metadata": {},
   "outputs": [
    {
     "data": {
      "text/html": [
       "<div>\n",
       "<style scoped>\n",
       "    .dataframe tbody tr th:only-of-type {\n",
       "        vertical-align: middle;\n",
       "    }\n",
       "\n",
       "    .dataframe tbody tr th {\n",
       "        vertical-align: top;\n",
       "    }\n",
       "\n",
       "    .dataframe thead th {\n",
       "        text-align: right;\n",
       "    }\n",
       "</style>\n",
       "<table border=\"1\" class=\"dataframe\">\n",
       "  <thead>\n",
       "    <tr style=\"text-align: right;\">\n",
       "      <th></th>\n",
       "      <th>Emissão</th>\n",
       "    </tr>\n",
       "    <tr>\n",
       "      <th>Estado</th>\n",
       "      <th></th>\n",
       "    </tr>\n",
       "  </thead>\n",
       "  <tbody>\n",
       "    <tr>\n",
       "      <th>AC</th>\n",
       "      <td>(AC, Mudança de Uso da Terra e Floresta)</td>\n",
       "    </tr>\n",
       "    <tr>\n",
       "      <th>AL</th>\n",
       "      <td>(AL, Agropecuária)</td>\n",
       "    </tr>\n",
       "    <tr>\n",
       "      <th>AM</th>\n",
       "      <td>(AM, Mudança de Uso da Terra e Floresta)</td>\n",
       "    </tr>\n",
       "    <tr>\n",
       "      <th>AP</th>\n",
       "      <td>(AP, Mudança de Uso da Terra e Floresta)</td>\n",
       "    </tr>\n",
       "    <tr>\n",
       "      <th>BA</th>\n",
       "      <td>(BA, Mudança de Uso da Terra e Floresta)</td>\n",
       "    </tr>\n",
       "    <tr>\n",
       "      <th>CE</th>\n",
       "      <td>(CE, Energia)</td>\n",
       "    </tr>\n",
       "    <tr>\n",
       "      <th>DF</th>\n",
       "      <td>(DF, Energia)</td>\n",
       "    </tr>\n",
       "    <tr>\n",
       "      <th>ES</th>\n",
       "      <td>(ES, Processos Industriais)</td>\n",
       "    </tr>\n",
       "    <tr>\n",
       "      <th>GO</th>\n",
       "      <td>(GO, Agropecuária)</td>\n",
       "    </tr>\n",
       "    <tr>\n",
       "      <th>MA</th>\n",
       "      <td>(MA, Mudança de Uso da Terra e Floresta)</td>\n",
       "    </tr>\n",
       "    <tr>\n",
       "      <th>MG</th>\n",
       "      <td>(MG, Agropecuária)</td>\n",
       "    </tr>\n",
       "    <tr>\n",
       "      <th>MS</th>\n",
       "      <td>(MS, Mudança de Uso da Terra e Floresta)</td>\n",
       "    </tr>\n",
       "    <tr>\n",
       "      <th>MT</th>\n",
       "      <td>(MT, Mudança de Uso da Terra e Floresta)</td>\n",
       "    </tr>\n",
       "    <tr>\n",
       "      <th>PA</th>\n",
       "      <td>(PA, Mudança de Uso da Terra e Floresta)</td>\n",
       "    </tr>\n",
       "    <tr>\n",
       "      <th>PB</th>\n",
       "      <td>(PB, Agropecuária)</td>\n",
       "    </tr>\n",
       "    <tr>\n",
       "      <th>PE</th>\n",
       "      <td>(PE, Energia)</td>\n",
       "    </tr>\n",
       "    <tr>\n",
       "      <th>PI</th>\n",
       "      <td>(PI, Mudança de Uso da Terra e Floresta)</td>\n",
       "    </tr>\n",
       "    <tr>\n",
       "      <th>PR</th>\n",
       "      <td>(PR, Agropecuária)</td>\n",
       "    </tr>\n",
       "    <tr>\n",
       "      <th>RJ</th>\n",
       "      <td>(RJ, Energia)</td>\n",
       "    </tr>\n",
       "    <tr>\n",
       "      <th>RN</th>\n",
       "      <td>(RN, Energia)</td>\n",
       "    </tr>\n",
       "    <tr>\n",
       "      <th>RO</th>\n",
       "      <td>(RO, Mudança de Uso da Terra e Floresta)</td>\n",
       "    </tr>\n",
       "    <tr>\n",
       "      <th>RR</th>\n",
       "      <td>(RR, Mudança de Uso da Terra e Floresta)</td>\n",
       "    </tr>\n",
       "    <tr>\n",
       "      <th>RS</th>\n",
       "      <td>(RS, Agropecuária)</td>\n",
       "    </tr>\n",
       "    <tr>\n",
       "      <th>SC</th>\n",
       "      <td>(SC, Energia)</td>\n",
       "    </tr>\n",
       "    <tr>\n",
       "      <th>SE</th>\n",
       "      <td>(SE, Energia)</td>\n",
       "    </tr>\n",
       "    <tr>\n",
       "      <th>SP</th>\n",
       "      <td>(SP, Energia)</td>\n",
       "    </tr>\n",
       "    <tr>\n",
       "      <th>TO</th>\n",
       "      <td>(TO, Mudança de Uso da Terra e Floresta)</td>\n",
       "    </tr>\n",
       "  </tbody>\n",
       "</table>\n",
       "</div>"
      ],
      "text/plain": [
       "                                         Emissão\n",
       "Estado                                          \n",
       "AC      (AC, Mudança de Uso da Terra e Floresta)\n",
       "AL                            (AL, Agropecuária)\n",
       "AM      (AM, Mudança de Uso da Terra e Floresta)\n",
       "AP      (AP, Mudança de Uso da Terra e Floresta)\n",
       "BA      (BA, Mudança de Uso da Terra e Floresta)\n",
       "CE                                 (CE, Energia)\n",
       "DF                                 (DF, Energia)\n",
       "ES                   (ES, Processos Industriais)\n",
       "GO                            (GO, Agropecuária)\n",
       "MA      (MA, Mudança de Uso da Terra e Floresta)\n",
       "MG                            (MG, Agropecuária)\n",
       "MS      (MS, Mudança de Uso da Terra e Floresta)\n",
       "MT      (MT, Mudança de Uso da Terra e Floresta)\n",
       "PA      (PA, Mudança de Uso da Terra e Floresta)\n",
       "PB                            (PB, Agropecuária)\n",
       "PE                                 (PE, Energia)\n",
       "PI      (PI, Mudança de Uso da Terra e Floresta)\n",
       "PR                            (PR, Agropecuária)\n",
       "RJ                                 (RJ, Energia)\n",
       "RN                                 (RN, Energia)\n",
       "RO      (RO, Mudança de Uso da Terra e Floresta)\n",
       "RR      (RR, Mudança de Uso da Terra e Floresta)\n",
       "RS                            (RS, Agropecuária)\n",
       "SC                                 (SC, Energia)\n",
       "SE                                 (SE, Energia)\n",
       "SP                                 (SP, Energia)\n",
       "TO      (TO, Mudança de Uso da Terra e Floresta)"
      ]
     },
     "execution_count": 60,
     "metadata": {},
     "output_type": "execute_result"
    }
   ],
   "source": [
    "states_sector_emission.groupby(level=0)[['Emissão']].idxmax()"
   ]
  },
  {
   "cell_type": "markdown",
   "metadata": {},
   "source": [
    "## 5. Obtain a table containing the State with maximum emission from each economic activity."
   ]
  },
  {
   "cell_type": "code",
   "execution_count": 61,
   "metadata": {},
   "outputs": [
    {
     "data": {
      "text/html": [
       "<div>\n",
       "<style scoped>\n",
       "    .dataframe tbody tr th:only-of-type {\n",
       "        vertical-align: middle;\n",
       "    }\n",
       "\n",
       "    .dataframe tbody tr th {\n",
       "        vertical-align: top;\n",
       "    }\n",
       "\n",
       "    .dataframe thead th {\n",
       "        text-align: right;\n",
       "    }\n",
       "</style>\n",
       "<table border=\"1\" class=\"dataframe\">\n",
       "  <thead>\n",
       "    <tr style=\"text-align: right;\">\n",
       "      <th></th>\n",
       "      <th>Emissão</th>\n",
       "    </tr>\n",
       "    <tr>\n",
       "      <th>Nível 1 - Setor</th>\n",
       "      <th></th>\n",
       "    </tr>\n",
       "  </thead>\n",
       "  <tbody>\n",
       "    <tr>\n",
       "      <th>Agropecuária</th>\n",
       "      <td>(MG, Agropecuária)</td>\n",
       "    </tr>\n",
       "    <tr>\n",
       "      <th>Energia</th>\n",
       "      <td>(SP, Energia)</td>\n",
       "    </tr>\n",
       "    <tr>\n",
       "      <th>Mudança de Uso da Terra e Floresta</th>\n",
       "      <td>(PA, Mudança de Uso da Terra e Floresta)</td>\n",
       "    </tr>\n",
       "    <tr>\n",
       "      <th>Processos Industriais</th>\n",
       "      <td>(MG, Processos Industriais)</td>\n",
       "    </tr>\n",
       "    <tr>\n",
       "      <th>Resíduos</th>\n",
       "      <td>(SP, Resíduos )</td>\n",
       "    </tr>\n",
       "  </tbody>\n",
       "</table>\n",
       "</div>"
      ],
      "text/plain": [
       "                                                                     Emissão\n",
       "Nível 1 - Setor                                                             \n",
       "Agropecuária                                              (MG, Agropecuária)\n",
       "Energia                                                        (SP, Energia)\n",
       "Mudança de Uso da Terra e Floresta  (PA, Mudança de Uso da Terra e Floresta)\n",
       "Processos Industriais                            (MG, Processos Industriais)\n",
       "Resíduos                                                     (SP, Resíduos )"
      ]
     },
     "execution_count": 61,
     "metadata": {},
     "output_type": "execute_result"
    }
   ],
   "source": [
    "states_sector_emission.groupby(level = 1).idxmax()"
   ]
  },
  {
   "cell_type": "markdown",
   "metadata": {},
   "source": [
    "# Emission per capita\n"
   ]
  },
  {
   "cell_type": "markdown",
   "metadata": {},
   "source": [
    "### Reading and transforming another dataset"
   ]
  },
  {
   "cell_type": "markdown",
   "metadata": {},
   "source": [
    "We will calculate the emission per capita to each State."
   ]
  },
  {
   "cell_type": "code",
   "execution_count": 62,
   "metadata": {},
   "outputs": [
    {
     "data": {
      "text/html": [
       "<div>\n",
       "<style scoped>\n",
       "    .dataframe tbody tr th:only-of-type {\n",
       "        vertical-align: middle;\n",
       "    }\n",
       "\n",
       "    .dataframe tbody tr th {\n",
       "        vertical-align: top;\n",
       "    }\n",
       "\n",
       "    .dataframe thead th {\n",
       "        text-align: right;\n",
       "    }\n",
       "</style>\n",
       "<table border=\"1\" class=\"dataframe\">\n",
       "  <thead>\n",
       "    <tr style=\"text-align: right;\">\n",
       "      <th></th>\n",
       "      <th>UF</th>\n",
       "      <th>COD. UF</th>\n",
       "      <th>COD. MUNIC</th>\n",
       "      <th>NOME DO MUNICÍPIO</th>\n",
       "      <th>POPULAÇÃO</th>\n",
       "    </tr>\n",
       "  </thead>\n",
       "  <tbody>\n",
       "    <tr>\n",
       "      <th>0</th>\n",
       "      <td>RO</td>\n",
       "      <td>11</td>\n",
       "      <td>15</td>\n",
       "      <td>Alta Floresta D'Oeste</td>\n",
       "      <td>21558</td>\n",
       "    </tr>\n",
       "    <tr>\n",
       "      <th>1</th>\n",
       "      <td>RO</td>\n",
       "      <td>11</td>\n",
       "      <td>23</td>\n",
       "      <td>Ariquemes</td>\n",
       "      <td>100896</td>\n",
       "    </tr>\n",
       "    <tr>\n",
       "      <th>2</th>\n",
       "      <td>RO</td>\n",
       "      <td>11</td>\n",
       "      <td>31</td>\n",
       "      <td>Cabixi</td>\n",
       "      <td>5107</td>\n",
       "    </tr>\n",
       "    <tr>\n",
       "      <th>3</th>\n",
       "      <td>RO</td>\n",
       "      <td>11</td>\n",
       "      <td>49</td>\n",
       "      <td>Cacoal</td>\n",
       "      <td>92202</td>\n",
       "    </tr>\n",
       "    <tr>\n",
       "      <th>4</th>\n",
       "      <td>RO</td>\n",
       "      <td>11</td>\n",
       "      <td>56</td>\n",
       "      <td>Cerejeiras</td>\n",
       "      <td>15237</td>\n",
       "    </tr>\n",
       "  </tbody>\n",
       "</table>\n",
       "</div>"
      ],
      "text/plain": [
       "   UF  COD. UF  COD. MUNIC      NOME DO MUNICÍPIO POPULAÇÃO\n",
       "0  RO       11          15  Alta Floresta D'Oeste     21558\n",
       "1  RO       11          23              Ariquemes    100896\n",
       "2  RO       11          31                 Cabixi      5107\n",
       "3  RO       11          49                 Cacoal     92202\n",
       "4  RO       11          56             Cerejeiras     15237"
      ]
     },
     "execution_count": 62,
     "metadata": {},
     "output_type": "execute_result"
    }
   ],
   "source": [
    "file_2 = 'POP2022_Municipios.xls'\n",
    "population_data = pd.read_excel(file_2, skiprows=1, skipfooter= 34)\n",
    "population_data.head()"
   ]
  },
  {
   "cell_type": "code",
   "execution_count": 63,
   "metadata": {},
   "outputs": [
    {
     "name": "stdout",
     "output_type": "stream",
     "text": [
      "<class 'pandas.core.frame.DataFrame'>\n",
      "RangeIndex: 5570 entries, 0 to 5569\n",
      "Data columns (total 5 columns):\n",
      " #   Column             Non-Null Count  Dtype \n",
      "---  ------             --------------  ----- \n",
      " 0   UF                 5570 non-null   object\n",
      " 1   COD. UF            5570 non-null   int64 \n",
      " 2   COD. MUNIC         5570 non-null   int64 \n",
      " 3   NOME DO MUNICÍPIO  5570 non-null   object\n",
      " 4   POPULAÇÃO          5570 non-null   object\n",
      "dtypes: int64(2), object(3)\n",
      "memory usage: 217.7+ KB\n"
     ]
    }
   ],
   "source": [
    "population_data.info()"
   ]
  },
  {
   "cell_type": "code",
   "execution_count": 64,
   "metadata": {},
   "outputs": [
    {
     "data": {
      "text/html": [
       "<div>\n",
       "<style scoped>\n",
       "    .dataframe tbody tr th:only-of-type {\n",
       "        vertical-align: middle;\n",
       "    }\n",
       "\n",
       "    .dataframe tbody tr th {\n",
       "        vertical-align: top;\n",
       "    }\n",
       "\n",
       "    .dataframe thead th {\n",
       "        text-align: right;\n",
       "    }\n",
       "</style>\n",
       "<table border=\"1\" class=\"dataframe\">\n",
       "  <thead>\n",
       "    <tr style=\"text-align: right;\">\n",
       "      <th></th>\n",
       "      <th>POPULAÇÃO</th>\n",
       "    </tr>\n",
       "  </thead>\n",
       "  <tbody>\n",
       "    <tr>\n",
       "      <th>16</th>\n",
       "      <td>461.748</td>\n",
       "    </tr>\n",
       "    <tr>\n",
       "      <th>74</th>\n",
       "      <td>15.916</td>\n",
       "    </tr>\n",
       "    <tr>\n",
       "      <th>81</th>\n",
       "      <td>18.399</td>\n",
       "    </tr>\n",
       "    <tr>\n",
       "      <th>83</th>\n",
       "      <td>37.436</td>\n",
       "    </tr>\n",
       "    <tr>\n",
       "      <th>87</th>\n",
       "      <td>33.209</td>\n",
       "    </tr>\n",
       "    <tr>\n",
       "      <th>88</th>\n",
       "      <td>13.851</td>\n",
       "    </tr>\n",
       "    <tr>\n",
       "      <th>97</th>\n",
       "      <td>27.692</td>\n",
       "    </tr>\n",
       "    <tr>\n",
       "      <th>98</th>\n",
       "      <td>13.809</td>\n",
       "    </tr>\n",
       "    <tr>\n",
       "      <th>99</th>\n",
       "      <td>59.504</td>\n",
       "    </tr>\n",
       "    <tr>\n",
       "      <th>103</th>\n",
       "      <td>10.783</td>\n",
       "    </tr>\n",
       "    <tr>\n",
       "      <th>104</th>\n",
       "      <td>10.183</td>\n",
       "    </tr>\n",
       "    <tr>\n",
       "      <th>105</th>\n",
       "      <td>9.281</td>\n",
       "    </tr>\n",
       "    <tr>\n",
       "      <th>107</th>\n",
       "      <td>25.048</td>\n",
       "    </tr>\n",
       "    <tr>\n",
       "      <th>108</th>\n",
       "      <td>47.003</td>\n",
       "    </tr>\n",
       "    <tr>\n",
       "      <th>109</th>\n",
       "      <td>102.736</td>\n",
       "    </tr>\n",
       "    <tr>\n",
       "      <th>117</th>\n",
       "      <td>15.819</td>\n",
       "    </tr>\n",
       "    <tr>\n",
       "      <th>119</th>\n",
       "      <td>96.251</td>\n",
       "    </tr>\n",
       "    <tr>\n",
       "      <th>120</th>\n",
       "      <td>20.351</td>\n",
       "    </tr>\n",
       "    <tr>\n",
       "      <th>123</th>\n",
       "      <td>14.305</td>\n",
       "    </tr>\n",
       "    <tr>\n",
       "      <th>129</th>\n",
       "      <td>66.837</td>\n",
       "    </tr>\n",
       "    <tr>\n",
       "      <th>134</th>\n",
       "      <td>18.582</td>\n",
       "    </tr>\n",
       "    <tr>\n",
       "      <th>135</th>\n",
       "      <td>24.017</td>\n",
       "    </tr>\n",
       "    <tr>\n",
       "      <th>210</th>\n",
       "      <td>24.742</td>\n",
       "    </tr>\n",
       "    <tr>\n",
       "      <th>579</th>\n",
       "      <td>145.752</td>\n",
       "    </tr>\n",
       "    <tr>\n",
       "      <th>1526</th>\n",
       "      <td>15.040</td>\n",
       "    </tr>\n",
       "    <tr>\n",
       "      <th>1937</th>\n",
       "      <td>17.000</td>\n",
       "    </tr>\n",
       "    <tr>\n",
       "      <th>1973</th>\n",
       "      <td>10.426</td>\n",
       "    </tr>\n",
       "    <tr>\n",
       "      <th>2159</th>\n",
       "      <td>10.303</td>\n",
       "    </tr>\n",
       "    <tr>\n",
       "      <th>4215</th>\n",
       "      <td>13.053</td>\n",
       "    </tr>\n",
       "    <tr>\n",
       "      <th>5509</th>\n",
       "      <td>108.846</td>\n",
       "    </tr>\n",
       "  </tbody>\n",
       "</table>\n",
       "</div>"
      ],
      "text/plain": [
       "     POPULAÇÃO\n",
       "16     461.748\n",
       "74      15.916\n",
       "81      18.399\n",
       "83      37.436\n",
       "87      33.209\n",
       "88      13.851\n",
       "97      27.692\n",
       "98      13.809\n",
       "99      59.504\n",
       "103     10.783\n",
       "104     10.183\n",
       "105      9.281\n",
       "107     25.048\n",
       "108     47.003\n",
       "109    102.736\n",
       "117     15.819\n",
       "119     96.251\n",
       "120     20.351\n",
       "123     14.305\n",
       "129     66.837\n",
       "134     18.582\n",
       "135     24.017\n",
       "210     24.742\n",
       "579    145.752\n",
       "1526    15.040\n",
       "1937    17.000\n",
       "1973    10.426\n",
       "2159    10.303\n",
       "4215    13.053\n",
       "5509   108.846"
      ]
     },
     "execution_count": 64,
     "metadata": {},
     "output_type": "execute_result"
    }
   ],
   "source": [
    "population_data[population_data['POPULAÇÃO'].str.contains('\\(', na=False)][['POPULAÇÃO']].replace('\\(\\d{1,3}\\)','' ,regex=True)"
   ]
  },
  {
   "cell_type": "code",
   "execution_count": 65,
   "metadata": {},
   "outputs": [],
   "source": [
    "population_data['POPULAÇÃO'] = population_data['POPULAÇÃO'].replace('\\(\\d{1,3}\\)','' ,regex=True)"
   ]
  },
  {
   "cell_type": "code",
   "execution_count": 66,
   "metadata": {},
   "outputs": [],
   "source": [
    "population_data['POPULAÇÃO'] = population_data['POPULAÇÃO'].replace('\\.','', regex=True)"
   ]
  },
  {
   "cell_type": "code",
   "execution_count": 67,
   "metadata": {},
   "outputs": [
    {
     "data": {
      "text/plain": [
       "0"
      ]
     },
     "execution_count": 67,
     "metadata": {},
     "output_type": "execute_result"
    }
   ],
   "source": [
    "population_data['POPULAÇÃO'].str.contains('\\.').sum()"
   ]
  },
  {
   "cell_type": "code",
   "execution_count": 68,
   "metadata": {},
   "outputs": [],
   "source": [
    "population_data['POPULAÇÃO'] = population_data['POPULAÇÃO'].astype('int64')"
   ]
  },
  {
   "cell_type": "code",
   "execution_count": 69,
   "metadata": {},
   "outputs": [
    {
     "data": {
      "text/html": [
       "<div>\n",
       "<style scoped>\n",
       "    .dataframe tbody tr th:only-of-type {\n",
       "        vertical-align: middle;\n",
       "    }\n",
       "\n",
       "    .dataframe tbody tr th {\n",
       "        vertical-align: top;\n",
       "    }\n",
       "\n",
       "    .dataframe thead th {\n",
       "        text-align: right;\n",
       "    }\n",
       "</style>\n",
       "<table border=\"1\" class=\"dataframe\">\n",
       "  <thead>\n",
       "    <tr style=\"text-align: right;\">\n",
       "      <th></th>\n",
       "      <th>UF</th>\n",
       "      <th>POPULAÇÃO</th>\n",
       "    </tr>\n",
       "  </thead>\n",
       "  <tbody>\n",
       "    <tr>\n",
       "      <th>0</th>\n",
       "      <td>AC</td>\n",
       "      <td>829780</td>\n",
       "    </tr>\n",
       "    <tr>\n",
       "      <th>1</th>\n",
       "      <td>AL</td>\n",
       "      <td>3125254</td>\n",
       "    </tr>\n",
       "    <tr>\n",
       "      <th>2</th>\n",
       "      <td>AM</td>\n",
       "      <td>3952262</td>\n",
       "    </tr>\n",
       "    <tr>\n",
       "      <th>3</th>\n",
       "      <td>AP</td>\n",
       "      <td>774268</td>\n",
       "    </tr>\n",
       "    <tr>\n",
       "      <th>4</th>\n",
       "      <td>BA</td>\n",
       "      <td>14659023</td>\n",
       "    </tr>\n",
       "    <tr>\n",
       "      <th>5</th>\n",
       "      <td>CE</td>\n",
       "      <td>8936431</td>\n",
       "    </tr>\n",
       "    <tr>\n",
       "      <th>6</th>\n",
       "      <td>DF</td>\n",
       "      <td>2923369</td>\n",
       "    </tr>\n",
       "    <tr>\n",
       "      <th>7</th>\n",
       "      <td>ES</td>\n",
       "      <td>3975100</td>\n",
       "    </tr>\n",
       "    <tr>\n",
       "      <th>8</th>\n",
       "      <td>GO</td>\n",
       "      <td>6950976</td>\n",
       "    </tr>\n",
       "    <tr>\n",
       "      <th>9</th>\n",
       "      <td>MA</td>\n",
       "      <td>6800605</td>\n",
       "    </tr>\n",
       "    <tr>\n",
       "      <th>10</th>\n",
       "      <td>MG</td>\n",
       "      <td>20732660</td>\n",
       "    </tr>\n",
       "    <tr>\n",
       "      <th>11</th>\n",
       "      <td>MS</td>\n",
       "      <td>2833742</td>\n",
       "    </tr>\n",
       "    <tr>\n",
       "      <th>12</th>\n",
       "      <td>MT</td>\n",
       "      <td>3784239</td>\n",
       "    </tr>\n",
       "    <tr>\n",
       "      <th>13</th>\n",
       "      <td>PA</td>\n",
       "      <td>8442962</td>\n",
       "    </tr>\n",
       "    <tr>\n",
       "      <th>14</th>\n",
       "      <td>PB</td>\n",
       "      <td>4030961</td>\n",
       "    </tr>\n",
       "    <tr>\n",
       "      <th>15</th>\n",
       "      <td>PE</td>\n",
       "      <td>9051113</td>\n",
       "    </tr>\n",
       "    <tr>\n",
       "      <th>16</th>\n",
       "      <td>PI</td>\n",
       "      <td>3270174</td>\n",
       "    </tr>\n",
       "    <tr>\n",
       "      <th>17</th>\n",
       "      <td>PR</td>\n",
       "      <td>11835379</td>\n",
       "    </tr>\n",
       "    <tr>\n",
       "      <th>18</th>\n",
       "      <td>RJ</td>\n",
       "      <td>16615526</td>\n",
       "    </tr>\n",
       "    <tr>\n",
       "      <th>19</th>\n",
       "      <td>RN</td>\n",
       "      <td>3303953</td>\n",
       "    </tr>\n",
       "    <tr>\n",
       "      <th>20</th>\n",
       "      <td>RO</td>\n",
       "      <td>1616379</td>\n",
       "    </tr>\n",
       "    <tr>\n",
       "      <th>21</th>\n",
       "      <td>RR</td>\n",
       "      <td>634805</td>\n",
       "    </tr>\n",
       "    <tr>\n",
       "      <th>22</th>\n",
       "      <td>RS</td>\n",
       "      <td>11088065</td>\n",
       "    </tr>\n",
       "    <tr>\n",
       "      <th>23</th>\n",
       "      <td>SC</td>\n",
       "      <td>7762154</td>\n",
       "    </tr>\n",
       "    <tr>\n",
       "      <th>24</th>\n",
       "      <td>SE</td>\n",
       "      <td>2211868</td>\n",
       "    </tr>\n",
       "    <tr>\n",
       "      <th>25</th>\n",
       "      <td>SP</td>\n",
       "      <td>46024937</td>\n",
       "    </tr>\n",
       "    <tr>\n",
       "      <th>26</th>\n",
       "      <td>TO</td>\n",
       "      <td>1584306</td>\n",
       "    </tr>\n",
       "  </tbody>\n",
       "</table>\n",
       "</div>"
      ],
      "text/plain": [
       "    UF  POPULAÇÃO\n",
       "0   AC     829780\n",
       "1   AL    3125254\n",
       "2   AM    3952262\n",
       "3   AP     774268\n",
       "4   BA   14659023\n",
       "5   CE    8936431\n",
       "6   DF    2923369\n",
       "7   ES    3975100\n",
       "8   GO    6950976\n",
       "9   MA    6800605\n",
       "10  MG   20732660\n",
       "11  MS    2833742\n",
       "12  MT    3784239\n",
       "13  PA    8442962\n",
       "14  PB    4030961\n",
       "15  PE    9051113\n",
       "16  PI    3270174\n",
       "17  PR   11835379\n",
       "18  RJ   16615526\n",
       "19  RN    3303953\n",
       "20  RO    1616379\n",
       "21  RR     634805\n",
       "22  RS   11088065\n",
       "23  SC    7762154\n",
       "24  SE    2211868\n",
       "25  SP   46024937\n",
       "26  TO    1584306"
      ]
     },
     "execution_count": 69,
     "metadata": {},
     "output_type": "execute_result"
    }
   ],
   "source": [
    "states_population = population_data.groupby(\"UF\")['POPULAÇÃO'].sum().reset_index()\n",
    "states_population"
   ]
  },
  {
   "cell_type": "markdown",
   "metadata": {},
   "source": [
    "### Mergin these two datasets"
   ]
  },
  {
   "cell_type": "code",
   "execution_count": 70,
   "metadata": {},
   "outputs": [
    {
     "name": "stderr",
     "output_type": "stream",
     "text": [
      "C:\\Users\\63\\AppData\\Local\\Temp\\ipykernel_16124\\1056294776.py:1: FutureWarning: The default value of numeric_only in DataFrameGroupBy.sum is deprecated. In a future version, numeric_only will default to False. Either specify numeric_only or select only columns which should be valid for the function.\n",
      "  states_emission = yearly_emission[yearly_emission['Ano'] == 2021].groupby('Estado').sum()\n"
     ]
    },
    {
     "data": {
      "text/html": [
       "<div>\n",
       "<style scoped>\n",
       "    .dataframe tbody tr th:only-of-type {\n",
       "        vertical-align: middle;\n",
       "    }\n",
       "\n",
       "    .dataframe tbody tr th {\n",
       "        vertical-align: top;\n",
       "    }\n",
       "\n",
       "    .dataframe thead th {\n",
       "        text-align: right;\n",
       "    }\n",
       "</style>\n",
       "<table border=\"1\" class=\"dataframe\">\n",
       "  <thead>\n",
       "    <tr style=\"text-align: right;\">\n",
       "      <th></th>\n",
       "      <th>Emissão</th>\n",
       "    </tr>\n",
       "    <tr>\n",
       "      <th>Estado</th>\n",
       "      <th></th>\n",
       "    </tr>\n",
       "  </thead>\n",
       "  <tbody>\n",
       "    <tr>\n",
       "      <th>AC</th>\n",
       "      <td>3.505471e+08</td>\n",
       "    </tr>\n",
       "    <tr>\n",
       "      <th>AL</th>\n",
       "      <td>6.261279e+07</td>\n",
       "    </tr>\n",
       "    <tr>\n",
       "      <th>AM</th>\n",
       "      <td>1.189649e+09</td>\n",
       "    </tr>\n",
       "    <tr>\n",
       "      <th>AP</th>\n",
       "      <td>3.568410e+07</td>\n",
       "    </tr>\n",
       "    <tr>\n",
       "      <th>BA</th>\n",
       "      <td>5.932251e+08</td>\n",
       "    </tr>\n",
       "    <tr>\n",
       "      <th>CE</th>\n",
       "      <td>2.034731e+08</td>\n",
       "    </tr>\n",
       "    <tr>\n",
       "      <th>DF</th>\n",
       "      <td>5.668738e+07</td>\n",
       "    </tr>\n",
       "    <tr>\n",
       "      <th>ES</th>\n",
       "      <td>2.697547e+08</td>\n",
       "    </tr>\n",
       "    <tr>\n",
       "      <th>GO</th>\n",
       "      <td>6.008081e+08</td>\n",
       "    </tr>\n",
       "    <tr>\n",
       "      <th>MA</th>\n",
       "      <td>9.476324e+08</td>\n",
       "    </tr>\n",
       "    <tr>\n",
       "      <th>MG</th>\n",
       "      <td>1.250651e+09</td>\n",
       "    </tr>\n",
       "    <tr>\n",
       "      <th>MS</th>\n",
       "      <td>5.551278e+08</td>\n",
       "    </tr>\n",
       "    <tr>\n",
       "      <th>MT</th>\n",
       "      <td>2.081610e+09</td>\n",
       "    </tr>\n",
       "    <tr>\n",
       "      <th>PA</th>\n",
       "      <td>3.701684e+09</td>\n",
       "    </tr>\n",
       "    <tr>\n",
       "      <th>PB</th>\n",
       "      <td>9.532504e+07</td>\n",
       "    </tr>\n",
       "    <tr>\n",
       "      <th>PE</th>\n",
       "      <td>1.836077e+08</td>\n",
       "    </tr>\n",
       "    <tr>\n",
       "      <th>PI</th>\n",
       "      <td>1.146881e+08</td>\n",
       "    </tr>\n",
       "    <tr>\n",
       "      <th>PR</th>\n",
       "      <td>6.567685e+08</td>\n",
       "    </tr>\n",
       "    <tr>\n",
       "      <th>RJ</th>\n",
       "      <td>5.767137e+08</td>\n",
       "    </tr>\n",
       "    <tr>\n",
       "      <th>RN</th>\n",
       "      <td>7.223838e+07</td>\n",
       "    </tr>\n",
       "    <tr>\n",
       "      <th>RO</th>\n",
       "      <td>1.083515e+09</td>\n",
       "    </tr>\n",
       "    <tr>\n",
       "      <th>RR</th>\n",
       "      <td>5.282071e+08</td>\n",
       "    </tr>\n",
       "    <tr>\n",
       "      <th>RS</th>\n",
       "      <td>7.814643e+08</td>\n",
       "    </tr>\n",
       "    <tr>\n",
       "      <th>SC</th>\n",
       "      <td>4.484010e+08</td>\n",
       "    </tr>\n",
       "    <tr>\n",
       "      <th>SE</th>\n",
       "      <td>8.118973e+07</td>\n",
       "    </tr>\n",
       "    <tr>\n",
       "      <th>SP</th>\n",
       "      <td>1.223309e+09</td>\n",
       "    </tr>\n",
       "    <tr>\n",
       "      <th>TO</th>\n",
       "      <td>4.082159e+08</td>\n",
       "    </tr>\n",
       "  </tbody>\n",
       "</table>\n",
       "</div>"
      ],
      "text/plain": [
       "             Emissão\n",
       "Estado              \n",
       "AC      3.505471e+08\n",
       "AL      6.261279e+07\n",
       "AM      1.189649e+09\n",
       "AP      3.568410e+07\n",
       "BA      5.932251e+08\n",
       "CE      2.034731e+08\n",
       "DF      5.668738e+07\n",
       "ES      2.697547e+08\n",
       "GO      6.008081e+08\n",
       "MA      9.476324e+08\n",
       "MG      1.250651e+09\n",
       "MS      5.551278e+08\n",
       "MT      2.081610e+09\n",
       "PA      3.701684e+09\n",
       "PB      9.532504e+07\n",
       "PE      1.836077e+08\n",
       "PI      1.146881e+08\n",
       "PR      6.567685e+08\n",
       "RJ      5.767137e+08\n",
       "RN      7.223838e+07\n",
       "RO      1.083515e+09\n",
       "RR      5.282071e+08\n",
       "RS      7.814643e+08\n",
       "SC      4.484010e+08\n",
       "SE      8.118973e+07\n",
       "SP      1.223309e+09\n",
       "TO      4.082159e+08"
      ]
     },
     "execution_count": 70,
     "metadata": {},
     "output_type": "execute_result"
    }
   ],
   "source": [
    "states_emission = yearly_emission[yearly_emission['Ano'] == 2021].groupby('Estado').sum()\n",
    "states_emission"
   ]
  },
  {
   "cell_type": "code",
   "execution_count": 71,
   "metadata": {},
   "outputs": [],
   "source": [
    "emission_per_capita = states_emission.merge(states_population, left_index = True, right_on = 'UF')\n",
    "emission_per_capita = emission_per_capita.set_index('UF')\n"
   ]
  },
  {
   "cell_type": "code",
   "execution_count": 72,
   "metadata": {},
   "outputs": [],
   "source": [
    "columns_name = {'Emissão': 'Emission', 'POPULAÇÃO': 'Population'}\n",
    "emission_per_capita = emission_per_capita.rename(columns = columns_name)"
   ]
  },
  {
   "cell_type": "code",
   "execution_count": 73,
   "metadata": {},
   "outputs": [],
   "source": [
    "emission_per_capita['per_capita'] = emission_per_capita.Emission / emission_per_capita.Population"
   ]
  },
  {
   "cell_type": "code",
   "execution_count": 74,
   "metadata": {},
   "outputs": [
    {
     "data": {
      "text/html": [
       "<div>\n",
       "<style scoped>\n",
       "    .dataframe tbody tr th:only-of-type {\n",
       "        vertical-align: middle;\n",
       "    }\n",
       "\n",
       "    .dataframe tbody tr th {\n",
       "        vertical-align: top;\n",
       "    }\n",
       "\n",
       "    .dataframe thead th {\n",
       "        text-align: right;\n",
       "    }\n",
       "</style>\n",
       "<table border=\"1\" class=\"dataframe\">\n",
       "  <thead>\n",
       "    <tr style=\"text-align: right;\">\n",
       "      <th></th>\n",
       "      <th>Emission</th>\n",
       "      <th>Population</th>\n",
       "      <th>per_capita</th>\n",
       "    </tr>\n",
       "    <tr>\n",
       "      <th>UF</th>\n",
       "      <th></th>\n",
       "      <th></th>\n",
       "      <th></th>\n",
       "    </tr>\n",
       "  </thead>\n",
       "  <tbody>\n",
       "    <tr>\n",
       "      <th>RR</th>\n",
       "      <td>5.282071e+08</td>\n",
       "      <td>634805</td>\n",
       "      <td>832.077694</td>\n",
       "    </tr>\n",
       "    <tr>\n",
       "      <th>RO</th>\n",
       "      <td>1.083515e+09</td>\n",
       "      <td>1616379</td>\n",
       "      <td>670.334662</td>\n",
       "    </tr>\n",
       "    <tr>\n",
       "      <th>MT</th>\n",
       "      <td>2.081610e+09</td>\n",
       "      <td>3784239</td>\n",
       "      <td>550.073647</td>\n",
       "    </tr>\n",
       "    <tr>\n",
       "      <th>PA</th>\n",
       "      <td>3.701684e+09</td>\n",
       "      <td>8442962</td>\n",
       "      <td>438.434230</td>\n",
       "    </tr>\n",
       "    <tr>\n",
       "      <th>AC</th>\n",
       "      <td>3.505471e+08</td>\n",
       "      <td>829780</td>\n",
       "      <td>422.457928</td>\n",
       "    </tr>\n",
       "    <tr>\n",
       "      <th>AM</th>\n",
       "      <td>1.189649e+09</td>\n",
       "      <td>3952262</td>\n",
       "      <td>301.004463</td>\n",
       "    </tr>\n",
       "    <tr>\n",
       "      <th>TO</th>\n",
       "      <td>4.082159e+08</td>\n",
       "      <td>1584306</td>\n",
       "      <td>257.662300</td>\n",
       "    </tr>\n",
       "    <tr>\n",
       "      <th>MS</th>\n",
       "      <td>5.551278e+08</td>\n",
       "      <td>2833742</td>\n",
       "      <td>195.899220</td>\n",
       "    </tr>\n",
       "    <tr>\n",
       "      <th>MA</th>\n",
       "      <td>9.476324e+08</td>\n",
       "      <td>6800605</td>\n",
       "      <td>139.345312</td>\n",
       "    </tr>\n",
       "    <tr>\n",
       "      <th>GO</th>\n",
       "      <td>6.008081e+08</td>\n",
       "      <td>6950976</td>\n",
       "      <td>86.435075</td>\n",
       "    </tr>\n",
       "    <tr>\n",
       "      <th>RS</th>\n",
       "      <td>7.814643e+08</td>\n",
       "      <td>11088065</td>\n",
       "      <td>70.477968</td>\n",
       "    </tr>\n",
       "    <tr>\n",
       "      <th>ES</th>\n",
       "      <td>2.697547e+08</td>\n",
       "      <td>3975100</td>\n",
       "      <td>67.861099</td>\n",
       "    </tr>\n",
       "    <tr>\n",
       "      <th>MG</th>\n",
       "      <td>1.250651e+09</td>\n",
       "      <td>20732660</td>\n",
       "      <td>60.322765</td>\n",
       "    </tr>\n",
       "    <tr>\n",
       "      <th>SC</th>\n",
       "      <td>4.484010e+08</td>\n",
       "      <td>7762154</td>\n",
       "      <td>57.767604</td>\n",
       "    </tr>\n",
       "    <tr>\n",
       "      <th>PR</th>\n",
       "      <td>6.567685e+08</td>\n",
       "      <td>11835379</td>\n",
       "      <td>55.491969</td>\n",
       "    </tr>\n",
       "    <tr>\n",
       "      <th>AP</th>\n",
       "      <td>3.568410e+07</td>\n",
       "      <td>774268</td>\n",
       "      <td>46.087533</td>\n",
       "    </tr>\n",
       "    <tr>\n",
       "      <th>BA</th>\n",
       "      <td>5.932251e+08</td>\n",
       "      <td>14659023</td>\n",
       "      <td>40.468254</td>\n",
       "    </tr>\n",
       "    <tr>\n",
       "      <th>SE</th>\n",
       "      <td>8.118973e+07</td>\n",
       "      <td>2211868</td>\n",
       "      <td>36.706409</td>\n",
       "    </tr>\n",
       "    <tr>\n",
       "      <th>PI</th>\n",
       "      <td>1.146881e+08</td>\n",
       "      <td>3270174</td>\n",
       "      <td>35.070942</td>\n",
       "    </tr>\n",
       "    <tr>\n",
       "      <th>RJ</th>\n",
       "      <td>5.767137e+08</td>\n",
       "      <td>16615526</td>\n",
       "      <td>34.709328</td>\n",
       "    </tr>\n",
       "    <tr>\n",
       "      <th>SP</th>\n",
       "      <td>1.223309e+09</td>\n",
       "      <td>46024937</td>\n",
       "      <td>26.579272</td>\n",
       "    </tr>\n",
       "    <tr>\n",
       "      <th>PB</th>\n",
       "      <td>9.532504e+07</td>\n",
       "      <td>4030961</td>\n",
       "      <td>23.648218</td>\n",
       "    </tr>\n",
       "    <tr>\n",
       "      <th>CE</th>\n",
       "      <td>2.034731e+08</td>\n",
       "      <td>8936431</td>\n",
       "      <td>22.768949</td>\n",
       "    </tr>\n",
       "    <tr>\n",
       "      <th>RN</th>\n",
       "      <td>7.223838e+07</td>\n",
       "      <td>3303953</td>\n",
       "      <td>21.864227</td>\n",
       "    </tr>\n",
       "    <tr>\n",
       "      <th>PE</th>\n",
       "      <td>1.836077e+08</td>\n",
       "      <td>9051113</td>\n",
       "      <td>20.285646</td>\n",
       "    </tr>\n",
       "    <tr>\n",
       "      <th>AL</th>\n",
       "      <td>6.261279e+07</td>\n",
       "      <td>3125254</td>\n",
       "      <td>20.034465</td>\n",
       "    </tr>\n",
       "    <tr>\n",
       "      <th>DF</th>\n",
       "      <td>5.668738e+07</td>\n",
       "      <td>2923369</td>\n",
       "      <td>19.391113</td>\n",
       "    </tr>\n",
       "  </tbody>\n",
       "</table>\n",
       "</div>"
      ],
      "text/plain": [
       "        Emission  Population  per_capita\n",
       "UF                                      \n",
       "RR  5.282071e+08      634805  832.077694\n",
       "RO  1.083515e+09     1616379  670.334662\n",
       "MT  2.081610e+09     3784239  550.073647\n",
       "PA  3.701684e+09     8442962  438.434230\n",
       "AC  3.505471e+08      829780  422.457928\n",
       "AM  1.189649e+09     3952262  301.004463\n",
       "TO  4.082159e+08     1584306  257.662300\n",
       "MS  5.551278e+08     2833742  195.899220\n",
       "MA  9.476324e+08     6800605  139.345312\n",
       "GO  6.008081e+08     6950976   86.435075\n",
       "RS  7.814643e+08    11088065   70.477968\n",
       "ES  2.697547e+08     3975100   67.861099\n",
       "MG  1.250651e+09    20732660   60.322765\n",
       "SC  4.484010e+08     7762154   57.767604\n",
       "PR  6.567685e+08    11835379   55.491969\n",
       "AP  3.568410e+07      774268   46.087533\n",
       "BA  5.932251e+08    14659023   40.468254\n",
       "SE  8.118973e+07     2211868   36.706409\n",
       "PI  1.146881e+08     3270174   35.070942\n",
       "RJ  5.767137e+08    16615526   34.709328\n",
       "SP  1.223309e+09    46024937   26.579272\n",
       "PB  9.532504e+07     4030961   23.648218\n",
       "CE  2.034731e+08     8936431   22.768949\n",
       "RN  7.223838e+07     3303953   21.864227\n",
       "PE  1.836077e+08     9051113   20.285646\n",
       "AL  6.261279e+07     3125254   20.034465\n",
       "DF  5.668738e+07     2923369   19.391113"
      ]
     },
     "execution_count": 74,
     "metadata": {},
     "output_type": "execute_result"
    }
   ],
   "source": [
    "emission_per_capita.sort_values(ascending=False, by='per_capita')"
   ]
  },
  {
   "cell_type": "code",
   "execution_count": 75,
   "metadata": {},
   "outputs": [
    {
     "data": {
      "image/png": "[encoded data removed]",
      "text/plain": [
       "<Figure size 1000x600 with 1 Axes>"
      ]
     },
     "metadata": {},
     "output_type": "display_data"
    }
   ],
   "source": [
    "emission_per_capita.plot(kind = 'scatter', x = 'Population', y = 'Emission', figsize= (10,6));"
   ]
  },
  {
   "cell_type": "code",
   "execution_count": 76,
   "metadata": {},
   "outputs": [
    {
     "data": {
      "application/vnd.plotly.v1+json": {
       "config": {
        "plotlyServerURL": "https://plot.ly"
       },
       "data": [
        {
         "hovertemplate": "Population=%{x}<br>Emission=%{y}<br>per_capita=%{marker.size}<br>UF=%{text}<extra></extra>",
         "legendgroup": "",
         "marker": {
          "color": "#636efa",
          "size": [
           422.4579275370398,
           20.034465228713614,
           301.0044632288073,
           46.087532603687094,
           40.46825413593003,
           22.768948586640104,
           19.39111260820312,
           67.86109868173692,
           86.43507548239398,
           139.34531242052745,
           60.32276495149194,
           195.89922026637495,
           550.0736471069451,
           438.4342303431012,
           23.648217802494976,
           20.285645624817548,
           35.07094201684997,
           55.491968531423005,
           34.70932811721513,
           21.864227233090283,
           670.3346621241423,
           832.0776938664202,
           70.4779679708326,
           57.76760399357466,
           36.706408659781474,
           26.579271957744908,
           257.66230004485175
          ],
          "sizemode": "area",
          "sizeref": 2.0801942346660507,
          "symbol": "circle"
         },
         "mode": "markers+text",
         "name": "",
         "orientation": "v",
         "showlegend": false,
         "text": [
          "AC",
          "AL",
          "AM",
          "AP",
          "BA",
          "CE",
          "DF",
          "ES",
          "GO",
          "MA",
          "MG",
          "MS",
          "MT",
          "PA",
          "PB",
          "PE",
          "PI",
          "PR",
          "RJ",
          "RN",
          "RO",
          "RR",
          "RS",
          "SC",
          "SE",
          "SP",
          "TO"
         ],
         "type": "scatter",
         "x": [
          829780,
          3125254,
          3952262,
          774268,
          14659023,
          8936431,
          2923369,
          3975100,
          6950976,
          6800605,
          20732660,
          2833742,
          3784239,
          8442962,
          4030961,
          9051113,
          3270174,
          11835379,
          16615526,
          3303953,
          1616379,
          634805,
          11088065,
          7762154,
          2211868,
          46024937,
          1584306
         ],
         "xaxis": "x",
         "y": [
          350547139.11168486,
          62612792.59389813,
          1189648501.8496125,
          35684101.6939916,
          593225068.1484435,
          203473137.9870568,
          56687377.47433015,
          269754653.36977243,
          600808135.236309,
          947632428.3736011,
          1250651375.999199,
          555127848.2360779,
          2081610148.254339,
          3701683546.2860503,
          95325043.68136296,
          183607670.82817924,
          114688082.73901032,
          656768479.0254647,
          576713743.774119,
          72238379.15945034,
          1083514870.8295588,
          528207080.45487285,
          781464289.92851,
          448401038.40914154,
          81189730.70949353,
          1223309317.361076,
          408215927.93485886
         ],
         "yaxis": "y"
        }
       ],
       "layout": {
        "legend": {
         "itemsizing": "constant",
         "tracegroupgap": 0
        },
        "margin": {
         "t": 60
        },
        "template": {
         "data": {
          "bar": [
           {
            "error_x": {
             "color": "#2a3f5f"
            },
            "error_y": {
             "color": "#2a3f5f"
            },
            "marker": {
             "line": {
              "color": "#E5ECF6",
              "width": 0.5
             },
             "pattern": {
              "fillmode": "overlay",
              "size": 10,
              "solidity": 0.2
             }
            },
            "type": "bar"
           }
          ],
          "barpolar": [
           {
            "marker": {
             "line": {
              "color": "#E5ECF6",
              "width": 0.5
             },
             "pattern": {
              "fillmode": "overlay",
              "size": 10,
              "solidity": 0.2
             }
            },
            "type": "barpolar"
           }
          ],
          "carpet": [
           {
            "aaxis": {
             "endlinecolor": "#2a3f5f",
             "gridcolor": "white",
             "linecolor": "white",
             "minorgridcolor": "white",
             "startlinecolor": "#2a3f5f"
            },
            "baxis": {
             "endlinecolor": "#2a3f5f",
             "gridcolor": "white",
             "linecolor": "white",
             "minorgridcolor": "white",
             "startlinecolor": "#2a3f5f"
            },
            "type": "carpet"
           }
          ],
          "choropleth": [
           {
            "colorbar": {
             "outlinewidth": 0,
             "ticks": ""
            },
            "type": "choropleth"
           }
          ],
          "contour": [
           {
            "colorbar": {
             "outlinewidth": 0,
             "ticks": ""
            },
            "colorscale": [
             [
              0,
              "#0d0887"
             ],
             [
              0.1111111111111111,
              "#46039f"
             ],
             [
              0.2222222222222222,
              "#7201a8"
             ],
             [
              0.3333333333333333,
              "#9c179e"
             ],
             [
              0.4444444444444444,
              "#bd3786"
             ],
             [
              0.5555555555555556,
              "#d8576b"
             ],
             [
              0.6666666666666666,
              "#ed7953"
             ],
             [
              0.7777777777777778,
              "#fb9f3a"
             ],
             [
              0.8888888888888888,
              "#fdca26"
             ],
             [
              1,
              "#f0f921"
             ]
            ],
            "type": "contour"
           }
          ],
          "contourcarpet": [
           {
            "colorbar": {
             "outlinewidth": 0,
             "ticks": ""
            },
            "type": "contourcarpet"
           }
          ],
          "heatmap": [
           {
            "colorbar": {
             "outlinewidth": 0,
             "ticks": ""
            },
            "colorscale": [
             [
              0,
              "#0d0887"
             ],
             [
              0.1111111111111111,
              "#46039f"
             ],
             [
              0.2222222222222222,
              "#7201a8"
             ],
             [
              0.3333333333333333,
              "#9c179e"
             ],
             [
              0.4444444444444444,
              "#bd3786"
             ],
             [
              0.5555555555555556,
              "#d8576b"
             ],
             [
              0.6666666666666666,
              "#ed7953"
             ],
             [
              0.7777777777777778,
              "#fb9f3a"
             ],
             [
              0.8888888888888888,
              "#fdca26"
             ],
             [
              1,
              "#f0f921"
             ]
            ],
            "type": "heatmap"
           }
          ],
          "heatmapgl": [
           {
            "colorbar": {
             "outlinewidth": 0,
             "ticks": ""
            },
            "colorscale": [
             [
              0,
              "#0d0887"
             ],
             [
              0.1111111111111111,
              "#46039f"
             ],
             [
              0.2222222222222222,
              "#7201a8"
             ],
             [
              0.3333333333333333,
              "#9c179e"
             ],
             [
              0.4444444444444444,
              "#bd3786"
             ],
             [
              0.5555555555555556,
              "#d8576b"
             ],
             [
              0.6666666666666666,
              "#ed7953"
             ],
             [
              0.7777777777777778,
              "#fb9f3a"
             ],
             [
              0.8888888888888888,
              "#fdca26"
             ],
             [
              1,
              "#f0f921"
             ]
            ],
            "type": "heatmapgl"
           }
          ],
          "histogram": [
           {
            "marker": {
             "pattern": {
              "fillmode": "overlay",
              "size": 10,
              "solidity": 0.2
             }
            },
            "type": "histogram"
           }
          ],
          "histogram2d": [
           {
            "colorbar": {
             "outlinewidth": 0,
             "ticks": ""
            },
            "colorscale": [
             [
              0,
              "#0d0887"
             ],
             [
              0.1111111111111111,
              "#46039f"
             ],
             [
              0.2222222222222222,
              "#7201a8"
             ],
             [
              0.3333333333333333,
              "#9c179e"
             ],
             [
              0.4444444444444444,
              "#bd3786"
             ],
             [
              0.5555555555555556,
              "#d8576b"
             ],
             [
              0.6666666666666666,
              "#ed7953"
             ],
             [
              0.7777777777777778,
              "#fb9f3a"
             ],
             [
              0.8888888888888888,
              "#fdca26"
             ],
             [
              1,
              "#f0f921"
             ]
            ],
            "type": "histogram2d"
           }
          ],
          "histogram2dcontour": [
           {
            "colorbar": {
             "outlinewidth": 0,
             "ticks": ""
            },
            "colorscale": [
             [
              0,
              "#0d0887"
             ],
             [
              0.1111111111111111,
              "#46039f"
             ],
             [
              0.2222222222222222,
              "#7201a8"
             ],
             [
              0.3333333333333333,
              "#9c179e"
             ],
             [
              0.4444444444444444,
              "#bd3786"
             ],
             [
              0.5555555555555556,
              "#d8576b"
             ],
             [
              0.6666666666666666,
              "#ed7953"
             ],
             [
              0.7777777777777778,
              "#fb9f3a"
             ],
             [
              0.8888888888888888,
              "#fdca26"
             ],
             [
              1,
              "#f0f921"
             ]
            ],
            "type": "histogram2dcontour"
           }
          ],
          "mesh3d": [
           {
            "colorbar": {
             "outlinewidth": 0,
             "ticks": ""
            },
            "type": "mesh3d"
           }
          ],
          "parcoords": [
           {
            "line": {
             "colorbar": {
              "outlinewidth": 0,
              "ticks": ""
             }
            },
            "type": "parcoords"
           }
          ],
          "pie": [
           {
            "automargin": true,
            "type": "pie"
           }
          ],
          "scatter": [
           {
            "fillpattern": {
             "fillmode": "overlay",
             "size": 10,
             "solidity": 0.2
            },
            "type": "scatter"
           }
          ],
          "scatter3d": [
           {
            "line": {
             "colorbar": {
              "outlinewidth": 0,
              "ticks": ""
             }
            },
            "marker": {
             "colorbar": {
              "outlinewidth": 0,
              "ticks": ""
             }
            },
            "type": "scatter3d"
           }
          ],
          "scattercarpet": [
           {
            "marker": {
             "colorbar": {
              "outlinewidth": 0,
              "ticks": ""
             }
            },
            "type": "scattercarpet"
           }
          ],
          "scattergeo": [
           {
            "marker": {
             "colorbar": {
              "outlinewidth": 0,
              "ticks": ""
             }
            },
            "type": "scattergeo"
           }
          ],
          "scattergl": [
           {
            "marker": {
             "colorbar": {
              "outlinewidth": 0,
              "ticks": ""
             }
            },
            "type": "scattergl"
           }
          ],
          "scattermapbox": [
           {
            "marker": {
             "colorbar": {
              "outlinewidth": 0,
              "ticks": ""
             }
            },
            "type": "scattermapbox"
           }
          ],
          "scatterpolar": [
           {
            "marker": {
             "colorbar": {
              "outlinewidth": 0,
              "ticks": ""
             }
            },
            "type": "scatterpolar"
           }
          ],
          "scatterpolargl": [
           {
            "marker": {
             "colorbar": {
              "outlinewidth": 0,
              "ticks": ""
             }
            },
            "type": "scatterpolargl"
           }
          ],
          "scatterternary": [
           {
            "marker": {
             "colorbar": {
              "outlinewidth": 0,
              "ticks": ""
             }
            },
            "type": "scatterternary"
           }
          ],
          "surface": [
           {
            "colorbar": {
             "outlinewidth": 0,
             "ticks": ""
            },
            "colorscale": [
             [
              0,
              "#0d0887"
             ],
             [
              0.1111111111111111,
              "#46039f"
             ],
             [
              0.2222222222222222,
              "#7201a8"
             ],
             [
              0.3333333333333333,
              "#9c179e"
             ],
             [
              0.4444444444444444,
              "#bd3786"
             ],
             [
              0.5555555555555556,
              "#d8576b"
             ],
             [
              0.6666666666666666,
              "#ed7953"
             ],
             [
              0.7777777777777778,
              "#fb9f3a"
             ],
             [
              0.8888888888888888,
              "#fdca26"
             ],
             [
              1,
              "#f0f921"
             ]
            ],
            "type": "surface"
           }
          ],
          "table": [
           {
            "cells": {
             "fill": {
              "color": "#EBF0F8"
             },
             "line": {
              "color": "white"
             }
            },
            "header": {
             "fill": {
              "color": "#C8D4E3"
             },
             "line": {
              "color": "white"
             }
            },
            "type": "table"
           }
          ]
         },
         "layout": {
          "annotationdefaults": {
           "arrowcolor": "#2a3f5f",
           "arrowhead": 0,
           "arrowwidth": 1
          },
          "autotypenumbers": "strict",
          "coloraxis": {
           "colorbar": {
            "outlinewidth": 0,
            "ticks": ""
           }
          },
          "colorscale": {
           "diverging": [
            [
             0,
             "#8e0152"
            ],
            [
             0.1,
             "#c51b7d"
            ],
            [
             0.2,
             "#de77ae"
            ],
            [
             0.3,
             "#f1b6da"
            ],
            [
             0.4,
             "#fde0ef"
            ],
            [
             0.5,
             "#f7f7f7"
            ],
            [
             0.6,
             "#e6f5d0"
            ],
            [
             0.7,
             "#b8e186"
            ],
            [
             0.8,
             "#7fbc41"
            ],
            [
             0.9,
             "#4d9221"
            ],
            [
             1,
             "#276419"
            ]
           ],
           "sequential": [
            [
             0,
             "#0d0887"
            ],
            [
             0.1111111111111111,
             "#46039f"
            ],
            [
             0.2222222222222222,
             "#7201a8"
            ],
            [
             0.3333333333333333,
             "#9c179e"
            ],
            [
             0.4444444444444444,
             "#bd3786"
            ],
            [
             0.5555555555555556,
             "#d8576b"
            ],
            [
             0.6666666666666666,
             "#ed7953"
            ],
            [
             0.7777777777777778,
             "#fb9f3a"
            ],
            [
             0.8888888888888888,
             "#fdca26"
            ],
            [
             1,
             "#f0f921"
            ]
           ],
           "sequentialminus": [
            [
             0,
             "#0d0887"
            ],
            [
             0.1111111111111111,
             "#46039f"
            ],
            [
             0.2222222222222222,
             "#7201a8"
            ],
            [
             0.3333333333333333,
             "#9c179e"
            ],
            [
             0.4444444444444444,
             "#bd3786"
            ],
            [
             0.5555555555555556,
             "#d8576b"
            ],
            [
             0.6666666666666666,
             "#ed7953"
            ],
            [
             0.7777777777777778,
             "#fb9f3a"
            ],
            [
             0.8888888888888888,
             "#fdca26"
            ],
            [
             1,
             "#f0f921"
            ]
           ]
          },
          "colorway": [
           "#636efa",
           "#EF553B",
           "#00cc96",
           "#ab63fa",
           "#FFA15A",
           "#19d3f3",
           "#FF6692",
           "#B6E880",
           "#FF97FF",
           "#FECB52"
          ],
          "font": {
           "color": "#2a3f5f"
          },
          "geo": {
           "bgcolor": "white",
           "lakecolor": "white",
           "landcolor": "#E5ECF6",
           "showlakes": true,
           "showland": true,
           "subunitcolor": "white"
          },
          "hoverlabel": {
           "align": "left"
          },
          "hovermode": "closest",
          "mapbox": {
           "style": "light"
          },
          "paper_bgcolor": "white",
          "plot_bgcolor": "#E5ECF6",
          "polar": {
           "angularaxis": {
            "gridcolor": "white",
            "linecolor": "white",
            "ticks": ""
           },
           "bgcolor": "#E5ECF6",
           "radialaxis": {
            "gridcolor": "white",
            "linecolor": "white",
            "ticks": ""
           }
          },
          "scene": {
           "xaxis": {
            "backgroundcolor": "#E5ECF6",
            "gridcolor": "white",
            "gridwidth": 2,
            "linecolor": "white",
            "showbackground": true,
            "ticks": "",
            "zerolinecolor": "white"
           },
           "yaxis": {
            "backgroundcolor": "#E5ECF6",
            "gridcolor": "white",
            "gridwidth": 2,
            "linecolor": "white",
            "showbackground": true,
            "ticks": "",
            "zerolinecolor": "white"
           },
           "zaxis": {
            "backgroundcolor": "#E5ECF6",
            "gridcolor": "white",
            "gridwidth": 2,
            "linecolor": "white",
            "showbackground": true,
            "ticks": "",
            "zerolinecolor": "white"
           }
          },
          "shapedefaults": {
           "line": {
            "color": "#2a3f5f"
           }
          },
          "ternary": {
           "aaxis": {
            "gridcolor": "white",
            "linecolor": "white",
            "ticks": ""
           },
           "baxis": {
            "gridcolor": "white",
            "linecolor": "white",
            "ticks": ""
           },
           "bgcolor": "#E5ECF6",
           "caxis": {
            "gridcolor": "white",
            "linecolor": "white",
            "ticks": ""
           }
          },
          "title": {
           "x": 0.05
          },
          "xaxis": {
           "automargin": true,
           "gridcolor": "white",
           "linecolor": "white",
           "ticks": "",
           "title": {
            "standoff": 15
           },
           "zerolinecolor": "white",
           "zerolinewidth": 2
          },
          "yaxis": {
           "automargin": true,
           "gridcolor": "white",
           "linecolor": "white",
           "ticks": "",
           "title": {
            "standoff": 15
           },
           "zerolinecolor": "white",
           "zerolinewidth": 2
          }
         }
        },
        "xaxis": {
         "anchor": "y",
         "domain": [
          0,
          1
         ],
         "title": {
          "text": "Population"
         }
        },
        "yaxis": {
         "anchor": "x",
         "domain": [
          0,
          1
         ],
         "title": {
          "text": "Emission"
         }
        }
       }
      }
     },
     "metadata": {},
     "output_type": "display_data"
    }
   ],
   "source": [
    "import plotly.express as px\n",
    "\n",
    "px.scatter(emission_per_capita, x= 'Population', y = 'Emission',  size = 'per_capita', text =emission_per_capita.index )"
   ]
  },
  {
   "cell_type": "markdown",
   "metadata": {},
   "source": [
    "### Right now, we will create the barplot from States for Emission per capita"
   ]
  },
  {
   "cell_type": "code",
   "execution_count": 77,
   "metadata": {},
   "outputs": [],
   "source": [
    "emission_per_capita.sort_values('per_capita', inplace = True)"
   ]
  },
  {
   "cell_type": "code",
   "execution_count": 78,
   "metadata": {},
   "outputs": [
    {
     "data": {
      "application/vnd.plotly.v1+json": {
       "config": {
        "plotlyServerURL": "https://plot.ly"
       },
       "data": [
        {
         "alignmentgroup": "True",
         "hovertemplate": "UF=%{x}<br>per_capita=%{y}<extra></extra>",
         "legendgroup": "",
         "marker": {
          "color": "#636efa",
          "pattern": {
           "shape": ""
          }
         },
         "name": "",
         "offsetgroup": "",
         "orientation": "v",
         "showlegend": false,
         "textposition": "auto",
         "type": "bar",
         "x": [
          "DF",
          "AL",
          "PE",
          "RN",
          "CE",
          "PB",
          "SP",
          "RJ",
          "PI",
          "SE",
          "BA",
          "AP",
          "PR",
          "SC",
          "MG",
          "ES",
          "RS",
          "GO",
          "MA",
          "MS",
          "TO",
          "AM",
          "AC",
          "PA",
          "MT",
          "RO",
          "RR"
         ],
         "xaxis": "x",
         "y": [
          19.39111260820312,
          20.034465228713614,
          20.285645624817548,
          21.864227233090283,
          22.768948586640104,
          23.648217802494976,
          26.579271957744908,
          34.70932811721513,
          35.07094201684997,
          36.706408659781474,
          40.46825413593003,
          46.087532603687094,
          55.491968531423005,
          57.76760399357466,
          60.32276495149194,
          67.86109868173692,
          70.4779679708326,
          86.43507548239398,
          139.34531242052745,
          195.89922026637495,
          257.66230004485175,
          301.0044632288073,
          422.4579275370398,
          438.4342303431012,
          550.0736471069451,
          670.3346621241423,
          832.0776938664202
         ],
         "yaxis": "y"
        }
       ],
       "layout": {
        "barmode": "relative",
        "legend": {
         "tracegroupgap": 0
        },
        "margin": {
         "t": 60
        },
        "template": {
         "data": {
          "bar": [
           {
            "error_x": {
             "color": "#2a3f5f"
            },
            "error_y": {
             "color": "#2a3f5f"
            },
            "marker": {
             "line": {
              "color": "#E5ECF6",
              "width": 0.5
             },
             "pattern": {
              "fillmode": "overlay",
              "size": 10,
              "solidity": 0.2
             }
            },
            "type": "bar"
           }
          ],
          "barpolar": [
           {
            "marker": {
             "line": {
              "color": "#E5ECF6",
              "width": 0.5
             },
             "pattern": {
              "fillmode": "overlay",
              "size": 10,
              "solidity": 0.2
             }
            },
            "type": "barpolar"
           }
          ],
          "carpet": [
           {
            "aaxis": {
             "endlinecolor": "#2a3f5f",
             "gridcolor": "white",
             "linecolor": "white",
             "minorgridcolor": "white",
             "startlinecolor": "#2a3f5f"
            },
            "baxis": {
             "endlinecolor": "#2a3f5f",
             "gridcolor": "white",
             "linecolor": "white",
             "minorgridcolor": "white",
             "startlinecolor": "#2a3f5f"
            },
            "type": "carpet"
           }
          ],
          "choropleth": [
           {
            "colorbar": {
             "outlinewidth": 0,
             "ticks": ""
            },
            "type": "choropleth"
           }
          ],
          "contour": [
           {
            "colorbar": {
             "outlinewidth": 0,
             "ticks": ""
            },
            "colorscale": [
             [
              0,
              "#0d0887"
             ],
             [
              0.1111111111111111,
              "#46039f"
             ],
             [
              0.2222222222222222,
              "#7201a8"
             ],
             [
              0.3333333333333333,
              "#9c179e"
             ],
             [
              0.4444444444444444,
              "#bd3786"
             ],
             [
              0.5555555555555556,
              "#d8576b"
             ],
             [
              0.6666666666666666,
              "#ed7953"
             ],
             [
              0.7777777777777778,
              "#fb9f3a"
             ],
             [
              0.8888888888888888,
              "#fdca26"
             ],
             [
              1,
              "#f0f921"
             ]
            ],
            "type": "contour"
           }
          ],
          "contourcarpet": [
           {
            "colorbar": {
             "outlinewidth": 0,
             "ticks": ""
            },
            "type": "contourcarpet"
           }
          ],
          "heatmap": [
           {
            "colorbar": {
             "outlinewidth": 0,
             "ticks": ""
            },
            "colorscale": [
             [
              0,
              "#0d0887"
             ],
             [
              0.1111111111111111,
              "#46039f"
             ],
             [
              0.2222222222222222,
              "#7201a8"
             ],
             [
              0.3333333333333333,
              "#9c179e"
             ],
             [
              0.4444444444444444,
              "#bd3786"
             ],
             [
              0.5555555555555556,
              "#d8576b"
             ],
             [
              0.6666666666666666,
              "#ed7953"
             ],
             [
              0.7777777777777778,
              "#fb9f3a"
             ],
             [
              0.8888888888888888,
              "#fdca26"
             ],
             [
              1,
              "#f0f921"
             ]
            ],
            "type": "heatmap"
           }
          ],
          "heatmapgl": [
           {
            "colorbar": {
             "outlinewidth": 0,
             "ticks": ""
            },
            "colorscale": [
             [
              0,
              "#0d0887"
             ],
             [
              0.1111111111111111,
              "#46039f"
             ],
             [
              0.2222222222222222,
              "#7201a8"
             ],
             [
              0.3333333333333333,
              "#9c179e"
             ],
             [
              0.4444444444444444,
              "#bd3786"
             ],
             [
              0.5555555555555556,
              "#d8576b"
             ],
             [
              0.6666666666666666,
              "#ed7953"
             ],
             [
              0.7777777777777778,
              "#fb9f3a"
             ],
             [
              0.8888888888888888,
              "#fdca26"
             ],
             [
              1,
              "#f0f921"
             ]
            ],
            "type": "heatmapgl"
           }
          ],
          "histogram": [
           {
            "marker": {
             "pattern": {
              "fillmode": "overlay",
              "size": 10,
              "solidity": 0.2
             }
            },
            "type": "histogram"
           }
          ],
          "histogram2d": [
           {
            "colorbar": {
             "outlinewidth": 0,
             "ticks": ""
            },
            "colorscale": [
             [
              0,
              "#0d0887"
             ],
             [
              0.1111111111111111,
              "#46039f"
             ],
             [
              0.2222222222222222,
              "#7201a8"
             ],
             [
              0.3333333333333333,
              "#9c179e"
             ],
             [
              0.4444444444444444,
              "#bd3786"
             ],
             [
              0.5555555555555556,
              "#d8576b"
             ],
             [
              0.6666666666666666,
              "#ed7953"
             ],
             [
              0.7777777777777778,
              "#fb9f3a"
             ],
             [
              0.8888888888888888,
              "#fdca26"
             ],
             [
              1,
              "#f0f921"
             ]
            ],
            "type": "histogram2d"
           }
          ],
          "histogram2dcontour": [
           {
            "colorbar": {
             "outlinewidth": 0,
             "ticks": ""
            },
            "colorscale": [
             [
              0,
              "#0d0887"
             ],
             [
              0.1111111111111111,
              "#46039f"
             ],
             [
              0.2222222222222222,
              "#7201a8"
             ],
             [
              0.3333333333333333,
              "#9c179e"
             ],
             [
              0.4444444444444444,
              "#bd3786"
             ],
             [
              0.5555555555555556,
              "#d8576b"
             ],
             [
              0.6666666666666666,
              "#ed7953"
             ],
             [
              0.7777777777777778,
              "#fb9f3a"
             ],
             [
              0.8888888888888888,
              "#fdca26"
             ],
             [
              1,
              "#f0f921"
             ]
            ],
            "type": "histogram2dcontour"
           }
          ],
          "mesh3d": [
           {
            "colorbar": {
             "outlinewidth": 0,
             "ticks": ""
            },
            "type": "mesh3d"
           }
          ],
          "parcoords": [
           {
            "line": {
             "colorbar": {
              "outlinewidth": 0,
              "ticks": ""
             }
            },
            "type": "parcoords"
           }
          ],
          "pie": [
           {
            "automargin": true,
            "type": "pie"
           }
          ],
          "scatter": [
           {
            "fillpattern": {
             "fillmode": "overlay",
             "size": 10,
             "solidity": 0.2
            },
            "type": "scatter"
           }
          ],
          "scatter3d": [
           {
            "line": {
             "colorbar": {
              "outlinewidth": 0,
              "ticks": ""
             }
            },
            "marker": {
             "colorbar": {
              "outlinewidth": 0,
              "ticks": ""
             }
            },
            "type": "scatter3d"
           }
          ],
          "scattercarpet": [
           {
            "marker": {
             "colorbar": {
              "outlinewidth": 0,
              "ticks": ""
             }
            },
            "type": "scattercarpet"
           }
          ],
          "scattergeo": [
           {
            "marker": {
             "colorbar": {
              "outlinewidth": 0,
              "ticks": ""
             }
            },
            "type": "scattergeo"
           }
          ],
          "scattergl": [
           {
            "marker": {
             "colorbar": {
              "outlinewidth": 0,
              "ticks": ""
             }
            },
            "type": "scattergl"
           }
          ],
          "scattermapbox": [
           {
            "marker": {
             "colorbar": {
              "outlinewidth": 0,
              "ticks": ""
             }
            },
            "type": "scattermapbox"
           }
          ],
          "scatterpolar": [
           {
            "marker": {
             "colorbar": {
              "outlinewidth": 0,
              "ticks": ""
             }
            },
            "type": "scatterpolar"
           }
          ],
          "scatterpolargl": [
           {
            "marker": {
             "colorbar": {
              "outlinewidth": 0,
              "ticks": ""
             }
            },
            "type": "scatterpolargl"
           }
          ],
          "scatterternary": [
           {
            "marker": {
             "colorbar": {
              "outlinewidth": 0,
              "ticks": ""
             }
            },
            "type": "scatterternary"
           }
          ],
          "surface": [
           {
            "colorbar": {
             "outlinewidth": 0,
             "ticks": ""
            },
            "colorscale": [
             [
              0,
              "#0d0887"
             ],
             [
              0.1111111111111111,
              "#46039f"
             ],
             [
              0.2222222222222222,
              "#7201a8"
             ],
             [
              0.3333333333333333,
              "#9c179e"
             ],
             [
              0.4444444444444444,
              "#bd3786"
             ],
             [
              0.5555555555555556,
              "#d8576b"
             ],
             [
              0.6666666666666666,
              "#ed7953"
             ],
             [
              0.7777777777777778,
              "#fb9f3a"
             ],
             [
              0.8888888888888888,
              "#fdca26"
             ],
             [
              1,
              "#f0f921"
             ]
            ],
            "type": "surface"
           }
          ],
          "table": [
           {
            "cells": {
             "fill": {
              "color": "#EBF0F8"
             },
             "line": {
              "color": "white"
             }
            },
            "header": {
             "fill": {
              "color": "#C8D4E3"
             },
             "line": {
              "color": "white"
             }
            },
            "type": "table"
           }
          ]
         },
         "layout": {
          "annotationdefaults": {
           "arrowcolor": "#2a3f5f",
           "arrowhead": 0,
           "arrowwidth": 1
          },
          "autotypenumbers": "strict",
          "coloraxis": {
           "colorbar": {
            "outlinewidth": 0,
            "ticks": ""
           }
          },
          "colorscale": {
           "diverging": [
            [
             0,
             "#8e0152"
            ],
            [
             0.1,
             "#c51b7d"
            ],
            [
             0.2,
             "#de77ae"
            ],
            [
             0.3,
             "#f1b6da"
            ],
            [
             0.4,
             "#fde0ef"
            ],
            [
             0.5,
             "#f7f7f7"
            ],
            [
             0.6,
             "#e6f5d0"
            ],
            [
             0.7,
             "#b8e186"
            ],
            [
             0.8,
             "#7fbc41"
            ],
            [
             0.9,
             "#4d9221"
            ],
            [
             1,
             "#276419"
            ]
           ],
           "sequential": [
            [
             0,
             "#0d0887"
            ],
            [
             0.1111111111111111,
             "#46039f"
            ],
            [
             0.2222222222222222,
             "#7201a8"
            ],
            [
             0.3333333333333333,
             "#9c179e"
            ],
            [
             0.4444444444444444,
             "#bd3786"
            ],
            [
             0.5555555555555556,
             "#d8576b"
            ],
            [
             0.6666666666666666,
             "#ed7953"
            ],
            [
             0.7777777777777778,
             "#fb9f3a"
            ],
            [
             0.8888888888888888,
             "#fdca26"
            ],
            [
             1,
             "#f0f921"
            ]
           ],
           "sequentialminus": [
            [
             0,
             "#0d0887"
            ],
            [
             0.1111111111111111,
             "#46039f"
            ],
            [
             0.2222222222222222,
             "#7201a8"
            ],
            [
             0.3333333333333333,
             "#9c179e"
            ],
            [
             0.4444444444444444,
             "#bd3786"
            ],
            [
             0.5555555555555556,
             "#d8576b"
            ],
            [
             0.6666666666666666,
             "#ed7953"
            ],
            [
             0.7777777777777778,
             "#fb9f3a"
            ],
            [
             0.8888888888888888,
             "#fdca26"
            ],
            [
             1,
             "#f0f921"
            ]
           ]
          },
          "colorway": [
           "#636efa",
           "#EF553B",
           "#00cc96",
           "#ab63fa",
           "#FFA15A",
           "#19d3f3",
           "#FF6692",
           "#B6E880",
           "#FF97FF",
           "#FECB52"
          ],
          "font": {
           "color": "#2a3f5f"
          },
          "geo": {
           "bgcolor": "white",
           "lakecolor": "white",
           "landcolor": "#E5ECF6",
           "showlakes": true,
           "showland": true,
           "subunitcolor": "white"
          },
          "hoverlabel": {
           "align": "left"
          },
          "hovermode": "closest",
          "mapbox": {
           "style": "light"
          },
          "paper_bgcolor": "white",
          "plot_bgcolor": "#E5ECF6",
          "polar": {
           "angularaxis": {
            "gridcolor": "white",
            "linecolor": "white",
            "ticks": ""
           },
           "bgcolor": "#E5ECF6",
           "radialaxis": {
            "gridcolor": "white",
            "linecolor": "white",
            "ticks": ""
           }
          },
          "scene": {
           "xaxis": {
            "backgroundcolor": "#E5ECF6",
            "gridcolor": "white",
            "gridwidth": 2,
            "linecolor": "white",
            "showbackground": true,
            "ticks": "",
            "zerolinecolor": "white"
           },
           "yaxis": {
            "backgroundcolor": "#E5ECF6",
            "gridcolor": "white",
            "gridwidth": 2,
            "linecolor": "white",
            "showbackground": true,
            "ticks": "",
            "zerolinecolor": "white"
           },
           "zaxis": {
            "backgroundcolor": "#E5ECF6",
            "gridcolor": "white",
            "gridwidth": 2,
            "linecolor": "white",
            "showbackground": true,
            "ticks": "",
            "zerolinecolor": "white"
           }
          },
          "shapedefaults": {
           "line": {
            "color": "#2a3f5f"
           }
          },
          "ternary": {
           "aaxis": {
            "gridcolor": "white",
            "linecolor": "white",
            "ticks": ""
           },
           "baxis": {
            "gridcolor": "white",
            "linecolor": "white",
            "ticks": ""
           },
           "bgcolor": "#E5ECF6",
           "caxis": {
            "gridcolor": "white",
            "linecolor": "white",
            "ticks": ""
           }
          },
          "title": {
           "x": 0.05
          },
          "xaxis": {
           "automargin": true,
           "gridcolor": "white",
           "linecolor": "white",
           "ticks": "",
           "title": {
            "standoff": 15
           },
           "zerolinecolor": "white",
           "zerolinewidth": 2
          },
          "yaxis": {
           "automargin": true,
           "gridcolor": "white",
           "linecolor": "white",
           "ticks": "",
           "title": {
            "standoff": 15
           },
           "zerolinecolor": "white",
           "zerolinewidth": 2
          }
         }
        },
        "xaxis": {
         "anchor": "y",
         "domain": [
          0,
          1
         ],
         "title": {
          "text": "UF"
         }
        },
        "yaxis": {
         "anchor": "x",
         "domain": [
          0,
          1
         ],
         "title": {
          "text": "per_capita"
         }
        }
       }
      }
     },
     "metadata": {},
     "output_type": "display_data"
    }
   ],
   "source": [
    "px.bar(emission_per_capita, x = emission_per_capita.index, y = 'per_capita')"
   ]
  }
 ],
 "metadata": {
  "kernelspec": {
   "display_name": "Python 3",
   "language": "python",
   "name": "python3"
  },
  "language_info": {
   "codemirror_mode": {
    "name": "ipython",
    "version": 3
   },
   "file_extension": ".py",
   "mimetype": "text/x-python",
   "name": "python",
   "nbconvert_exporter": "python",
   "pygments_lexer": "ipython3",
   "version": "3.11.5"
  }
 },
 "nbformat": 4,
 "nbformat_minor": 2
}
